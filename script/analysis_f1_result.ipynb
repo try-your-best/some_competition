{
 "cells": [
  {
   "cell_type": "code",
   "execution_count": 1,
   "metadata": {
    "collapsed": true
   },
   "outputs": [],
   "source": [
    "# pandas\n",
    "import pandas as pd\n",
    "from pandas import Series,DataFrame\n",
    "\n",
    "# numpy, matplotlib, seaborn\n",
    "import numpy as np\n",
    "import matplotlib.pyplot as plt\n",
    "import seaborn as sns\n",
    "sns.set_style('whitegrid')\n",
    "%matplotlib inline\n",
    "\n",
    "pd.set_option('max_colwidth', 200)\n",
    "pd.options.display.max_rows = 200"
   ]
  },
  {
   "cell_type": "code",
   "execution_count": 2,
   "metadata": {
    "collapsed": false
   },
   "outputs": [
    {
     "name": "stderr",
     "output_type": "stream",
     "text": [
      "/home/damonhao/anaconda2/lib/python2.7/site-packages/sklearn/cross_validation.py:44: DeprecationWarning: This module was deprecated in version 0.18 in favor of the model_selection module into which all the refactored classes and functions are moved. Also note that the interface of the new CV iterators are different from that of this module. This module will be removed in 0.20.\n",
      "  \"This module will be removed in 0.20.\", DeprecationWarning)\n"
     ]
    }
   ],
   "source": [
    "from const import *\n",
    "import train_reorder_size_model\n",
    "import utils, predict"
   ]
  },
  {
   "cell_type": "code",
   "execution_count": 3,
   "metadata": {
    "collapsed": true
   },
   "outputs": [],
   "source": [
    "df_analysis = predict.read_max_f1_analysis('../prediction/analysis_08-04-20-56-54_validate_diff_stack.csv')"
   ]
  },
  {
   "cell_type": "code",
   "execution_count": 4,
   "metadata": {
    "collapsed": true
   },
   "outputs": [],
   "source": [
    "df_analysis_real = predict.read_max_f1_analysis('../prediction/analysis_08-04-20-54-13_validate_diff_stack.csv')"
   ]
  },
  {
   "cell_type": "code",
   "execution_count": 16,
   "metadata": {
    "collapsed": true
   },
   "outputs": [],
   "source": [
    "df_predict_reorder_size = pd.read_csv('../prediction/predict_validate_reorder_size.csv')"
   ]
  },
  {
   "cell_type": "code",
   "execution_count": 8,
   "metadata": {
    "collapsed": true
   },
   "outputs": [],
   "source": [
    "df_comp_real = df_analysis.merge(df_analysis_real, how='left', on=[UID], suffixes=['_var', '_real'])"
   ]
  },
  {
   "cell_type": "code",
   "execution_count": 45,
   "metadata": {
    "collapsed": false
   },
   "outputs": [
    {
     "data": {
      "text/plain": [
       "0.470382645137248"
      ]
     },
     "execution_count": 45,
     "metadata": {},
     "output_type": "execute_result"
    }
   ],
   "source": [
    "df_comp_real[df_comp_real.scores_real < df_comp_real.scores_var].scores_var.sum() / df_comp_real[df_comp_real.scores_real < df_comp_real.scores_var].shape[0]"
   ]
  },
  {
   "cell_type": "code",
   "execution_count": 9,
   "metadata": {
    "collapsed": true
   },
   "outputs": [],
   "source": [
    "df_real_greate = df_comp_real[df_comp_real.scores_real > df_comp_real.scores_var]"
   ]
  },
  {
   "cell_type": "code",
   "execution_count": 46,
   "metadata": {
    "collapsed": true
   },
   "outputs": [],
   "source": [
    "df_real_less = df_comp_real[df_comp_real.scores_real < df_comp_real.scores_var]"
   ]
  },
  {
   "cell_type": "code",
   "execution_count": 10,
   "metadata": {
    "collapsed": false
   },
   "outputs": [
    {
     "data": {
      "text/plain": [
       "(12207, 9)"
      ]
     },
     "execution_count": 10,
     "metadata": {},
     "output_type": "execute_result"
    }
   ],
   "source": [
    "df_real_greate.shape"
   ]
  },
  {
   "cell_type": "code",
   "execution_count": 19,
   "metadata": {
    "collapsed": true
   },
   "outputs": [],
   "source": [
    "real_bold_index = df_real_greate.apply(lambda row: len(row['products_real']) > len(row['products_var']) , axis=1)"
   ]
  },
  {
   "cell_type": "code",
   "execution_count": 31,
   "metadata": {
    "collapsed": true
   },
   "outputs": [],
   "source": [
    "df_real_greate_bold = df_real_greate[real_bold_index]"
   ]
  },
  {
   "cell_type": "code",
   "execution_count": 32,
   "metadata": {
    "collapsed": false
   },
   "outputs": [
    {
     "data": {
      "text/plain": [
       "0.13587809158562306"
      ]
     },
     "execution_count": 32,
     "metadata": {},
     "output_type": "execute_result"
    }
   ],
   "source": [
    "(df_real_greate_bold.scores_real - df_real_greate_bold.scores_var).sum() / float(df_real_greate_bold.shape[0])"
   ]
  },
  {
   "cell_type": "code",
   "execution_count": 33,
   "metadata": {
    "collapsed": false
   },
   "outputs": [
    {
     "data": {
      "text/plain": [
       "count    6030.000000\n",
       "mean       11.807629\n",
       "std         7.066314\n",
       "min         2.000000\n",
       "25%         7.000000\n",
       "50%        10.000000\n",
       "75%        15.000000\n",
       "max        71.000000\n",
       "Name: reorder_size, dtype: float64"
      ]
     },
     "execution_count": 33,
     "metadata": {},
     "output_type": "execute_result"
    }
   ],
   "source": [
    "df_predict_reorder_size[df_predict_reorder_size.user_id.isin(df_real_greate_bold.user_id)].reorder_size.describe()"
   ]
  },
  {
   "cell_type": "code",
   "execution_count": 40,
   "metadata": {
    "collapsed": false
   },
   "outputs": [
    {
     "data": {
      "text/plain": [
       "Index([u'user_id', u'reorder_size', u'pred_reorder_size_float',\n",
       "       u'pred_reorder_size'],\n",
       "      dtype='object')"
      ]
     },
     "execution_count": 40,
     "metadata": {},
     "output_type": "execute_result"
    }
   ],
   "source": [
    "df_predict_reorder_size.columns"
   ]
  },
  {
   "cell_type": "code",
   "execution_count": 41,
   "metadata": {
    "collapsed": false
   },
   "outputs": [
    {
     "data": {
      "text/plain": [
       "count    6030.000000\n",
       "mean        7.169818\n",
       "std         4.761419\n",
       "min         1.000000\n",
       "25%         4.000000\n",
       "50%         6.000000\n",
       "75%         9.000000\n",
       "max        42.000000\n",
       "Name: pred_reorder_size, dtype: float64"
      ]
     },
     "execution_count": 41,
     "metadata": {},
     "output_type": "execute_result"
    }
   ],
   "source": [
    "df_predict_reorder_size[df_predict_reorder_size.user_id.isin(df_real_greate_bold.user_id)].pred_reorder_size.describe()"
   ]
  },
  {
   "cell_type": "code",
   "execution_count": 36,
   "metadata": {
    "collapsed": false
   },
   "outputs": [],
   "source": [
    "real_care_index = df_real_greate.apply(lambda row: len(row['products_real']) < len(row['products_var']) and row['true_products_var'][0] is not None , axis=1)"
   ]
  },
  {
   "cell_type": "code",
   "execution_count": 37,
   "metadata": {
    "collapsed": false,
    "scrolled": true
   },
   "outputs": [],
   "source": [
    "df_real_greate_care = df_real_greate[real_care_index]"
   ]
  },
  {
   "cell_type": "code",
   "execution_count": 38,
   "metadata": {
    "collapsed": false
   },
   "outputs": [
    {
     "data": {
      "text/plain": [
       "0.14449750086571694"
      ]
     },
     "execution_count": 38,
     "metadata": {},
     "output_type": "execute_result"
    }
   ],
   "source": [
    "(df_real_greate_care.scores_real - df_real_greate_care.scores_var).sum() / float(df_real_greate_care.shape[0])"
   ]
  },
  {
   "cell_type": "code",
   "execution_count": 39,
   "metadata": {
    "collapsed": false
   },
   "outputs": [
    {
     "data": {
      "text/plain": [
       "count    4446.000000\n",
       "mean        4.721098\n",
       "std         3.692334\n",
       "min         1.000000\n",
       "25%         2.000000\n",
       "50%         4.000000\n",
       "75%         6.000000\n",
       "max        39.000000\n",
       "Name: reorder_size, dtype: float64"
      ]
     },
     "execution_count": 39,
     "metadata": {},
     "output_type": "execute_result"
    }
   ],
   "source": [
    "df_predict_reorder_size[df_predict_reorder_size.user_id.isin(df_real_greate_care.user_id)].reorder_size.describe()"
   ]
  },
  {
   "cell_type": "code",
   "execution_count": 42,
   "metadata": {
    "collapsed": false
   },
   "outputs": [
    {
     "data": {
      "text/plain": [
       "count    4446.000000\n",
       "mean        7.120558\n",
       "std         4.438845\n",
       "min         1.000000\n",
       "25%         4.000000\n",
       "50%         6.000000\n",
       "75%         9.000000\n",
       "max        45.000000\n",
       "Name: pred_reorder_size, dtype: float64"
      ]
     },
     "execution_count": 42,
     "metadata": {},
     "output_type": "execute_result"
    }
   ],
   "source": [
    "df_predict_reorder_size[df_predict_reorder_size.user_id.isin(df_real_greate_care.user_id)].pred_reorder_size.describe()"
   ]
  },
  {
   "cell_type": "code",
   "execution_count": 50,
   "metadata": {
    "collapsed": true
   },
   "outputs": [],
   "source": [
    "none_index = df_comp_real.apply(lambda row: True if row['true_products_var'][0] is None else False, axis=1)"
   ]
  },
  {
   "cell_type": "code",
   "execution_count": 53,
   "metadata": {
    "collapsed": false
   },
   "outputs": [],
   "source": [
    "df_comp_real_none = df_comp_real[none_index]"
   ]
  },
  {
   "cell_type": "code",
   "execution_count": 91,
   "metadata": {
    "collapsed": false,
    "scrolled": true
   },
   "outputs": [
    {
     "data": {
      "text/html": [
       "<div>\n",
       "<table border=\"1\" class=\"dataframe\">\n",
       "  <thead>\n",
       "    <tr style=\"text-align: right;\">\n",
       "      <th></th>\n",
       "      <th>user_id</th>\n",
       "      <th>true_products_var</th>\n",
       "      <th>products_var</th>\n",
       "      <th>best_k_proba_var</th>\n",
       "      <th>scores_var</th>\n",
       "      <th>true_products_real</th>\n",
       "      <th>products_real</th>\n",
       "      <th>best_k_proba_real</th>\n",
       "      <th>scores_real</th>\n",
       "    </tr>\n",
       "  </thead>\n",
       "  <tbody>\n",
       "    <tr>\n",
       "      <th>25530</th>\n",
       "      <td>189065</td>\n",
       "      <td>[None]</td>\n",
       "      <td>[30406, 27104]</td>\n",
       "      <td>[ 0.50445  0.50211]</td>\n",
       "      <td>0.0</td>\n",
       "      <td>[None]</td>\n",
       "      <td>[None]</td>\n",
       "      <td>[ nan]</td>\n",
       "      <td>1.0</td>\n",
       "    </tr>\n",
       "    <tr>\n",
       "      <th>25533</th>\n",
       "      <td>167934</td>\n",
       "      <td>[None]</td>\n",
       "      <td>[47766, 28515]</td>\n",
       "      <td>[ 0.50374  0.48597]</td>\n",
       "      <td>0.0</td>\n",
       "      <td>[None]</td>\n",
       "      <td>[None]</td>\n",
       "      <td>[ nan]</td>\n",
       "      <td>1.0</td>\n",
       "    </tr>\n",
       "    <tr>\n",
       "      <th>25541</th>\n",
       "      <td>193137</td>\n",
       "      <td>[None]</td>\n",
       "      <td>[10054, 21351]</td>\n",
       "      <td>[ 0.5021   0.48128]</td>\n",
       "      <td>0.0</td>\n",
       "      <td>[None]</td>\n",
       "      <td>[None]</td>\n",
       "      <td>[ nan]</td>\n",
       "      <td>1.0</td>\n",
       "    </tr>\n",
       "    <tr>\n",
       "      <th>25543</th>\n",
       "      <td>176196</td>\n",
       "      <td>[None]</td>\n",
       "      <td>[1117, 18465]</td>\n",
       "      <td>[ 0.50182  0.486  ]</td>\n",
       "      <td>0.0</td>\n",
       "      <td>[None]</td>\n",
       "      <td>[None]</td>\n",
       "      <td>[ nan]</td>\n",
       "      <td>1.0</td>\n",
       "    </tr>\n",
       "    <tr>\n",
       "      <th>25549</th>\n",
       "      <td>192204</td>\n",
       "      <td>[None]</td>\n",
       "      <td>[34126, 16083, 31717, 32299, 651]</td>\n",
       "      <td>[ 0.50128  0.48557  0.46073  0.42392  0.39509]</td>\n",
       "      <td>0.0</td>\n",
       "      <td>[None]</td>\n",
       "      <td>[None]</td>\n",
       "      <td>[ nan]</td>\n",
       "      <td>1.0</td>\n",
       "    </tr>\n",
       "    <tr>\n",
       "      <th>25554</th>\n",
       "      <td>185110</td>\n",
       "      <td>[None]</td>\n",
       "      <td>[43892, 12341]</td>\n",
       "      <td>[ 0.50015  0.48564]</td>\n",
       "      <td>0.0</td>\n",
       "      <td>[None]</td>\n",
       "      <td>[None]</td>\n",
       "      <td>[ nan]</td>\n",
       "      <td>1.0</td>\n",
       "    </tr>\n",
       "    <tr>\n",
       "      <th>25601</th>\n",
       "      <td>175116</td>\n",
       "      <td>[None]</td>\n",
       "      <td>[6299, 47626]</td>\n",
       "      <td>[ 0.49105  0.48764]</td>\n",
       "      <td>0.0</td>\n",
       "      <td>[None]</td>\n",
       "      <td>[None]</td>\n",
       "      <td>[ nan]</td>\n",
       "      <td>1.0</td>\n",
       "    </tr>\n",
       "    <tr>\n",
       "      <th>25606</th>\n",
       "      <td>194170</td>\n",
       "      <td>[None]</td>\n",
       "      <td>[25931, 18465, 34943]</td>\n",
       "      <td>[ 0.49017  0.42695  0.36559]</td>\n",
       "      <td>0.0</td>\n",
       "      <td>[None]</td>\n",
       "      <td>[None]</td>\n",
       "      <td>[ nan]</td>\n",
       "      <td>1.0</td>\n",
       "    </tr>\n",
       "    <tr>\n",
       "      <th>25646</th>\n",
       "      <td>190261</td>\n",
       "      <td>[None]</td>\n",
       "      <td>[13974, 24852, 43205]</td>\n",
       "      <td>[ 0.48458  0.45699  0.27818]</td>\n",
       "      <td>0.0</td>\n",
       "      <td>[None]</td>\n",
       "      <td>[None]</td>\n",
       "      <td>[ nan]</td>\n",
       "      <td>1.0</td>\n",
       "    </tr>\n",
       "    <tr>\n",
       "      <th>26042</th>\n",
       "      <td>179181</td>\n",
       "      <td>[None]</td>\n",
       "      <td>[260, 21019, 47766, 44632, 46906]</td>\n",
       "      <td>[ 0.40907  0.40004  0.3717   0.36942  0.36065]</td>\n",
       "      <td>0.0</td>\n",
       "      <td>[None]</td>\n",
       "      <td>[None]</td>\n",
       "      <td>[ nan]</td>\n",
       "      <td>1.0</td>\n",
       "    </tr>\n",
       "  </tbody>\n",
       "</table>\n",
       "</div>"
      ],
      "text/plain": [
       "       user_id true_products_var                       products_var  \\\n",
       "25530   189065            [None]                     [30406, 27104]   \n",
       "25533   167934            [None]                     [47766, 28515]   \n",
       "25541   193137            [None]                     [10054, 21351]   \n",
       "25543   176196            [None]                      [1117, 18465]   \n",
       "25549   192204            [None]  [34126, 16083, 31717, 32299, 651]   \n",
       "25554   185110            [None]                     [43892, 12341]   \n",
       "25601   175116            [None]                      [6299, 47626]   \n",
       "25606   194170            [None]              [25931, 18465, 34943]   \n",
       "25646   190261            [None]              [13974, 24852, 43205]   \n",
       "26042   179181            [None]  [260, 21019, 47766, 44632, 46906]   \n",
       "\n",
       "                                     best_k_proba_var  scores_var  \\\n",
       "25530                             [ 0.50445  0.50211]         0.0   \n",
       "25533                             [ 0.50374  0.48597]         0.0   \n",
       "25541                             [ 0.5021   0.48128]         0.0   \n",
       "25543                             [ 0.50182  0.486  ]         0.0   \n",
       "25549  [ 0.50128  0.48557  0.46073  0.42392  0.39509]         0.0   \n",
       "25554                             [ 0.50015  0.48564]         0.0   \n",
       "25601                             [ 0.49105  0.48764]         0.0   \n",
       "25606                    [ 0.49017  0.42695  0.36559]         0.0   \n",
       "25646                    [ 0.48458  0.45699  0.27818]         0.0   \n",
       "26042  [ 0.40907  0.40004  0.3717   0.36942  0.36065]         0.0   \n",
       "\n",
       "      true_products_real products_real best_k_proba_real  scores_real  \n",
       "25530             [None]        [None]            [ nan]          1.0  \n",
       "25533             [None]        [None]            [ nan]          1.0  \n",
       "25541             [None]        [None]            [ nan]          1.0  \n",
       "25543             [None]        [None]            [ nan]          1.0  \n",
       "25549             [None]        [None]            [ nan]          1.0  \n",
       "25554             [None]        [None]            [ nan]          1.0  \n",
       "25601             [None]        [None]            [ nan]          1.0  \n",
       "25606             [None]        [None]            [ nan]          1.0  \n",
       "25646             [None]        [None]            [ nan]          1.0  \n",
       "26042             [None]        [None]            [ nan]          1.0  "
      ]
     },
     "execution_count": 91,
     "metadata": {},
     "output_type": "execute_result"
    }
   ],
   "source": [
    "df_comp_real_none[df_comp_real_none.scores_var == 0].tail(10)"
   ]
  },
  {
   "cell_type": "code",
   "execution_count": 67,
   "metadata": {
    "collapsed": true
   },
   "outputs": [],
   "source": [
    "df_comp_real_not_none = df_comp_real[~none_index]"
   ]
  },
  {
   "cell_type": "code",
   "execution_count": 72,
   "metadata": {
    "collapsed": false
   },
   "outputs": [
    {
     "data": {
      "text/plain": [
       "(24617, 9)"
      ]
     },
     "execution_count": 72,
     "metadata": {},
     "output_type": "execute_result"
    }
   ],
   "source": [
    "df_comp_real_not_none.shape"
   ]
  },
  {
   "cell_type": "code",
   "execution_count": 73,
   "metadata": {
    "collapsed": false
   },
   "outputs": [],
   "source": [
    "df_real_not_none_greate = df_comp_real_not_none[df_comp_real_not_none.scores_real > df_comp_real_not_none.scores_var]"
   ]
  },
  {
   "cell_type": "code",
   "execution_count": 84,
   "metadata": {
    "collapsed": true
   },
   "outputs": [],
   "source": [
    "def real_bold_func(row):\n",
    "    return len(row['products_real']) > len(row['products_var'])\n",
    "\n",
    "def real_care_func(row):\n",
    "    return len(row['products_real']) < len(row['products_var'])"
   ]
  },
  {
   "cell_type": "code",
   "execution_count": 75,
   "metadata": {
    "collapsed": false
   },
   "outputs": [],
   "source": [
    "not_none_real_bold_index = df_real_not_none_greate.apply(\n",
    "    lambda row: len(row['products_real']) > len(row['products_var']), axis=1)\n",
    "df_real_not_none_greate_bold = df_real_not_none_greate[not_none_real_bold_index]"
   ]
  },
  {
   "cell_type": "code",
   "execution_count": 78,
   "metadata": {
    "collapsed": false
   },
   "outputs": [
    {
     "data": {
      "text/plain": [
       "(10504, 9)"
      ]
     },
     "execution_count": 78,
     "metadata": {},
     "output_type": "execute_result"
    }
   ],
   "source": [
    "df_real_not_none_greate.shape"
   ]
  },
  {
   "cell_type": "code",
   "execution_count": 76,
   "metadata": {
    "collapsed": false
   },
   "outputs": [
    {
     "data": {
      "text/plain": [
       "(6030, 9)"
      ]
     },
     "execution_count": 76,
     "metadata": {},
     "output_type": "execute_result"
    }
   ],
   "source": [
    "df_real_not_none_greate_bold.shape"
   ]
  },
  {
   "cell_type": "code",
   "execution_count": 81,
   "metadata": {
    "collapsed": false
   },
   "outputs": [],
   "source": [
    "df_real_not_none_less = df_comp_real_not_none[df_comp_real_not_none.scores_real < df_comp_real_not_none.scores_var]"
   ]
  },
  {
   "cell_type": "code",
   "execution_count": 85,
   "metadata": {
    "collapsed": false
   },
   "outputs": [],
   "source": [
    "real_not_none_less_care_index = df_real_not_none_less.apply(real_care_func, axis=1)"
   ]
  },
  {
   "cell_type": "code",
   "execution_count": 87,
   "metadata": {
    "collapsed": true
   },
   "outputs": [],
   "source": [
    "df_real_not_none_less_care = df_real_not_none_less[real_not_none_less_care_index]"
   ]
  },
  {
   "cell_type": "code",
   "execution_count": 89,
   "metadata": {
    "collapsed": true
   },
   "outputs": [],
   "source": [
    "df_real_not_none_less_bold = df_real_not_none_less[df_real_not_none_less.apply(real_bold_func, axis=1)]"
   ]
  },
  {
   "cell_type": "code",
   "execution_count": 90,
   "metadata": {
    "collapsed": false
   },
   "outputs": [
    {
     "data": {
      "text/html": [
       "<div>\n",
       "<table border=\"1\" class=\"dataframe\">\n",
       "  <thead>\n",
       "    <tr style=\"text-align: right;\">\n",
       "      <th></th>\n",
       "      <th>user_id</th>\n",
       "      <th>true_products_var</th>\n",
       "      <th>products_var</th>\n",
       "      <th>best_k_proba_var</th>\n",
       "      <th>scores_var</th>\n",
       "      <th>true_products_real</th>\n",
       "      <th>products_real</th>\n",
       "      <th>best_k_proba_real</th>\n",
       "      <th>scores_real</th>\n",
       "    </tr>\n",
       "  </thead>\n",
       "  <tbody>\n",
       "    <tr>\n",
       "      <th>5</th>\n",
       "      <td>169442</td>\n",
       "      <td>[42342, 38772, 28928, 47792, 5876, 8174, 13176, 40706, 30391, 43789, 35946, 19057]</td>\n",
       "      <td>[13176, 42342, 28928, 38772, 40706, 5876, 47792, 30391, 31040, 19057, 43789]</td>\n",
       "      <td>[ 0.92799  0.91975  0.90225  0.90096  0.88249  0.87898  0.87424  0.87173\\n  0.84921  0.80945  0.79494]</td>\n",
       "      <td>0.869565</td>\n",
       "      <td>[42342, 38772, 28928, 47792, 5876, 8174, 13176, 40706, 30391, 43789, 35946, 19057]</td>\n",
       "      <td>[13176, 42342, 28928, 38772, 40706, 5876, 47792, 30391, 31040, 19057, 43789, 21137]</td>\n",
       "      <td>[ 0.92799  0.91975  0.90225  0.90096  0.88249  0.87898  0.87424  0.87173\\n  0.84921  0.80945  0.79494  0.79368]</td>\n",
       "      <td>0.833333</td>\n",
       "    </tr>\n",
       "    <tr>\n",
       "      <th>9</th>\n",
       "      <td>204317</td>\n",
       "      <td>[33198, 12606, 25890]</td>\n",
       "      <td>[33198, 12606]</td>\n",
       "      <td>[ 0.9274   0.90733]</td>\n",
       "      <td>0.800000</td>\n",
       "      <td>[33198, 12606, 25890]</td>\n",
       "      <td>[33198, 12606, 1194]</td>\n",
       "      <td>[ 0.9274   0.90733  0.79162]</td>\n",
       "      <td>0.666667</td>\n",
       "    </tr>\n",
       "    <tr>\n",
       "      <th>13</th>\n",
       "      <td>165978</td>\n",
       "      <td>[33827, 47626, 24852, 3023, 39408, 23322, 21137, 28204, 9362, 38731]</td>\n",
       "      <td>[24852, 47626, 33827, 23322, 39408, 21137, 3023, 25706, 28204]</td>\n",
       "      <td>[ 0.9273   0.92475  0.92439  0.90602  0.89587  0.88451  0.87292  0.85317\\n  0.84342]</td>\n",
       "      <td>0.842105</td>\n",
       "      <td>[33827, 47626, 24852, 3023, 39408, 23322, 21137, 28204, 9362, 38731]</td>\n",
       "      <td>[24852, 47626, 33827, 23322, 39408, 21137, 3023, 25706, 28204, 16489]</td>\n",
       "      <td>[ 0.9273   0.92475  0.92439  0.90602  0.89587  0.88451  0.87292  0.85317\\n  0.84342  0.71182]</td>\n",
       "      <td>0.800000</td>\n",
       "    </tr>\n",
       "    <tr>\n",
       "      <th>14</th>\n",
       "      <td>174647</td>\n",
       "      <td>[5876, 39928, 13176, 14966, 39877, 37646, 43122, 22825, 4920]</td>\n",
       "      <td>[13176, 39877, 37646, 31915, 43122, 8174, 22825, 14966]</td>\n",
       "      <td>[ 0.92722  0.91539  0.90459  0.9018   0.89793  0.8972   0.89583  0.87247]</td>\n",
       "      <td>0.705882</td>\n",
       "      <td>[5876, 39928, 13176, 14966, 39877, 37646, 43122, 22825, 4920]</td>\n",
       "      <td>[13176, 39877, 37646, 31915, 43122, 8174, 22825, 14966, 21288]</td>\n",
       "      <td>[ 0.92722  0.91539  0.90459  0.9018   0.89793  0.8972   0.89583  0.87247\\n  0.85043]</td>\n",
       "      <td>0.666667</td>\n",
       "    </tr>\n",
       "    <tr>\n",
       "      <th>29</th>\n",
       "      <td>165956</td>\n",
       "      <td>[13176, 35649, 14947, 47209, 39877, 18105, 9839, 31915, 16797, 21903, 10246, 36956, 15290, 18465, 41658, 35958, 27966, 38456, 5876, 10017, 39475, 27999, 26940]</td>\n",
       "      <td>[13176, 35649, 39877, 47209, 14947, 31915, 21903, 9839, 18105, 27966, 38456, 39475, 27999, 16797, 5876, 10017, 17459, 35958, 18465, 27104]</td>\n",
       "      <td>[ 0.92675  0.92427  0.92423  0.92408  0.92405  0.92366  0.92302  0.91951\\n  0.91148  0.90658  0.89903  0.89329  0.88756  0.8839   0.87796  0.87617\\n  0.84065  0.83333  0.83194  0.76125]</td>\n",
       "      <td>0.837209</td>\n",
       "      <td>[13176, 35649, 14947, 47209, 39877, 18105, 9839, 31915, 16797, 21903, 10246, 36956, 15290, 18465, 41658, 35958, 27966, 38456, 5876, 10017, 39475, 27999, 26940]</td>\n",
       "      <td>[13176, 35649, 39877, 47209, 14947, 31915, 21903, 9839, 18105, 27966, 38456, 39475, 27999, 16797, 5876, 10017, 17459, 35958, 18465, 27104, 25197, 44306, 1819]</td>\n",
       "      <td>[ 0.92675  0.92427  0.92423  0.92408  0.92405  0.92366  0.92302  0.91951\\n  0.91148  0.90658  0.89903  0.89329  0.88756  0.8839   0.87796  0.87617\\n  0.84065  0.83333  0.83194  0.76125  0.72711  0...</td>\n",
       "      <td>0.782609</td>\n",
       "    </tr>\n",
       "  </tbody>\n",
       "</table>\n",
       "</div>"
      ],
      "text/plain": [
       "    user_id  \\\n",
       "5    169442   \n",
       "9    204317   \n",
       "13   165978   \n",
       "14   174647   \n",
       "29   165956   \n",
       "\n",
       "                                                                                                                                                  true_products_var  \\\n",
       "5                                                                                [42342, 38772, 28928, 47792, 5876, 8174, 13176, 40706, 30391, 43789, 35946, 19057]   \n",
       "9                                                                                                                                             [33198, 12606, 25890]   \n",
       "13                                                                                             [33827, 47626, 24852, 3023, 39408, 23322, 21137, 28204, 9362, 38731]   \n",
       "14                                                                                                    [5876, 39928, 13176, 14966, 39877, 37646, 43122, 22825, 4920]   \n",
       "29  [13176, 35649, 14947, 47209, 39877, 18105, 9839, 31915, 16797, 21903, 10246, 36956, 15290, 18465, 41658, 35958, 27966, 38456, 5876, 10017, 39475, 27999, 26940]   \n",
       "\n",
       "                                                                                                                                  products_var  \\\n",
       "5                                                                 [13176, 42342, 28928, 38772, 40706, 5876, 47792, 30391, 31040, 19057, 43789]   \n",
       "9                                                                                                                               [33198, 12606]   \n",
       "13                                                                              [24852, 47626, 33827, 23322, 39408, 21137, 3023, 25706, 28204]   \n",
       "14                                                                                     [13176, 39877, 37646, 31915, 43122, 8174, 22825, 14966]   \n",
       "29  [13176, 35649, 39877, 47209, 14947, 31915, 21903, 9839, 18105, 27966, 38456, 39475, 27999, 16797, 5876, 10017, 17459, 35958, 18465, 27104]   \n",
       "\n",
       "                                                                                                                                                                             best_k_proba_var  \\\n",
       "5                                                                                      [ 0.92799  0.91975  0.90225  0.90096  0.88249  0.87898  0.87424  0.87173\\n  0.84921  0.80945  0.79494]   \n",
       "9                                                                                                                                                                         [ 0.9274   0.90733]   \n",
       "13                                                                                                       [ 0.9273   0.92475  0.92439  0.90602  0.89587  0.88451  0.87292  0.85317\\n  0.84342]   \n",
       "14                                                                                                                  [ 0.92722  0.91539  0.90459  0.9018   0.89793  0.8972   0.89583  0.87247]   \n",
       "29  [ 0.92675  0.92427  0.92423  0.92408  0.92405  0.92366  0.92302  0.91951\\n  0.91148  0.90658  0.89903  0.89329  0.88756  0.8839   0.87796  0.87617\\n  0.84065  0.83333  0.83194  0.76125]   \n",
       "\n",
       "    scores_var  \\\n",
       "5     0.869565   \n",
       "9     0.800000   \n",
       "13    0.842105   \n",
       "14    0.705882   \n",
       "29    0.837209   \n",
       "\n",
       "                                                                                                                                                 true_products_real  \\\n",
       "5                                                                                [42342, 38772, 28928, 47792, 5876, 8174, 13176, 40706, 30391, 43789, 35946, 19057]   \n",
       "9                                                                                                                                             [33198, 12606, 25890]   \n",
       "13                                                                                             [33827, 47626, 24852, 3023, 39408, 23322, 21137, 28204, 9362, 38731]   \n",
       "14                                                                                                    [5876, 39928, 13176, 14966, 39877, 37646, 43122, 22825, 4920]   \n",
       "29  [13176, 35649, 14947, 47209, 39877, 18105, 9839, 31915, 16797, 21903, 10246, 36956, 15290, 18465, 41658, 35958, 27966, 38456, 5876, 10017, 39475, 27999, 26940]   \n",
       "\n",
       "                                                                                                                                                     products_real  \\\n",
       "5                                                                              [13176, 42342, 28928, 38772, 40706, 5876, 47792, 30391, 31040, 19057, 43789, 21137]   \n",
       "9                                                                                                                                             [33198, 12606, 1194]   \n",
       "13                                                                                           [24852, 47626, 33827, 23322, 39408, 21137, 3023, 25706, 28204, 16489]   \n",
       "14                                                                                                  [13176, 39877, 37646, 31915, 43122, 8174, 22825, 14966, 21288]   \n",
       "29  [13176, 35649, 39877, 47209, 14947, 31915, 21903, 9839, 18105, 27966, 38456, 39475, 27999, 16797, 5876, 10017, 17459, 35958, 18465, 27104, 25197, 44306, 1819]   \n",
       "\n",
       "                                                                                                                                                                                          best_k_proba_real  \\\n",
       "5                                                                                           [ 0.92799  0.91975  0.90225  0.90096  0.88249  0.87898  0.87424  0.87173\\n  0.84921  0.80945  0.79494  0.79368]   \n",
       "9                                                                                                                                                                              [ 0.9274   0.90733  0.79162]   \n",
       "13                                                                                                            [ 0.9273   0.92475  0.92439  0.90602  0.89587  0.88451  0.87292  0.85317\\n  0.84342  0.71182]   \n",
       "14                                                                                                                     [ 0.92722  0.91539  0.90459  0.9018   0.89793  0.8972   0.89583  0.87247\\n  0.85043]   \n",
       "29  [ 0.92675  0.92427  0.92423  0.92408  0.92405  0.92366  0.92302  0.91951\\n  0.91148  0.90658  0.89903  0.89329  0.88756  0.8839   0.87796  0.87617\\n  0.84065  0.83333  0.83194  0.76125  0.72711  0...   \n",
       "\n",
       "    scores_real  \n",
       "5      0.833333  \n",
       "9      0.666667  \n",
       "13     0.800000  \n",
       "14     0.666667  \n",
       "29     0.782609  "
      ]
     },
     "execution_count": 90,
     "metadata": {},
     "output_type": "execute_result"
    }
   ],
   "source": [
    "df_real_not_none_less_bold.head()"
   ]
  },
  {
   "cell_type": "code",
   "execution_count": 79,
   "metadata": {
    "collapsed": false
   },
   "outputs": [
    {
     "data": {
      "text/html": [
       "<div>\n",
       "<table border=\"1\" class=\"dataframe\">\n",
       "  <thead>\n",
       "    <tr style=\"text-align: right;\">\n",
       "      <th></th>\n",
       "      <th>user_id</th>\n",
       "      <th>true_products_var</th>\n",
       "      <th>products_var</th>\n",
       "      <th>best_k_proba_var</th>\n",
       "      <th>scores_var</th>\n",
       "      <th>true_products_real</th>\n",
       "      <th>products_real</th>\n",
       "      <th>best_k_proba_real</th>\n",
       "      <th>scores_real</th>\n",
       "    </tr>\n",
       "  </thead>\n",
       "  <tbody>\n",
       "    <tr>\n",
       "      <th>10</th>\n",
       "      <td>203305</td>\n",
       "      <td>[43154, 19660, 1938]</td>\n",
       "      <td>[43154, 28204, 19660, 45007, 38383]</td>\n",
       "      <td>[ 0.9274   0.91534  0.8919   0.8046   0.75067]</td>\n",
       "      <td>0.500000</td>\n",
       "      <td>[43154, 19660, 1938]</td>\n",
       "      <td>[43154, 28204, 19660]</td>\n",
       "      <td>[ 0.9274   0.91534  0.8919 ]</td>\n",
       "      <td>0.666667</td>\n",
       "    </tr>\n",
       "    <tr>\n",
       "      <th>23</th>\n",
       "      <td>194570</td>\n",
       "      <td>[32403]</td>\n",
       "      <td>[32403, 8048]</td>\n",
       "      <td>[ 0.92684  0.51853]</td>\n",
       "      <td>0.666667</td>\n",
       "      <td>[32403]</td>\n",
       "      <td>[32403]</td>\n",
       "      <td>[ 0.92684]</td>\n",
       "      <td>1.000000</td>\n",
       "    </tr>\n",
       "    <tr>\n",
       "      <th>28</th>\n",
       "      <td>186005</td>\n",
       "      <td>[19660, 37646, 14084, 46969, 30391, 8174, 45364, 39911, 39886, 11520, 49175, 17948, 27156]</td>\n",
       "      <td>[13176, 37646, 19660, 14084, 30391, 46969, 47766, 45007, 39928, 42768, 11520, 8174, 45364, 49175, 2825, 17948, 42265, 41218, 29439, 10644]</td>\n",
       "      <td>[ 0.92675  0.92478  0.92465  0.92388  0.92278  0.9208   0.9169   0.91505\\n  0.91068  0.90799  0.90382  0.9033   0.90123  0.88848  0.83271  0.82894\\n  0.80721  0.80457  0.79744  0.76781]</td>\n",
       "      <td>0.606061</td>\n",
       "      <td>[19660, 37646, 14084, 46969, 30391, 8174, 45364, 39911, 39886, 11520, 49175, 17948, 27156]</td>\n",
       "      <td>[13176, 37646, 19660, 14084, 30391, 46969, 47766, 45007, 39928, 42768, 11520, 8174, 45364]</td>\n",
       "      <td>[ 0.92675  0.92478  0.92465  0.92388  0.92278  0.9208   0.9169   0.91505\\n  0.91068  0.90799  0.90382  0.9033   0.90123]</td>\n",
       "      <td>0.615385</td>\n",
       "    </tr>\n",
       "    <tr>\n",
       "      <th>36</th>\n",
       "      <td>203356</td>\n",
       "      <td>[24852, 9292, 47766, 19057, 6184]</td>\n",
       "      <td>[24852, 47766, 9292, 19057, 6184, 6155]</td>\n",
       "      <td>[ 0.92649  0.91372  0.90126  0.89587  0.89237  0.77606]</td>\n",
       "      <td>0.909091</td>\n",
       "      <td>[24852, 9292, 47766, 19057, 6184]</td>\n",
       "      <td>[24852, 47766, 9292, 19057, 6184]</td>\n",
       "      <td>[ 0.92649  0.91372  0.90126  0.89587  0.89237]</td>\n",
       "      <td>1.000000</td>\n",
       "    </tr>\n",
       "    <tr>\n",
       "      <th>47</th>\n",
       "      <td>198897</td>\n",
       "      <td>[43154, 21572, 196, 13042, 130, 31759, 10310]</td>\n",
       "      <td>[43154, 38928, 48034, 45051, 196, 25146, 116, 10258]</td>\n",
       "      <td>[ 0.92624  0.91008  0.90257  0.8533   0.82174  0.81188  0.7554   0.72138]</td>\n",
       "      <td>0.266667</td>\n",
       "      <td>[43154, 21572, 196, 13042, 130, 31759, 10310]</td>\n",
       "      <td>[43154, 38928, 48034, 45051, 196, 25146, 116]</td>\n",
       "      <td>[ 0.92624  0.91008  0.90257  0.8533   0.82174  0.81188  0.7554 ]</td>\n",
       "      <td>0.285714</td>\n",
       "    </tr>\n",
       "    <tr>\n",
       "      <th>51</th>\n",
       "      <td>202470</td>\n",
       "      <td>[22537, 13176, 17948, 39877, 34126, 39984, 3952, 34134, 14211, 46979, 43961]</td>\n",
       "      <td>[13176, 21405, 39877, 22537, 34126, 43961, 17948, 46979, 21903, 3952, 39984, 22825, 48679, 34134, 35221]</td>\n",
       "      <td>[ 0.92621  0.9164   0.91489  0.91224  0.90653  0.88961  0.8884   0.8878\\n  0.88479  0.88306  0.85286  0.8352   0.82262  0.81275  0.79247]</td>\n",
       "      <td>0.769231</td>\n",
       "      <td>[22537, 13176, 17948, 39877, 34126, 39984, 3952, 34134, 14211, 46979, 43961]</td>\n",
       "      <td>[13176, 21405, 39877, 22537, 34126, 43961, 17948, 46979, 21903, 3952, 39984]</td>\n",
       "      <td>[ 0.92621  0.9164   0.91489  0.91224  0.90653  0.88961  0.8884   0.8878\\n  0.88479  0.88306  0.85286]</td>\n",
       "      <td>0.818182</td>\n",
       "    </tr>\n",
       "    <tr>\n",
       "      <th>69</th>\n",
       "      <td>191767</td>\n",
       "      <td>[196, 43154]</td>\n",
       "      <td>[43154, 196, 12341]</td>\n",
       "      <td>[ 0.92589  0.92455  0.77076]</td>\n",
       "      <td>0.800000</td>\n",
       "      <td>[196, 43154]</td>\n",
       "      <td>[43154, 196]</td>\n",
       "      <td>[ 0.92589  0.92455]</td>\n",
       "      <td>1.000000</td>\n",
       "    </tr>\n",
       "    <tr>\n",
       "      <th>71</th>\n",
       "      <td>185031</td>\n",
       "      <td>[24852, 28204, 26604, 10603, 28985, 4920, 16797, 21903, 47144, 23375, 46802]</td>\n",
       "      <td>[24852, 10603, 28985, 47144, 4920, 26604, 28204, 21903, 16797, 23375, 46802, 41787]</td>\n",
       "      <td>[ 0.92583  0.92241  0.92118  0.92111  0.91923  0.91856  0.91568  0.91143\\n  0.91061  0.88998  0.8826   0.71879]</td>\n",
       "      <td>0.956522</td>\n",
       "      <td>[24852, 28204, 26604, 10603, 28985, 4920, 16797, 21903, 47144, 23375, 46802]</td>\n",
       "      <td>[24852, 10603, 28985, 47144, 4920, 26604, 28204, 21903, 16797, 23375, 46802]</td>\n",
       "      <td>[ 0.92583  0.92241  0.92118  0.92111  0.91923  0.91856  0.91568  0.91143\\n  0.91061  0.88998  0.8826 ]</td>\n",
       "      <td>1.000000</td>\n",
       "    </tr>\n",
       "    <tr>\n",
       "      <th>75</th>\n",
       "      <td>180582</td>\n",
       "      <td>[24852, 28204, 11123, 35042, 47766, 13396, 30849, 35163]</td>\n",
       "      <td>[24852, 11123, 47766, 17615, 30849, 35042, 8424, 12496, 36011, 13396, 38995, 47144, 5077]</td>\n",
       "      <td>[ 0.92579  0.92444  0.91519  0.90747  0.8932   0.89158  0.88276  0.88036\\n  0.87734  0.85819  0.84317  0.82222  0.81428]</td>\n",
       "      <td>0.571429</td>\n",
       "      <td>[24852, 28204, 11123, 35042, 47766, 13396, 30849, 35163]</td>\n",
       "      <td>[24852, 11123, 47766, 17615, 30849, 35042, 8424, 12496]</td>\n",
       "      <td>[ 0.92579  0.92444  0.91519  0.90747  0.8932   0.89158  0.88276  0.88036]</td>\n",
       "      <td>0.625000</td>\n",
       "    </tr>\n",
       "    <tr>\n",
       "      <th>80</th>\n",
       "      <td>179651</td>\n",
       "      <td>[41290, 46886, 28745]</td>\n",
       "      <td>[41290, 28745, 46699, 40198]</td>\n",
       "      <td>[ 0.92569  0.8499   0.68709  0.65251]</td>\n",
       "      <td>0.571429</td>\n",
       "      <td>[41290, 46886, 28745]</td>\n",
       "      <td>[41290, 28745, 46699]</td>\n",
       "      <td>[ 0.92569  0.8499   0.68709]</td>\n",
       "      <td>0.666667</td>\n",
       "    </tr>\n",
       "    <tr>\n",
       "      <th>85</th>\n",
       "      <td>193096</td>\n",
       "      <td>[32403]</td>\n",
       "      <td>[32403, 4580]</td>\n",
       "      <td>[ 0.92564  0.48085]</td>\n",
       "      <td>0.666667</td>\n",
       "      <td>[32403]</td>\n",
       "      <td>[32403]</td>\n",
       "      <td>[ 0.92564]</td>\n",
       "      <td>1.000000</td>\n",
       "    </tr>\n",
       "    <tr>\n",
       "      <th>88</th>\n",
       "      <td>186829</td>\n",
       "      <td>[32047, 8859, 45687, 13237]</td>\n",
       "      <td>[32047, 45687, 3732, 8859, 34582, 13829, 12962]</td>\n",
       "      <td>[ 0.92554  0.91476  0.85733  0.85115  0.82325  0.74703  0.63944]</td>\n",
       "      <td>0.545455</td>\n",
       "      <td>[32047, 8859, 45687, 13237]</td>\n",
       "      <td>[32047, 45687, 3732, 8859]</td>\n",
       "      <td>[ 0.92554  0.91476  0.85733  0.85115]</td>\n",
       "      <td>0.750000</td>\n",
       "    </tr>\n",
       "    <tr>\n",
       "      <th>90</th>\n",
       "      <td>185003</td>\n",
       "      <td>[13176, 19057, 23148, 31555, 33462, 22990]</td>\n",
       "      <td>[13176, 19057, 23148, 31555, 27737, 33462, 8174, 24838]</td>\n",
       "      <td>[ 0.92553  0.92208  0.90382  0.89127  0.85189  0.83117  0.77586  0.73699]</td>\n",
       "      <td>0.714286</td>\n",
       "      <td>[13176, 19057, 23148, 31555, 33462, 22990]</td>\n",
       "      <td>[13176, 19057, 23148, 31555, 27737, 33462]</td>\n",
       "      <td>[ 0.92553  0.92208  0.90382  0.89127  0.85189  0.83117]</td>\n",
       "      <td>0.833333</td>\n",
       "    </tr>\n",
       "    <tr>\n",
       "      <th>94</th>\n",
       "      <td>195326</td>\n",
       "      <td>[12341, 6184, 10326]</td>\n",
       "      <td>[12341, 43352, 6184, 196]</td>\n",
       "      <td>[ 0.92543  0.89057  0.85429  0.70906]</td>\n",
       "      <td>0.571429</td>\n",
       "      <td>[12341, 6184, 10326]</td>\n",
       "      <td>[12341, 43352, 6184]</td>\n",
       "      <td>[ 0.92543  0.89057  0.85429]</td>\n",
       "      <td>0.666667</td>\n",
       "    </tr>\n",
       "    <tr>\n",
       "      <th>96</th>\n",
       "      <td>199236</td>\n",
       "      <td>[21386]</td>\n",
       "      <td>[21386, 5258]</td>\n",
       "      <td>[ 0.92538  0.76602]</td>\n",
       "      <td>0.666667</td>\n",
       "      <td>[21386]</td>\n",
       "      <td>[21386]</td>\n",
       "      <td>[ 0.92538]</td>\n",
       "      <td>1.000000</td>\n",
       "    </tr>\n",
       "    <tr>\n",
       "      <th>103</th>\n",
       "      <td>193076</td>\n",
       "      <td>[22610, 31759, 9007, 32478, 46041, 6184]</td>\n",
       "      <td>[22610, 31759, 32478, 9007, 46041, 6184, 15680]</td>\n",
       "      <td>[ 0.92521  0.92113  0.91999  0.91948  0.91691  0.91498  0.62327]</td>\n",
       "      <td>0.923077</td>\n",
       "      <td>[22610, 31759, 9007, 32478, 46041, 6184]</td>\n",
       "      <td>[22610, 31759, 32478, 9007, 46041, 6184]</td>\n",
       "      <td>[ 0.92521  0.92113  0.91999  0.91948  0.91691  0.91498]</td>\n",
       "      <td>1.000000</td>\n",
       "    </tr>\n",
       "    <tr>\n",
       "      <th>105</th>\n",
       "      <td>165217</td>\n",
       "      <td>[13176, 39877, 44882, 43122, 10305, 148, 8277, 39275]</td>\n",
       "      <td>[13176, 39877, 43122, 44882, 10305, 8277, 148, 39275, 21137, 34005]</td>\n",
       "      <td>[ 0.92519  0.92041  0.92039  0.91537  0.91281  0.90546  0.9048   0.89976\\n  0.85756  0.84134]</td>\n",
       "      <td>0.888889</td>\n",
       "      <td>[13176, 39877, 44882, 43122, 10305, 148, 8277, 39275]</td>\n",
       "      <td>[13176, 39877, 43122, 44882, 10305, 8277, 148, 39275]</td>\n",
       "      <td>[ 0.92519  0.92041  0.92039  0.91537  0.91281  0.90546  0.9048   0.89976]</td>\n",
       "      <td>1.000000</td>\n",
       "    </tr>\n",
       "    <tr>\n",
       "      <th>106</th>\n",
       "      <td>189838</td>\n",
       "      <td>[33381, 4138, 25146]</td>\n",
       "      <td>[33381, 25146, 4138, 4799, 45368]</td>\n",
       "      <td>[ 0.92517  0.91857  0.88492  0.75494  0.73657]</td>\n",
       "      <td>0.750000</td>\n",
       "      <td>[33381, 4138, 25146]</td>\n",
       "      <td>[33381, 25146, 4138]</td>\n",
       "      <td>[ 0.92517  0.91857  0.88492]</td>\n",
       "      <td>1.000000</td>\n",
       "    </tr>\n",
       "    <tr>\n",
       "      <th>122</th>\n",
       "      <td>190517</td>\n",
       "      <td>[19057, 13176, 47209, 42265, 3481, 35363, 30489]</td>\n",
       "      <td>[13176, 19057, 47209, 14233, 42265, 37646, 19660, 25466]</td>\n",
       "      <td>[ 0.92499  0.90363  0.89064  0.88239  0.86018  0.84404  0.82296  0.79849]</td>\n",
       "      <td>0.533333</td>\n",
       "      <td>[19057, 13176, 47209, 42265, 3481, 35363, 30489]</td>\n",
       "      <td>[13176, 19057, 47209, 14233, 42265, 37646, 19660]</td>\n",
       "      <td>[ 0.92499  0.90363  0.89064  0.88239  0.86018  0.84404  0.82296]</td>\n",
       "      <td>0.571429</td>\n",
       "    </tr>\n",
       "    <tr>\n",
       "      <th>123</th>\n",
       "      <td>199327</td>\n",
       "      <td>[23986, 24852, 47766, 27845, 47626, 21903, 39732, 48679, 29127, 14678, 8138, 35734]</td>\n",
       "      <td>[27845, 47766, 24852, 23986, 41842, 35946, 47626, 15290, 45066, 7781, 38544, 21137, 40706]</td>\n",
       "      <td>[ 0.92499  0.92168  0.9122   0.88367  0.85351  0.84957  0.8479   0.79975\\n  0.79549  0.79297  0.78903  0.77342  0.76924]</td>\n",
       "      <td>0.400000</td>\n",
       "      <td>[23986, 24852, 47766, 27845, 47626, 21903, 39732, 48679, 29127, 14678, 8138, 35734]</td>\n",
       "      <td>[27845, 47766, 24852, 23986, 41842, 35946, 47626, 15290, 45066, 7781, 38544, 21137]</td>\n",
       "      <td>[ 0.92499  0.92168  0.9122   0.88367  0.85351  0.84957  0.8479   0.79975\\n  0.79549  0.79297  0.78903  0.77342]</td>\n",
       "      <td>0.416667</td>\n",
       "    </tr>\n",
       "    <tr>\n",
       "      <th>125</th>\n",
       "      <td>192127</td>\n",
       "      <td>[19660, 38490, 27966, 47626, 30776, 34126, 31717, 35535, 27521]</td>\n",
       "      <td>[19660, 38490, 47626, 31717, 30776, 27966, 34126, 920, 27521, 21137, 19613]</td>\n",
       "      <td>[ 0.92497  0.92106  0.9093   0.90396  0.90335  0.8989   0.89061  0.85172\\n  0.83789  0.83786  0.82865]</td>\n",
       "      <td>0.800000</td>\n",
       "      <td>[19660, 38490, 27966, 47626, 30776, 34126, 31717, 35535, 27521]</td>\n",
       "      <td>[19660, 38490, 47626, 31717, 30776, 27966, 34126, 920, 27521]</td>\n",
       "      <td>[ 0.92497  0.92106  0.9093   0.90396  0.90335  0.8989   0.89061  0.85172\\n  0.83789]</td>\n",
       "      <td>0.888889</td>\n",
       "    </tr>\n",
       "    <tr>\n",
       "      <th>132</th>\n",
       "      <td>203204</td>\n",
       "      <td>[12640]</td>\n",
       "      <td>[12640, 8859]</td>\n",
       "      <td>[ 0.9249   0.88697]</td>\n",
       "      <td>0.666667</td>\n",
       "      <td>[12640]</td>\n",
       "      <td>[12640]</td>\n",
       "      <td>[ 0.9249]</td>\n",
       "      <td>1.000000</td>\n",
       "    </tr>\n",
       "    <tr>\n",
       "      <th>133</th>\n",
       "      <td>197576</td>\n",
       "      <td>[29615, 24852, 16797, 3792, 44061, 22312, 35752, 41549, 14280, 29487, 19173, 27548, 5069, 34203, 4447, 26348, 17311, 4574, 46654, 37940, 46023, 17600, 38050, 26604, 22788, 22340, 10957, 24427, 38200]</td>\n",
       "      <td>[29615, 16797, 24852, 22312, 29487, 44061, 4562, 34619, 32851, 2513, 5069, 26348, 46842, 4447, 17311, 8898, 15902, 4317, 19173, 28204, 46023, 2708, 36307, 4574, 46654, 26839, 37940, 41549, 14168, ...</td>\n",
       "      <td>[ 0.92489  0.92113  0.9195   0.9159   0.91442  0.91148  0.9097   0.90417\\n  0.90224  0.90107  0.8989   0.89029  0.88916  0.88693  0.88529  0.88214\\n  0.87914  0.87341  0.87101  0.87056  0.86652  0...</td>\n",
       "      <td>0.516129</td>\n",
       "      <td>[29615, 24852, 16797, 3792, 44061, 22312, 35752, 41549, 14280, 29487, 19173, 27548, 5069, 34203, 4447, 26348, 17311, 4574, 46654, 37940, 46023, 17600, 38050, 26604, 22788, 22340, 10957, 24427, 38200]</td>\n",
       "      <td>[29615, 16797, 24852, 22312, 29487, 44061, 4562, 34619, 32851, 2513, 5069, 26348, 46842, 4447, 17311, 8898, 15902, 4317, 19173, 28204, 46023, 2708, 36307, 4574, 46654, 26839, 37940, 41549, 14168]</td>\n",
       "      <td>[ 0.92489  0.92113  0.9195   0.9159   0.91442  0.91148  0.9097   0.90417\\n  0.90224  0.90107  0.8989   0.89029  0.88916  0.88693  0.88529  0.88214\\n  0.87914  0.87341  0.87101  0.87056  0.86652  0...</td>\n",
       "      <td>0.551724</td>\n",
       "    </tr>\n",
       "    <tr>\n",
       "      <th>140</th>\n",
       "      <td>181352</td>\n",
       "      <td>[44799, 4210, 6046, 21115, 24852, 9076]</td>\n",
       "      <td>[5077, 44799, 6046, 21115, 4210, 22359, 10613, 5750]</td>\n",
       "      <td>[ 0.92484  0.92469  0.90859  0.90192  0.88264  0.86879  0.86618  0.86438]</td>\n",
       "      <td>0.571429</td>\n",
       "      <td>[44799, 4210, 6046, 21115, 24852, 9076]</td>\n",
       "      <td>[5077, 44799, 6046, 21115, 4210, 22359]</td>\n",
       "      <td>[ 0.92484  0.92469  0.90859  0.90192  0.88264  0.86879]</td>\n",
       "      <td>0.666667</td>\n",
       "    </tr>\n",
       "    <tr>\n",
       "      <th>145</th>\n",
       "      <td>186950</td>\n",
       "      <td>[23962]</td>\n",
       "      <td>[23962, 23347]</td>\n",
       "      <td>[ 0.92479  0.76866]</td>\n",
       "      <td>0.666667</td>\n",
       "      <td>[23962]</td>\n",
       "      <td>[23962]</td>\n",
       "      <td>[ 0.92479]</td>\n",
       "      <td>1.000000</td>\n",
       "    </tr>\n",
       "    <tr>\n",
       "      <th>146</th>\n",
       "      <td>177875</td>\n",
       "      <td>[42415, 29367, 24852, 49605, 17150, 26410, 36397, 17562, 41005, 49667, 28458, 31093, 17794, 37141, 24749, 38318]</td>\n",
       "      <td>[24852, 27730, 29367, 6383, 17562, 42415, 26410, 31093, 49605, 47223, 28458, 49667, 17150, 36397, 36758, 41058, 12975, 8230, 36591]</td>\n",
       "      <td>[ 0.92478  0.91763  0.91734  0.8862   0.88209  0.87254  0.86999  0.86835\\n  0.85138  0.85062  0.84681  0.82438  0.8239   0.8219   0.80276  0.79694\\n  0.79502  0.79149  0.77392]</td>\n",
       "      <td>0.628571</td>\n",
       "      <td>[42415, 29367, 24852, 49605, 17150, 26410, 36397, 17562, 41005, 49667, 28458, 31093, 17794, 37141, 24749, 38318]</td>\n",
       "      <td>[24852, 27730, 29367, 6383, 17562, 42415, 26410, 31093, 49605, 47223, 28458, 49667, 17150, 36397, 36758, 41058]</td>\n",
       "      <td>[ 0.92478  0.91763  0.91734  0.8862   0.88209  0.87254  0.86999  0.86835\\n  0.85138  0.85062  0.84681  0.82438  0.8239   0.8219   0.80276  0.79694]</td>\n",
       "      <td>0.687500</td>\n",
       "    </tr>\n",
       "    <tr>\n",
       "      <th>149</th>\n",
       "      <td>185516</td>\n",
       "      <td>[19660, 13176, 49235, 4957, 33787, 33857, 43768, 16521, 22935, 24830, 2314, 18370, 38656, 15014]</td>\n",
       "      <td>[13176, 49235, 19660, 4957, 33787, 22935, 8174, 24830, 48720, 38656, 33857, 26209, 19678, 28597, 33000]</td>\n",
       "      <td>[ 0.92473  0.92113  0.91367  0.91156  0.91016  0.87843  0.8737   0.87273\\n  0.86935  0.86505  0.85641  0.85619  0.82607  0.81932  0.80653]</td>\n",
       "      <td>0.620690</td>\n",
       "      <td>[19660, 13176, 49235, 4957, 33787, 33857, 43768, 16521, 22935, 24830, 2314, 18370, 38656, 15014]</td>\n",
       "      <td>[13176, 49235, 19660, 4957, 33787, 22935, 8174, 24830, 48720, 38656, 33857, 26209, 19678, 28597]</td>\n",
       "      <td>[ 0.92473  0.92113  0.91367  0.91156  0.91016  0.87843  0.8737   0.87273\\n  0.86935  0.86505  0.85641  0.85619  0.82607  0.81932]</td>\n",
       "      <td>0.642857</td>\n",
       "    </tr>\n",
       "    <tr>\n",
       "      <th>150</th>\n",
       "      <td>180141</td>\n",
       "      <td>[6948, 22035, 28427, 2855, 47209]</td>\n",
       "      <td>[22035, 8467, 28427, 6948, 2855, 5612, 47209, 40724]</td>\n",
       "      <td>[ 0.92473  0.92231  0.91673  0.91603  0.91228  0.90666  0.87307  0.85073]</td>\n",
       "      <td>0.769231</td>\n",
       "      <td>[6948, 22035, 28427, 2855, 47209]</td>\n",
       "      <td>[22035, 8467, 28427, 6948, 2855]</td>\n",
       "      <td>[ 0.92473  0.92231  0.91673  0.91603  0.91228]</td>\n",
       "      <td>0.800000</td>\n",
       "    </tr>\n",
       "    <tr>\n",
       "      <th>152</th>\n",
       "      <td>189059</td>\n",
       "      <td>[27325, 19145, 5079, 33823]</td>\n",
       "      <td>[27325, 49235, 19145, 47626, 8193, 15547]</td>\n",
       "      <td>[ 0.92471  0.89942  0.88846  0.87764  0.86057  0.72988]</td>\n",
       "      <td>0.400000</td>\n",
       "      <td>[27325, 19145, 5079, 33823]</td>\n",
       "      <td>[27325, 49235, 19145, 47626]</td>\n",
       "      <td>[ 0.92471  0.89942  0.88846  0.87764]</td>\n",
       "      <td>0.500000</td>\n",
       "    </tr>\n",
       "    <tr>\n",
       "      <th>154</th>\n",
       "      <td>179558</td>\n",
       "      <td>[24852, 35221, 26620, 3283, 28204]</td>\n",
       "      <td>[24852, 35221, 44632, 21709, 20119, 34448, 38164, 41165]</td>\n",
       "      <td>[ 0.9247   0.92144  0.9178   0.91455  0.8896   0.7145   0.63608  0.5686 ]</td>\n",
       "      <td>0.307692</td>\n",
       "      <td>[24852, 35221, 26620, 3283, 28204]</td>\n",
       "      <td>[24852, 35221, 44632, 21709, 20119]</td>\n",
       "      <td>[ 0.9247   0.92144  0.9178   0.91455  0.8896 ]</td>\n",
       "      <td>0.400000</td>\n",
       "    </tr>\n",
       "    <tr>\n",
       "      <th>156</th>\n",
       "      <td>196567</td>\n",
       "      <td>[21288]</td>\n",
       "      <td>[21288, 12341]</td>\n",
       "      <td>[ 0.92468  0.73349]</td>\n",
       "      <td>0.666667</td>\n",
       "      <td>[21288]</td>\n",
       "      <td>[21288]</td>\n",
       "      <td>[ 0.92468]</td>\n",
       "      <td>1.000000</td>\n",
       "    </tr>\n",
       "    <tr>\n",
       "      <th>163</th>\n",
       "      <td>205463</td>\n",
       "      <td>[35417, 27086, 47144, 14467, 20583, 4920, 37067, 49131, 18594, 33787, 39408]</td>\n",
       "      <td>[35417, 27086, 37067, 42342, 14467, 20583, 4920, 49131, 5450, 38357, 33787, 47626, 24964, 48171, 21903]</td>\n",
       "      <td>[ 0.92463  0.91674  0.90867  0.90066  0.8929   0.88764  0.87475  0.87199\\n  0.84397  0.80935  0.78152  0.78149  0.78059  0.76095  0.75412]</td>\n",
       "      <td>0.615385</td>\n",
       "      <td>[35417, 27086, 47144, 14467, 20583, 4920, 37067, 49131, 18594, 33787, 39408]</td>\n",
       "      <td>[35417, 27086, 37067, 42342, 14467, 20583, 4920, 49131, 5450, 38357, 33787]</td>\n",
       "      <td>[ 0.92463  0.91674  0.90867  0.90066  0.8929   0.88764  0.87475  0.87199\\n  0.84397  0.80935  0.78152]</td>\n",
       "      <td>0.727273</td>\n",
       "    </tr>\n",
       "    <tr>\n",
       "      <th>172</th>\n",
       "      <td>200220</td>\n",
       "      <td>[30391, 44750, 37067, 3583, 38739, 38510]</td>\n",
       "      <td>[30391, 37067, 38739, 44750, 3583, 38510, 9337]</td>\n",
       "      <td>[ 0.92455  0.92155  0.91234  0.91133  0.89713  0.88954  0.81991]</td>\n",
       "      <td>0.923077</td>\n",
       "      <td>[30391, 44750, 37067, 3583, 38739, 38510]</td>\n",
       "      <td>[30391, 37067, 38739, 44750, 3583, 38510]</td>\n",
       "      <td>[ 0.92455  0.92155  0.91234  0.91133  0.89713  0.88954]</td>\n",
       "      <td>1.000000</td>\n",
       "    </tr>\n",
       "    <tr>\n",
       "      <th>174</th>\n",
       "      <td>178127</td>\n",
       "      <td>[24852, 46906, 48559, 28842, 44449, 45123]</td>\n",
       "      <td>[24852, 46906, 22089, 6104, 48559, 4675, 42585, 25659, 18564, 45123, 29487, 19057]</td>\n",
       "      <td>[ 0.92452  0.92311  0.90788  0.9056   0.90406  0.88428  0.88413  0.88015\\n  0.83921  0.80935  0.80342  0.79321]</td>\n",
       "      <td>0.444444</td>\n",
       "      <td>[24852, 46906, 48559, 28842, 44449, 45123]</td>\n",
       "      <td>[24852, 46906, 22089, 6104, 48559, 4675]</td>\n",
       "      <td>[ 0.92452  0.92311  0.90788  0.9056   0.90406  0.88428]</td>\n",
       "      <td>0.500000</td>\n",
       "    </tr>\n",
       "    <tr>\n",
       "      <th>175</th>\n",
       "      <td>189546</td>\n",
       "      <td>[26346, 1940, 27845, 35503, 14084, 49235]</td>\n",
       "      <td>[26346, 1940, 49235, 27845, 14084, 35503, 14947, 35221]</td>\n",
       "      <td>[ 0.92452  0.92443  0.92046  0.91899  0.90295  0.87507  0.71819  0.71072]</td>\n",
       "      <td>0.857143</td>\n",
       "      <td>[26346, 1940, 27845, 35503, 14084, 49235]</td>\n",
       "      <td>[26346, 1940, 49235, 27845, 14084, 35503]</td>\n",
       "      <td>[ 0.92452  0.92443  0.92046  0.91899  0.90295  0.87507]</td>\n",
       "      <td>1.000000</td>\n",
       "    </tr>\n",
       "    <tr>\n",
       "      <th>178</th>\n",
       "      <td>168435</td>\n",
       "      <td>[27845, 11068, 15462, 2651]</td>\n",
       "      <td>[27845, 15462, 11068, 6104, 11109]</td>\n",
       "      <td>[ 0.9245   0.91966  0.9088   0.83854  0.7626 ]</td>\n",
       "      <td>0.666667</td>\n",
       "      <td>[27845, 11068, 15462, 2651]</td>\n",
       "      <td>[27845, 15462, 11068, 6104]</td>\n",
       "      <td>[ 0.9245   0.91966  0.9088   0.83854]</td>\n",
       "      <td>0.750000</td>\n",
       "    </tr>\n",
       "    <tr>\n",
       "      <th>181</th>\n",
       "      <td>179544</td>\n",
       "      <td>[44514, 34050, 19660, 5479, 14874, 25931, 26209, 36322, 40604, 17794, 28204, 13988, 24852, 17461]</td>\n",
       "      <td>[19660, 34050, 19019, 27241, 26209, 14874, 45007, 44514, 5479, 41950, 36322, 40604, 25931, 15937, 34358, 4920, 42701, 35287, 33731]</td>\n",
       "      <td>[ 0.92444  0.92135  0.92093  0.91959  0.91737  0.91137  0.91086  0.90921\\n  0.90709  0.9043   0.89852  0.89715  0.89174  0.888    0.885    0.88483\\n  0.84885  0.8371   0.79925]</td>\n",
       "      <td>0.545455</td>\n",
       "      <td>[44514, 34050, 19660, 5479, 14874, 25931, 26209, 36322, 40604, 17794, 28204, 13988, 24852, 17461]</td>\n",
       "      <td>[19660, 34050, 19019, 27241, 26209, 14874, 45007, 44514, 5479, 41950, 36322, 40604, 25931, 15937]</td>\n",
       "      <td>[ 0.92444  0.92135  0.92093  0.91959  0.91737  0.91137  0.91086  0.90921\\n  0.90709  0.9043   0.89852  0.89715  0.89174  0.888  ]</td>\n",
       "      <td>0.642857</td>\n",
       "    </tr>\n",
       "    <tr>\n",
       "      <th>184</th>\n",
       "      <td>195232</td>\n",
       "      <td>[33682, 24852, 33754, 24253, 13249, 33825, 42265, 27845]</td>\n",
       "      <td>[24852, 33682, 33754, 13249, 34635, 27845, 1890, 24253, 34627, 40171]</td>\n",
       "      <td>[ 0.92438  0.92156  0.90571  0.90201  0.90047  0.89548  0.873    0.85988\\n  0.85856  0.83589]</td>\n",
       "      <td>0.666667</td>\n",
       "      <td>[33682, 24852, 33754, 24253, 13249, 33825, 42265, 27845]</td>\n",
       "      <td>[24852, 33682, 33754, 13249, 34635, 27845, 1890, 24253]</td>\n",
       "      <td>[ 0.92438  0.92156  0.90571  0.90201  0.90047  0.89548  0.873    0.85988]</td>\n",
       "      <td>0.750000</td>\n",
       "    </tr>\n",
       "    <tr>\n",
       "      <th>185</th>\n",
       "      <td>182370</td>\n",
       "      <td>[13176, 34126, 6361, 10292, 14992, 13380, 10369, 5959]</td>\n",
       "      <td>[13176, 30442, 34126, 46906, 6361, 31717, 20574, 19057, 23794, 24830]</td>\n",
       "      <td>[ 0.92437  0.88526  0.87905  0.85138  0.82548  0.81235  0.80032  0.78066\\n  0.77644  0.7658 ]</td>\n",
       "      <td>0.333333</td>\n",
       "      <td>[13176, 34126, 6361, 10292, 14992, 13380, 10369, 5959]</td>\n",
       "      <td>[13176, 30442, 34126, 46906, 6361, 31717, 20574, 19057]</td>\n",
       "      <td>[ 0.92437  0.88526  0.87905  0.85138  0.82548  0.81235  0.80032  0.78066]</td>\n",
       "      <td>0.375000</td>\n",
       "    </tr>\n",
       "    <tr>\n",
       "      <th>194</th>\n",
       "      <td>200446</td>\n",
       "      <td>[10227, 1940, 22802, 43352, 15153, 32079]</td>\n",
       "      <td>[1940, 10227, 22802, 15153, 44042, 43352, 42500]</td>\n",
       "      <td>[ 0.92429  0.92246  0.9205   0.83702  0.79711  0.78311  0.70973]</td>\n",
       "      <td>0.769231</td>\n",
       "      <td>[10227, 1940, 22802, 43352, 15153, 32079]</td>\n",
       "      <td>[1940, 10227, 22802, 15153, 44042, 43352]</td>\n",
       "      <td>[ 0.92429  0.92246  0.9205   0.83702  0.79711  0.78311]</td>\n",
       "      <td>0.833333</td>\n",
       "    </tr>\n",
       "    <tr>\n",
       "      <th>196</th>\n",
       "      <td>173619</td>\n",
       "      <td>[38689, 30391, 11945, 39877, 30967, 21903, 37646, 28123, 36258, 22885, 10246, 29370, 44116, 42669, 21137, 27578, 21070]</td>\n",
       "      <td>[30391, 11945, 38689, 39877, 37646, 29370, 18656, 36258, 16759, 10749, 36441, 651, 21137, 30967, 21903, 2732, 44293, 35132]</td>\n",
       "      <td>[ 0.92426  0.92257  0.92094  0.9154   0.90994  0.8872   0.87923  0.87594\\n  0.87493  0.87135  0.86859  0.8556   0.83417  0.83124  0.78063  0.77644\\n  0.77627  0.76163]</td>\n",
       "      <td>0.571429</td>\n",
       "      <td>[38689, 30391, 11945, 39877, 30967, 21903, 37646, 28123, 36258, 22885, 10246, 29370, 44116, 42669, 21137, 27578, 21070]</td>\n",
       "      <td>[30391, 11945, 38689, 39877, 37646, 29370, 18656, 36258, 16759, 10749, 36441, 651, 21137, 30967, 21903, 2732, 44293]</td>\n",
       "      <td>[ 0.92426  0.92257  0.92094  0.9154   0.90994  0.8872   0.87923  0.87594\\n  0.87493  0.87135  0.86859  0.8556   0.83417  0.83124  0.78063  0.77644\\n  0.77627]</td>\n",
       "      <td>0.588235</td>\n",
       "    </tr>\n",
       "    <tr>\n",
       "      <th>198</th>\n",
       "      <td>178540</td>\n",
       "      <td>[24852, 23909, 47144, 6522]</td>\n",
       "      <td>[24852, 4377, 28204, 23909, 21158]</td>\n",
       "      <td>[ 0.92422  0.86368  0.79887  0.77678  0.77111]</td>\n",
       "      <td>0.444444</td>\n",
       "      <td>[24852, 23909, 47144, 6522]</td>\n",
       "      <td>[24852, 4377, 28204, 23909]</td>\n",
       "      <td>[ 0.92422  0.86368  0.79887  0.77678]</td>\n",
       "      <td>0.500000</td>\n",
       "    </tr>\n",
       "    <tr>\n",
       "      <th>203</th>\n",
       "      <td>196364</td>\n",
       "      <td>[196]</td>\n",
       "      <td>[196, 19660, 4731]</td>\n",
       "      <td>[ 0.92415  0.91483  0.70954]</td>\n",
       "      <td>0.500000</td>\n",
       "      <td>[196]</td>\n",
       "      <td>[196]</td>\n",
       "      <td>[ 0.92415]</td>\n",
       "      <td>1.000000</td>\n",
       "    </tr>\n",
       "    <tr>\n",
       "      <th>222</th>\n",
       "      <td>199388</td>\n",
       "      <td>[21137, 14870, 19057, 39928, 44795, 5876]</td>\n",
       "      <td>[21137, 25931, 34448, 14870, 19057, 45007, 39928, 3849, 21497, 48679, 44359]</td>\n",
       "      <td>[ 0.92398  0.92101  0.91972  0.91147  0.90631  0.81568  0.81491  0.81247\\n  0.80821  0.78365  0.77838]</td>\n",
       "      <td>0.470588</td>\n",
       "      <td>[21137, 14870, 19057, 39928, 44795, 5876]</td>\n",
       "      <td>[21137, 25931, 34448, 14870, 19057, 45007]</td>\n",
       "      <td>[ 0.92398  0.92101  0.91972  0.91147  0.90631  0.81568]</td>\n",
       "      <td>0.500000</td>\n",
       "    </tr>\n",
       "    <tr>\n",
       "      <th>224</th>\n",
       "      <td>193660</td>\n",
       "      <td>[13176, 21903, 29594, 16528, 35951, 25138, 30776, 26209, 45007]</td>\n",
       "      <td>[13176, 16528, 35951, 21903, 30776, 26209, 29594, 18531, 28204, 5692]</td>\n",
       "      <td>[ 0.92394  0.91438  0.91392  0.87044  0.85407  0.84155  0.83452  0.81468\\n  0.80726  0.72436]</td>\n",
       "      <td>0.736842</td>\n",
       "      <td>[13176, 21903, 29594, 16528, 35951, 25138, 30776, 26209, 45007]</td>\n",
       "      <td>[13176, 16528, 35951, 21903, 30776, 26209, 29594, 18531, 28204]</td>\n",
       "      <td>[ 0.92394  0.91438  0.91392  0.87044  0.85407  0.84155  0.83452  0.81468\\n  0.80726]</td>\n",
       "      <td>0.777778</td>\n",
       "    </tr>\n",
       "    <tr>\n",
       "      <th>230</th>\n",
       "      <td>174178</td>\n",
       "      <td>[48248, 24852, 35951, 47766, 7503, 47626, 30682, 43961]</td>\n",
       "      <td>[24852, 47766, 48248, 16083, 47626, 35951, 31307, 43961, 21903, 44142, 42768]</td>\n",
       "      <td>[ 0.92389  0.92067  0.90588  0.88721  0.88677  0.8831   0.83625  0.82572\\n  0.8201   0.77292  0.76706]</td>\n",
       "      <td>0.631579</td>\n",
       "      <td>[48248, 24852, 35951, 47766, 7503, 47626, 30682, 43961]</td>\n",
       "      <td>[24852, 47766, 48248, 16083, 47626, 35951, 31307, 43961]</td>\n",
       "      <td>[ 0.92389  0.92067  0.90588  0.88721  0.88677  0.8831   0.83625  0.82572]</td>\n",
       "      <td>0.750000</td>\n",
       "    </tr>\n",
       "    <tr>\n",
       "      <th>236</th>\n",
       "      <td>183159</td>\n",
       "      <td>[25146, 30233, 9426, 42719, 30489, 37220, 22915, 42701, 25965, 28289, 30391]</td>\n",
       "      <td>[25146, 30233, 9426, 21955, 22915, 42719, 25965, 30489, 42701, 28289, 30391, 43262]</td>\n",
       "      <td>[ 0.92386  0.92244  0.9223   0.91006  0.9099   0.90513  0.89631  0.89189\\n  0.88594  0.88499  0.87377  0.64473]</td>\n",
       "      <td>0.869565</td>\n",
       "      <td>[25146, 30233, 9426, 42719, 30489, 37220, 22915, 42701, 25965, 28289, 30391]</td>\n",
       "      <td>[25146, 30233, 9426, 21955, 22915, 42719, 25965, 30489, 42701, 28289, 30391]</td>\n",
       "      <td>[ 0.92386  0.92244  0.9223   0.91006  0.9099   0.90513  0.89631  0.89189\\n  0.88594  0.88499  0.87377]</td>\n",
       "      <td>0.909091</td>\n",
       "    </tr>\n",
       "    <tr>\n",
       "      <th>241</th>\n",
       "      <td>189149</td>\n",
       "      <td>[21903, 10984, 27845, 30962, 44781, 13176, 34622, 8138, 14401, 33559]</td>\n",
       "      <td>[21903, 30962, 49235, 27845, 10984, 41658, 34622, 13176, 17017, 27243, 8021]</td>\n",
       "      <td>[ 0.92379  0.92378  0.92337  0.9203   0.91549  0.89358  0.87889  0.86588\\n  0.85731  0.81425  0.79284]</td>\n",
       "      <td>0.571429</td>\n",
       "      <td>[21903, 10984, 27845, 30962, 44781, 13176, 34622, 8138, 14401, 33559]</td>\n",
       "      <td>[21903, 30962, 49235, 27845, 10984, 41658, 34622, 13176, 17017, 27243]</td>\n",
       "      <td>[ 0.92379  0.92378  0.92337  0.9203   0.91549  0.89358  0.87889  0.86588\\n  0.85731  0.81425]</td>\n",
       "      <td>0.600000</td>\n",
       "    </tr>\n",
       "    <tr>\n",
       "      <th>245</th>\n",
       "      <td>186493</td>\n",
       "      <td>[24852, 36961]</td>\n",
       "      <td>[24852, 47766, 46787, 26497, 47626]</td>\n",
       "      <td>[ 0.92376  0.82859  0.80014  0.75965  0.73701]</td>\n",
       "      <td>0.285714</td>\n",
       "      <td>[24852, 36961]</td>\n",
       "      <td>[24852, 47766]</td>\n",
       "      <td>[ 0.92376  0.82859]</td>\n",
       "      <td>0.500000</td>\n",
       "    </tr>\n",
       "    <tr>\n",
       "      <th>248</th>\n",
       "      <td>200857</td>\n",
       "      <td>[49235, 13176, 24135, 6184, 3798]</td>\n",
       "      <td>[38928, 49235, 13176, 24135, 6184, 17122]</td>\n",
       "      <td>[ 0.92374  0.9215   0.89826  0.88917  0.88163  0.87077]</td>\n",
       "      <td>0.727273</td>\n",
       "      <td>[49235, 13176, 24135, 6184, 3798]</td>\n",
       "      <td>[38928, 49235, 13176, 24135, 6184]</td>\n",
       "      <td>[ 0.92374  0.9215   0.89826  0.88917  0.88163]</td>\n",
       "      <td>0.800000</td>\n",
       "    </tr>\n",
       "  </tbody>\n",
       "</table>\n",
       "</div>"
      ],
      "text/plain": [
       "     user_id  \\\n",
       "10    203305   \n",
       "23    194570   \n",
       "28    186005   \n",
       "36    203356   \n",
       "47    198897   \n",
       "51    202470   \n",
       "69    191767   \n",
       "71    185031   \n",
       "75    180582   \n",
       "80    179651   \n",
       "85    193096   \n",
       "88    186829   \n",
       "90    185003   \n",
       "94    195326   \n",
       "96    199236   \n",
       "103   193076   \n",
       "105   165217   \n",
       "106   189838   \n",
       "122   190517   \n",
       "123   199327   \n",
       "125   192127   \n",
       "132   203204   \n",
       "133   197576   \n",
       "140   181352   \n",
       "145   186950   \n",
       "146   177875   \n",
       "149   185516   \n",
       "150   180141   \n",
       "152   189059   \n",
       "154   179558   \n",
       "156   196567   \n",
       "163   205463   \n",
       "172   200220   \n",
       "174   178127   \n",
       "175   189546   \n",
       "178   168435   \n",
       "181   179544   \n",
       "184   195232   \n",
       "185   182370   \n",
       "194   200446   \n",
       "196   173619   \n",
       "198   178540   \n",
       "203   196364   \n",
       "222   199388   \n",
       "224   193660   \n",
       "230   174178   \n",
       "236   183159   \n",
       "241   189149   \n",
       "245   186493   \n",
       "248   200857   \n",
       "\n",
       "                                                                                                                                                                                           true_products_var  \\\n",
       "10                                                                                                                                                                                      [43154, 19660, 1938]   \n",
       "23                                                                                                                                                                                                   [32403]   \n",
       "28                                                                                                                [19660, 37646, 14084, 46969, 30391, 8174, 45364, 39911, 39886, 11520, 49175, 17948, 27156]   \n",
       "36                                                                                                                                                                         [24852, 9292, 47766, 19057, 6184]   \n",
       "47                                                                                                                                                             [43154, 21572, 196, 13042, 130, 31759, 10310]   \n",
       "51                                                                                                                              [22537, 13176, 17948, 39877, 34126, 39984, 3952, 34134, 14211, 46979, 43961]   \n",
       "69                                                                                                                                                                                              [196, 43154]   \n",
       "71                                                                                                                              [24852, 28204, 26604, 10603, 28985, 4920, 16797, 21903, 47144, 23375, 46802]   \n",
       "75                                                                                                                                                  [24852, 28204, 11123, 35042, 47766, 13396, 30849, 35163]   \n",
       "80                                                                                                                                                                                     [41290, 46886, 28745]   \n",
       "85                                                                                                                                                                                                   [32403]   \n",
       "88                                                                                                                                                                               [32047, 8859, 45687, 13237]   \n",
       "90                                                                                                                                                                [13176, 19057, 23148, 31555, 33462, 22990]   \n",
       "94                                                                                                                                                                                      [12341, 6184, 10326]   \n",
       "96                                                                                                                                                                                                   [21386]   \n",
       "103                                                                                                                                                                 [22610, 31759, 9007, 32478, 46041, 6184]   \n",
       "105                                                                                                                                                    [13176, 39877, 44882, 43122, 10305, 148, 8277, 39275]   \n",
       "106                                                                                                                                                                                     [33381, 4138, 25146]   \n",
       "122                                                                                                                                                         [19057, 13176, 47209, 42265, 3481, 35363, 30489]   \n",
       "123                                                                                                                      [23986, 24852, 47766, 27845, 47626, 21903, 39732, 48679, 29127, 14678, 8138, 35734]   \n",
       "125                                                                                                                                          [19660, 38490, 27966, 47626, 30776, 34126, 31717, 35535, 27521]   \n",
       "132                                                                                                                                                                                                  [12640]   \n",
       "133  [29615, 24852, 16797, 3792, 44061, 22312, 35752, 41549, 14280, 29487, 19173, 27548, 5069, 34203, 4447, 26348, 17311, 4574, 46654, 37940, 46023, 17600, 38050, 26604, 22788, 22340, 10957, 24427, 38200]   \n",
       "140                                                                                                                                                                  [44799, 4210, 6046, 21115, 24852, 9076]   \n",
       "145                                                                                                                                                                                                  [23962]   \n",
       "146                                                                                         [42415, 29367, 24852, 49605, 17150, 26410, 36397, 17562, 41005, 49667, 28458, 31093, 17794, 37141, 24749, 38318]   \n",
       "149                                                                                                         [19660, 13176, 49235, 4957, 33787, 33857, 43768, 16521, 22935, 24830, 2314, 18370, 38656, 15014]   \n",
       "150                                                                                                                                                                        [6948, 22035, 28427, 2855, 47209]   \n",
       "152                                                                                                                                                                              [27325, 19145, 5079, 33823]   \n",
       "154                                                                                                                                                                       [24852, 35221, 26620, 3283, 28204]   \n",
       "156                                                                                                                                                                                                  [21288]   \n",
       "163                                                                                                                             [35417, 27086, 47144, 14467, 20583, 4920, 37067, 49131, 18594, 33787, 39408]   \n",
       "172                                                                                                                                                                [30391, 44750, 37067, 3583, 38739, 38510]   \n",
       "174                                                                                                                                                               [24852, 46906, 48559, 28842, 44449, 45123]   \n",
       "175                                                                                                                                                                [26346, 1940, 27845, 35503, 14084, 49235]   \n",
       "178                                                                                                                                                                              [27845, 11068, 15462, 2651]   \n",
       "181                                                                                                        [44514, 34050, 19660, 5479, 14874, 25931, 26209, 36322, 40604, 17794, 28204, 13988, 24852, 17461]   \n",
       "184                                                                                                                                                 [33682, 24852, 33754, 24253, 13249, 33825, 42265, 27845]   \n",
       "185                                                                                                                                                   [13176, 34126, 6361, 10292, 14992, 13380, 10369, 5959]   \n",
       "194                                                                                                                                                                [10227, 1940, 22802, 43352, 15153, 32079]   \n",
       "196                                                                                  [38689, 30391, 11945, 39877, 30967, 21903, 37646, 28123, 36258, 22885, 10246, 29370, 44116, 42669, 21137, 27578, 21070]   \n",
       "198                                                                                                                                                                              [24852, 23909, 47144, 6522]   \n",
       "203                                                                                                                                                                                                    [196]   \n",
       "222                                                                                                                                                                [21137, 14870, 19057, 39928, 44795, 5876]   \n",
       "224                                                                                                                                          [13176, 21903, 29594, 16528, 35951, 25138, 30776, 26209, 45007]   \n",
       "230                                                                                                                                                  [48248, 24852, 35951, 47766, 7503, 47626, 30682, 43961]   \n",
       "236                                                                                                                             [25146, 30233, 9426, 42719, 30489, 37220, 22915, 42701, 25965, 28289, 30391]   \n",
       "241                                                                                                                                    [21903, 10984, 27845, 30962, 44781, 13176, 34622, 8138, 14401, 33559]   \n",
       "245                                                                                                                                                                                           [24852, 36961]   \n",
       "248                                                                                                                                                                        [49235, 13176, 24135, 6184, 3798]   \n",
       "\n",
       "                                                                                                                                                                                                products_var  \\\n",
       "10                                                                                                                                                                       [43154, 28204, 19660, 45007, 38383]   \n",
       "23                                                                                                                                                                                             [32403, 8048]   \n",
       "28                                                                [13176, 37646, 19660, 14084, 30391, 46969, 47766, 45007, 39928, 42768, 11520, 8174, 45364, 49175, 2825, 17948, 42265, 41218, 29439, 10644]   \n",
       "36                                                                                                                                                                   [24852, 47766, 9292, 19057, 6184, 6155]   \n",
       "47                                                                                                                                                      [43154, 38928, 48034, 45051, 196, 25146, 116, 10258]   \n",
       "51                                                                                                  [13176, 21405, 39877, 22537, 34126, 43961, 17948, 46979, 21903, 3952, 39984, 22825, 48679, 34134, 35221]   \n",
       "69                                                                                                                                                                                       [43154, 196, 12341]   \n",
       "71                                                                                                                       [24852, 10603, 28985, 47144, 4920, 26604, 28204, 21903, 16797, 23375, 46802, 41787]   \n",
       "75                                                                                                                 [24852, 11123, 47766, 17615, 30849, 35042, 8424, 12496, 36011, 13396, 38995, 47144, 5077]   \n",
       "80                                                                                                                                                                              [41290, 28745, 46699, 40198]   \n",
       "85                                                                                                                                                                                             [32403, 4580]   \n",
       "88                                                                                                                                                           [32047, 45687, 3732, 8859, 34582, 13829, 12962]   \n",
       "90                                                                                                                                                   [13176, 19057, 23148, 31555, 27737, 33462, 8174, 24838]   \n",
       "94                                                                                                                                                                                 [12341, 43352, 6184, 196]   \n",
       "96                                                                                                                                                                                             [21386, 5258]   \n",
       "103                                                                                                                                                          [22610, 31759, 32478, 9007, 46041, 6184, 15680]   \n",
       "105                                                                                                                                      [13176, 39877, 43122, 44882, 10305, 8277, 148, 39275, 21137, 34005]   \n",
       "106                                                                                                                                                                        [33381, 25146, 4138, 4799, 45368]   \n",
       "122                                                                                                                                                 [13176, 19057, 47209, 14233, 42265, 37646, 19660, 25466]   \n",
       "123                                                                                                               [27845, 47766, 24852, 23986, 41842, 35946, 47626, 15290, 45066, 7781, 38544, 21137, 40706]   \n",
       "125                                                                                                                              [19660, 38490, 47626, 31717, 30776, 27966, 34126, 920, 27521, 21137, 19613]   \n",
       "132                                                                                                                                                                                            [12640, 8859]   \n",
       "133  [29615, 16797, 24852, 22312, 29487, 44061, 4562, 34619, 32851, 2513, 5069, 26348, 46842, 4447, 17311, 8898, 15902, 4317, 19173, 28204, 46023, 2708, 36307, 4574, 46654, 26839, 37940, 41549, 14168, ...   \n",
       "140                                                                                                                                                     [5077, 44799, 6046, 21115, 4210, 22359, 10613, 5750]   \n",
       "145                                                                                                                                                                                           [23962, 23347]   \n",
       "146                                                                      [24852, 27730, 29367, 6383, 17562, 42415, 26410, 31093, 49605, 47223, 28458, 49667, 17150, 36397, 36758, 41058, 12975, 8230, 36591]   \n",
       "149                                                                                                  [13176, 49235, 19660, 4957, 33787, 22935, 8174, 24830, 48720, 38656, 33857, 26209, 19678, 28597, 33000]   \n",
       "150                                                                                                                                                     [22035, 8467, 28427, 6948, 2855, 5612, 47209, 40724]   \n",
       "152                                                                                                                                                                [27325, 49235, 19145, 47626, 8193, 15547]   \n",
       "154                                                                                                                                                 [24852, 35221, 44632, 21709, 20119, 34448, 38164, 41165]   \n",
       "156                                                                                                                                                                                           [21288, 12341]   \n",
       "163                                                                                                  [35417, 27086, 37067, 42342, 14467, 20583, 4920, 49131, 5450, 38357, 33787, 47626, 24964, 48171, 21903]   \n",
       "172                                                                                                                                                          [30391, 37067, 38739, 44750, 3583, 38510, 9337]   \n",
       "174                                                                                                                       [24852, 46906, 22089, 6104, 48559, 4675, 42585, 25659, 18564, 45123, 29487, 19057]   \n",
       "175                                                                                                                                                  [26346, 1940, 49235, 27845, 14084, 35503, 14947, 35221]   \n",
       "178                                                                                                                                                                       [27845, 15462, 11068, 6104, 11109]   \n",
       "181                                                                      [19660, 34050, 19019, 27241, 26209, 14874, 45007, 44514, 5479, 41950, 36322, 40604, 25931, 15937, 34358, 4920, 42701, 35287, 33731]   \n",
       "184                                                                                                                                    [24852, 33682, 33754, 13249, 34635, 27845, 1890, 24253, 34627, 40171]   \n",
       "185                                                                                                                                    [13176, 30442, 34126, 46906, 6361, 31717, 20574, 19057, 23794, 24830]   \n",
       "194                                                                                                                                                         [1940, 10227, 22802, 15153, 44042, 43352, 42500]   \n",
       "196                                                                              [30391, 11945, 38689, 39877, 37646, 29370, 18656, 36258, 16759, 10749, 36441, 651, 21137, 30967, 21903, 2732, 44293, 35132]   \n",
       "198                                                                                                                                                                       [24852, 4377, 28204, 23909, 21158]   \n",
       "203                                                                                                                                                                                       [196, 19660, 4731]   \n",
       "222                                                                                                                             [21137, 25931, 34448, 14870, 19057, 45007, 39928, 3849, 21497, 48679, 44359]   \n",
       "224                                                                                                                                    [13176, 16528, 35951, 21903, 30776, 26209, 29594, 18531, 28204, 5692]   \n",
       "230                                                                                                                            [24852, 47766, 48248, 16083, 47626, 35951, 31307, 43961, 21903, 44142, 42768]   \n",
       "236                                                                                                                      [25146, 30233, 9426, 21955, 22915, 42719, 25965, 30489, 42701, 28289, 30391, 43262]   \n",
       "241                                                                                                                             [21903, 30962, 49235, 27845, 10984, 41658, 34622, 13176, 17017, 27243, 8021]   \n",
       "245                                                                                                                                                                      [24852, 47766, 46787, 26497, 47626]   \n",
       "248                                                                                                                                                                [38928, 49235, 13176, 24135, 6184, 17122]   \n",
       "\n",
       "                                                                                                                                                                                            best_k_proba_var  \\\n",
       "10                                                                                                                                                            [ 0.9274   0.91534  0.8919   0.8046   0.75067]   \n",
       "23                                                                                                                                                                                       [ 0.92684  0.51853]   \n",
       "28                 [ 0.92675  0.92478  0.92465  0.92388  0.92278  0.9208   0.9169   0.91505\\n  0.91068  0.90799  0.90382  0.9033   0.90123  0.88848  0.83271  0.82894\\n  0.80721  0.80457  0.79744  0.76781]   \n",
       "36                                                                                                                                                   [ 0.92649  0.91372  0.90126  0.89587  0.89237  0.77606]   \n",
       "47                                                                                                                                 [ 0.92624  0.91008  0.90257  0.8533   0.82174  0.81188  0.7554   0.72138]   \n",
       "51                                                                 [ 0.92621  0.9164   0.91489  0.91224  0.90653  0.88961  0.8884   0.8878\\n  0.88479  0.88306  0.85286  0.8352   0.82262  0.81275  0.79247]   \n",
       "69                                                                                                                                                                              [ 0.92589  0.92455  0.77076]   \n",
       "71                                                                                           [ 0.92583  0.92241  0.92118  0.92111  0.91923  0.91856  0.91568  0.91143\\n  0.91061  0.88998  0.8826   0.71879]   \n",
       "75                                                                                  [ 0.92579  0.92444  0.91519  0.90747  0.8932   0.89158  0.88276  0.88036\\n  0.87734  0.85819  0.84317  0.82222  0.81428]   \n",
       "80                                                                                                                                                                     [ 0.92569  0.8499   0.68709  0.65251]   \n",
       "85                                                                                                                                                                                       [ 0.92564  0.48085]   \n",
       "88                                                                                                                                          [ 0.92554  0.91476  0.85733  0.85115  0.82325  0.74703  0.63944]   \n",
       "90                                                                                                                                 [ 0.92553  0.92208  0.90382  0.89127  0.85189  0.83117  0.77586  0.73699]   \n",
       "94                                                                                                                                                                     [ 0.92543  0.89057  0.85429  0.70906]   \n",
       "96                                                                                                                                                                                       [ 0.92538  0.76602]   \n",
       "103                                                                                                                                         [ 0.92521  0.92113  0.91999  0.91948  0.91691  0.91498  0.62327]   \n",
       "105                                                                                                            [ 0.92519  0.92041  0.92039  0.91537  0.91281  0.90546  0.9048   0.89976\\n  0.85756  0.84134]   \n",
       "106                                                                                                                                                           [ 0.92517  0.91857  0.88492  0.75494  0.73657]   \n",
       "122                                                                                                                                [ 0.92499  0.90363  0.89064  0.88239  0.86018  0.84404  0.82296  0.79849]   \n",
       "123                                                                                 [ 0.92499  0.92168  0.9122   0.88367  0.85351  0.84957  0.8479   0.79975\\n  0.79549  0.79297  0.78903  0.77342  0.76924]   \n",
       "125                                                                                                   [ 0.92497  0.92106  0.9093   0.90396  0.90335  0.8989   0.89061  0.85172\\n  0.83789  0.83786  0.82865]   \n",
       "132                                                                                                                                                                                      [ 0.9249   0.88697]   \n",
       "133  [ 0.92489  0.92113  0.9195   0.9159   0.91442  0.91148  0.9097   0.90417\\n  0.90224  0.90107  0.8989   0.89029  0.88916  0.88693  0.88529  0.88214\\n  0.87914  0.87341  0.87101  0.87056  0.86652  0...   \n",
       "140                                                                                                                                [ 0.92484  0.92469  0.90859  0.90192  0.88264  0.86879  0.86618  0.86438]   \n",
       "145                                                                                                                                                                                      [ 0.92479  0.76866]   \n",
       "146                         [ 0.92478  0.91763  0.91734  0.8862   0.88209  0.87254  0.86999  0.86835\\n  0.85138  0.85062  0.84681  0.82438  0.8239   0.8219   0.80276  0.79694\\n  0.79502  0.79149  0.77392]   \n",
       "149                                                               [ 0.92473  0.92113  0.91367  0.91156  0.91016  0.87843  0.8737   0.87273\\n  0.86935  0.86505  0.85641  0.85619  0.82607  0.81932  0.80653]   \n",
       "150                                                                                                                                [ 0.92473  0.92231  0.91673  0.91603  0.91228  0.90666  0.87307  0.85073]   \n",
       "152                                                                                                                                                  [ 0.92471  0.89942  0.88846  0.87764  0.86057  0.72988]   \n",
       "154                                                                                                                                [ 0.9247   0.92144  0.9178   0.91455  0.8896   0.7145   0.63608  0.5686 ]   \n",
       "156                                                                                                                                                                                      [ 0.92468  0.73349]   \n",
       "163                                                               [ 0.92463  0.91674  0.90867  0.90066  0.8929   0.88764  0.87475  0.87199\\n  0.84397  0.80935  0.78152  0.78149  0.78059  0.76095  0.75412]   \n",
       "172                                                                                                                                         [ 0.92455  0.92155  0.91234  0.91133  0.89713  0.88954  0.81991]   \n",
       "174                                                                                          [ 0.92452  0.92311  0.90788  0.9056   0.90406  0.88428  0.88413  0.88015\\n  0.83921  0.80935  0.80342  0.79321]   \n",
       "175                                                                                                                                [ 0.92452  0.92443  0.92046  0.91899  0.90295  0.87507  0.71819  0.71072]   \n",
       "178                                                                                                                                                           [ 0.9245   0.91966  0.9088   0.83854  0.7626 ]   \n",
       "181                         [ 0.92444  0.92135  0.92093  0.91959  0.91737  0.91137  0.91086  0.90921\\n  0.90709  0.9043   0.89852  0.89715  0.89174  0.888    0.885    0.88483\\n  0.84885  0.8371   0.79925]   \n",
       "184                                                                                                            [ 0.92438  0.92156  0.90571  0.90201  0.90047  0.89548  0.873    0.85988\\n  0.85856  0.83589]   \n",
       "185                                                                                                            [ 0.92437  0.88526  0.87905  0.85138  0.82548  0.81235  0.80032  0.78066\\n  0.77644  0.7658 ]   \n",
       "194                                                                                                                                         [ 0.92429  0.92246  0.9205   0.83702  0.79711  0.78311  0.70973]   \n",
       "196                                  [ 0.92426  0.92257  0.92094  0.9154   0.90994  0.8872   0.87923  0.87594\\n  0.87493  0.87135  0.86859  0.8556   0.83417  0.83124  0.78063  0.77644\\n  0.77627  0.76163]   \n",
       "198                                                                                                                                                           [ 0.92422  0.86368  0.79887  0.77678  0.77111]   \n",
       "203                                                                                                                                                                             [ 0.92415  0.91483  0.70954]   \n",
       "222                                                                                                   [ 0.92398  0.92101  0.91972  0.91147  0.90631  0.81568  0.81491  0.81247\\n  0.80821  0.78365  0.77838]   \n",
       "224                                                                                                            [ 0.92394  0.91438  0.91392  0.87044  0.85407  0.84155  0.83452  0.81468\\n  0.80726  0.72436]   \n",
       "230                                                                                                   [ 0.92389  0.92067  0.90588  0.88721  0.88677  0.8831   0.83625  0.82572\\n  0.8201   0.77292  0.76706]   \n",
       "236                                                                                          [ 0.92386  0.92244  0.9223   0.91006  0.9099   0.90513  0.89631  0.89189\\n  0.88594  0.88499  0.87377  0.64473]   \n",
       "241                                                                                                   [ 0.92379  0.92378  0.92337  0.9203   0.91549  0.89358  0.87889  0.86588\\n  0.85731  0.81425  0.79284]   \n",
       "245                                                                                                                                                           [ 0.92376  0.82859  0.80014  0.75965  0.73701]   \n",
       "248                                                                                                                                                  [ 0.92374  0.9215   0.89826  0.88917  0.88163  0.87077]   \n",
       "\n",
       "     scores_var  \\\n",
       "10     0.500000   \n",
       "23     0.666667   \n",
       "28     0.606061   \n",
       "36     0.909091   \n",
       "47     0.266667   \n",
       "51     0.769231   \n",
       "69     0.800000   \n",
       "71     0.956522   \n",
       "75     0.571429   \n",
       "80     0.571429   \n",
       "85     0.666667   \n",
       "88     0.545455   \n",
       "90     0.714286   \n",
       "94     0.571429   \n",
       "96     0.666667   \n",
       "103    0.923077   \n",
       "105    0.888889   \n",
       "106    0.750000   \n",
       "122    0.533333   \n",
       "123    0.400000   \n",
       "125    0.800000   \n",
       "132    0.666667   \n",
       "133    0.516129   \n",
       "140    0.571429   \n",
       "145    0.666667   \n",
       "146    0.628571   \n",
       "149    0.620690   \n",
       "150    0.769231   \n",
       "152    0.400000   \n",
       "154    0.307692   \n",
       "156    0.666667   \n",
       "163    0.615385   \n",
       "172    0.923077   \n",
       "174    0.444444   \n",
       "175    0.857143   \n",
       "178    0.666667   \n",
       "181    0.545455   \n",
       "184    0.666667   \n",
       "185    0.333333   \n",
       "194    0.769231   \n",
       "196    0.571429   \n",
       "198    0.444444   \n",
       "203    0.500000   \n",
       "222    0.470588   \n",
       "224    0.736842   \n",
       "230    0.631579   \n",
       "236    0.869565   \n",
       "241    0.571429   \n",
       "245    0.285714   \n",
       "248    0.727273   \n",
       "\n",
       "                                                                                                                                                                                          true_products_real  \\\n",
       "10                                                                                                                                                                                      [43154, 19660, 1938]   \n",
       "23                                                                                                                                                                                                   [32403]   \n",
       "28                                                                                                                [19660, 37646, 14084, 46969, 30391, 8174, 45364, 39911, 39886, 11520, 49175, 17948, 27156]   \n",
       "36                                                                                                                                                                         [24852, 9292, 47766, 19057, 6184]   \n",
       "47                                                                                                                                                             [43154, 21572, 196, 13042, 130, 31759, 10310]   \n",
       "51                                                                                                                              [22537, 13176, 17948, 39877, 34126, 39984, 3952, 34134, 14211, 46979, 43961]   \n",
       "69                                                                                                                                                                                              [196, 43154]   \n",
       "71                                                                                                                              [24852, 28204, 26604, 10603, 28985, 4920, 16797, 21903, 47144, 23375, 46802]   \n",
       "75                                                                                                                                                  [24852, 28204, 11123, 35042, 47766, 13396, 30849, 35163]   \n",
       "80                                                                                                                                                                                     [41290, 46886, 28745]   \n",
       "85                                                                                                                                                                                                   [32403]   \n",
       "88                                                                                                                                                                               [32047, 8859, 45687, 13237]   \n",
       "90                                                                                                                                                                [13176, 19057, 23148, 31555, 33462, 22990]   \n",
       "94                                                                                                                                                                                      [12341, 6184, 10326]   \n",
       "96                                                                                                                                                                                                   [21386]   \n",
       "103                                                                                                                                                                 [22610, 31759, 9007, 32478, 46041, 6184]   \n",
       "105                                                                                                                                                    [13176, 39877, 44882, 43122, 10305, 148, 8277, 39275]   \n",
       "106                                                                                                                                                                                     [33381, 4138, 25146]   \n",
       "122                                                                                                                                                         [19057, 13176, 47209, 42265, 3481, 35363, 30489]   \n",
       "123                                                                                                                      [23986, 24852, 47766, 27845, 47626, 21903, 39732, 48679, 29127, 14678, 8138, 35734]   \n",
       "125                                                                                                                                          [19660, 38490, 27966, 47626, 30776, 34126, 31717, 35535, 27521]   \n",
       "132                                                                                                                                                                                                  [12640]   \n",
       "133  [29615, 24852, 16797, 3792, 44061, 22312, 35752, 41549, 14280, 29487, 19173, 27548, 5069, 34203, 4447, 26348, 17311, 4574, 46654, 37940, 46023, 17600, 38050, 26604, 22788, 22340, 10957, 24427, 38200]   \n",
       "140                                                                                                                                                                  [44799, 4210, 6046, 21115, 24852, 9076]   \n",
       "145                                                                                                                                                                                                  [23962]   \n",
       "146                                                                                         [42415, 29367, 24852, 49605, 17150, 26410, 36397, 17562, 41005, 49667, 28458, 31093, 17794, 37141, 24749, 38318]   \n",
       "149                                                                                                         [19660, 13176, 49235, 4957, 33787, 33857, 43768, 16521, 22935, 24830, 2314, 18370, 38656, 15014]   \n",
       "150                                                                                                                                                                        [6948, 22035, 28427, 2855, 47209]   \n",
       "152                                                                                                                                                                              [27325, 19145, 5079, 33823]   \n",
       "154                                                                                                                                                                       [24852, 35221, 26620, 3283, 28204]   \n",
       "156                                                                                                                                                                                                  [21288]   \n",
       "163                                                                                                                             [35417, 27086, 47144, 14467, 20583, 4920, 37067, 49131, 18594, 33787, 39408]   \n",
       "172                                                                                                                                                                [30391, 44750, 37067, 3583, 38739, 38510]   \n",
       "174                                                                                                                                                               [24852, 46906, 48559, 28842, 44449, 45123]   \n",
       "175                                                                                                                                                                [26346, 1940, 27845, 35503, 14084, 49235]   \n",
       "178                                                                                                                                                                              [27845, 11068, 15462, 2651]   \n",
       "181                                                                                                        [44514, 34050, 19660, 5479, 14874, 25931, 26209, 36322, 40604, 17794, 28204, 13988, 24852, 17461]   \n",
       "184                                                                                                                                                 [33682, 24852, 33754, 24253, 13249, 33825, 42265, 27845]   \n",
       "185                                                                                                                                                   [13176, 34126, 6361, 10292, 14992, 13380, 10369, 5959]   \n",
       "194                                                                                                                                                                [10227, 1940, 22802, 43352, 15153, 32079]   \n",
       "196                                                                                  [38689, 30391, 11945, 39877, 30967, 21903, 37646, 28123, 36258, 22885, 10246, 29370, 44116, 42669, 21137, 27578, 21070]   \n",
       "198                                                                                                                                                                              [24852, 23909, 47144, 6522]   \n",
       "203                                                                                                                                                                                                    [196]   \n",
       "222                                                                                                                                                                [21137, 14870, 19057, 39928, 44795, 5876]   \n",
       "224                                                                                                                                          [13176, 21903, 29594, 16528, 35951, 25138, 30776, 26209, 45007]   \n",
       "230                                                                                                                                                  [48248, 24852, 35951, 47766, 7503, 47626, 30682, 43961]   \n",
       "236                                                                                                                             [25146, 30233, 9426, 42719, 30489, 37220, 22915, 42701, 25965, 28289, 30391]   \n",
       "241                                                                                                                                    [21903, 10984, 27845, 30962, 44781, 13176, 34622, 8138, 14401, 33559]   \n",
       "245                                                                                                                                                                                           [24852, 36961]   \n",
       "248                                                                                                                                                                        [49235, 13176, 24135, 6184, 3798]   \n",
       "\n",
       "                                                                                                                                                                                           products_real  \\\n",
       "10                                                                                                                                                                                 [43154, 28204, 19660]   \n",
       "23                                                                                                                                                                                               [32403]   \n",
       "28                                                                                                            [13176, 37646, 19660, 14084, 30391, 46969, 47766, 45007, 39928, 42768, 11520, 8174, 45364]   \n",
       "36                                                                                                                                                                     [24852, 47766, 9292, 19057, 6184]   \n",
       "47                                                                                                                                                         [43154, 38928, 48034, 45051, 196, 25146, 116]   \n",
       "51                                                                                                                          [13176, 21405, 39877, 22537, 34126, 43961, 17948, 46979, 21903, 3952, 39984]   \n",
       "69                                                                                                                                                                                          [43154, 196]   \n",
       "71                                                                                                                          [24852, 10603, 28985, 47144, 4920, 26604, 28204, 21903, 16797, 23375, 46802]   \n",
       "75                                                                                                                                               [24852, 11123, 47766, 17615, 30849, 35042, 8424, 12496]   \n",
       "80                                                                                                                                                                                 [41290, 28745, 46699]   \n",
       "85                                                                                                                                                                                               [32403]   \n",
       "88                                                                                                                                                                            [32047, 45687, 3732, 8859]   \n",
       "90                                                                                                                                                            [13176, 19057, 23148, 31555, 27737, 33462]   \n",
       "94                                                                                                                                                                                  [12341, 43352, 6184]   \n",
       "96                                                                                                                                                                                               [21386]   \n",
       "103                                                                                                                                                             [22610, 31759, 32478, 9007, 46041, 6184]   \n",
       "105                                                                                                                                                [13176, 39877, 43122, 44882, 10305, 8277, 148, 39275]   \n",
       "106                                                                                                                                                                                 [33381, 25146, 4138]   \n",
       "122                                                                                                                                                    [13176, 19057, 47209, 14233, 42265, 37646, 19660]   \n",
       "123                                                                                                                  [27845, 47766, 24852, 23986, 41842, 35946, 47626, 15290, 45066, 7781, 38544, 21137]   \n",
       "125                                                                                                                                        [19660, 38490, 47626, 31717, 30776, 27966, 34126, 920, 27521]   \n",
       "132                                                                                                                                                                                              [12640]   \n",
       "133  [29615, 16797, 24852, 22312, 29487, 44061, 4562, 34619, 32851, 2513, 5069, 26348, 46842, 4447, 17311, 8898, 15902, 4317, 19173, 28204, 46023, 2708, 36307, 4574, 46654, 26839, 37940, 41549, 14168]   \n",
       "140                                                                                                                                                              [5077, 44799, 6046, 21115, 4210, 22359]   \n",
       "145                                                                                                                                                                                              [23962]   \n",
       "146                                                                                      [24852, 27730, 29367, 6383, 17562, 42415, 26410, 31093, 49605, 47223, 28458, 49667, 17150, 36397, 36758, 41058]   \n",
       "149                                                                                                     [13176, 49235, 19660, 4957, 33787, 22935, 8174, 24830, 48720, 38656, 33857, 26209, 19678, 28597]   \n",
       "150                                                                                                                                                                     [22035, 8467, 28427, 6948, 2855]   \n",
       "152                                                                                                                                                                         [27325, 49235, 19145, 47626]   \n",
       "154                                                                                                                                                                  [24852, 35221, 44632, 21709, 20119]   \n",
       "156                                                                                                                                                                                              [21288]   \n",
       "163                                                                                                                          [35417, 27086, 37067, 42342, 14467, 20583, 4920, 49131, 5450, 38357, 33787]   \n",
       "172                                                                                                                                                            [30391, 37067, 38739, 44750, 3583, 38510]   \n",
       "174                                                                                                                                                             [24852, 46906, 22089, 6104, 48559, 4675]   \n",
       "175                                                                                                                                                            [26346, 1940, 49235, 27845, 14084, 35503]   \n",
       "178                                                                                                                                                                          [27845, 15462, 11068, 6104]   \n",
       "181                                                                                                    [19660, 34050, 19019, 27241, 26209, 14874, 45007, 44514, 5479, 41950, 36322, 40604, 25931, 15937]   \n",
       "184                                                                                                                                              [24852, 33682, 33754, 13249, 34635, 27845, 1890, 24253]   \n",
       "185                                                                                                                                              [13176, 30442, 34126, 46906, 6361, 31717, 20574, 19057]   \n",
       "194                                                                                                                                                            [1940, 10227, 22802, 15153, 44042, 43352]   \n",
       "196                                                                                 [30391, 11945, 38689, 39877, 37646, 29370, 18656, 36258, 16759, 10749, 36441, 651, 21137, 30967, 21903, 2732, 44293]   \n",
       "198                                                                                                                                                                          [24852, 4377, 28204, 23909]   \n",
       "203                                                                                                                                                                                                [196]   \n",
       "222                                                                                                                                                           [21137, 25931, 34448, 14870, 19057, 45007]   \n",
       "224                                                                                                                                      [13176, 16528, 35951, 21903, 30776, 26209, 29594, 18531, 28204]   \n",
       "230                                                                                                                                             [24852, 47766, 48248, 16083, 47626, 35951, 31307, 43961]   \n",
       "236                                                                                                                         [25146, 30233, 9426, 21955, 22915, 42719, 25965, 30489, 42701, 28289, 30391]   \n",
       "241                                                                                                                               [21903, 30962, 49235, 27845, 10984, 41658, 34622, 13176, 17017, 27243]   \n",
       "245                                                                                                                                                                                       [24852, 47766]   \n",
       "248                                                                                                                                                                   [38928, 49235, 13176, 24135, 6184]   \n",
       "\n",
       "                                                                                                                                                                                           best_k_proba_real  \\\n",
       "10                                                                                                                                                                              [ 0.9274   0.91534  0.8919 ]   \n",
       "23                                                                                                                                                                                                [ 0.92684]   \n",
       "28                                                                                  [ 0.92675  0.92478  0.92465  0.92388  0.92278  0.9208   0.9169   0.91505\\n  0.91068  0.90799  0.90382  0.9033   0.90123]   \n",
       "36                                                                                                                                                            [ 0.92649  0.91372  0.90126  0.89587  0.89237]   \n",
       "47                                                                                                                                          [ 0.92624  0.91008  0.90257  0.8533   0.82174  0.81188  0.7554 ]   \n",
       "51                                                                                                     [ 0.92621  0.9164   0.91489  0.91224  0.90653  0.88961  0.8884   0.8878\\n  0.88479  0.88306  0.85286]   \n",
       "69                                                                                                                                                                                       [ 0.92589  0.92455]   \n",
       "71                                                                                                    [ 0.92583  0.92241  0.92118  0.92111  0.91923  0.91856  0.91568  0.91143\\n  0.91061  0.88998  0.8826 ]   \n",
       "75                                                                                                                                 [ 0.92579  0.92444  0.91519  0.90747  0.8932   0.89158  0.88276  0.88036]   \n",
       "80                                                                                                                                                                              [ 0.92569  0.8499   0.68709]   \n",
       "85                                                                                                                                                                                                [ 0.92564]   \n",
       "88                                                                                                                                                                     [ 0.92554  0.91476  0.85733  0.85115]   \n",
       "90                                                                                                                                                   [ 0.92553  0.92208  0.90382  0.89127  0.85189  0.83117]   \n",
       "94                                                                                                                                                                              [ 0.92543  0.89057  0.85429]   \n",
       "96                                                                                                                                                                                                [ 0.92538]   \n",
       "103                                                                                                                                                  [ 0.92521  0.92113  0.91999  0.91948  0.91691  0.91498]   \n",
       "105                                                                                                                                [ 0.92519  0.92041  0.92039  0.91537  0.91281  0.90546  0.9048   0.89976]   \n",
       "106                                                                                                                                                                             [ 0.92517  0.91857  0.88492]   \n",
       "122                                                                                                                                         [ 0.92499  0.90363  0.89064  0.88239  0.86018  0.84404  0.82296]   \n",
       "123                                                                                          [ 0.92499  0.92168  0.9122   0.88367  0.85351  0.84957  0.8479   0.79975\\n  0.79549  0.79297  0.78903  0.77342]   \n",
       "125                                                                                                                     [ 0.92497  0.92106  0.9093   0.90396  0.90335  0.8989   0.89061  0.85172\\n  0.83789]   \n",
       "132                                                                                                                                                                                                [ 0.9249]   \n",
       "133  [ 0.92489  0.92113  0.9195   0.9159   0.91442  0.91148  0.9097   0.90417\\n  0.90224  0.90107  0.8989   0.89029  0.88916  0.88693  0.88529  0.88214\\n  0.87914  0.87341  0.87101  0.87056  0.86652  0...   \n",
       "140                                                                                                                                                  [ 0.92484  0.92469  0.90859  0.90192  0.88264  0.86879]   \n",
       "145                                                                                                                                                                                               [ 0.92479]   \n",
       "146                                                      [ 0.92478  0.91763  0.91734  0.8862   0.88209  0.87254  0.86999  0.86835\\n  0.85138  0.85062  0.84681  0.82438  0.8239   0.8219   0.80276  0.79694]   \n",
       "149                                                                        [ 0.92473  0.92113  0.91367  0.91156  0.91016  0.87843  0.8737   0.87273\\n  0.86935  0.86505  0.85641  0.85619  0.82607  0.81932]   \n",
       "150                                                                                                                                                           [ 0.92473  0.92231  0.91673  0.91603  0.91228]   \n",
       "152                                                                                                                                                                    [ 0.92471  0.89942  0.88846  0.87764]   \n",
       "154                                                                                                                                                           [ 0.9247   0.92144  0.9178   0.91455  0.8896 ]   \n",
       "156                                                                                                                                                                                               [ 0.92468]   \n",
       "163                                                                                                   [ 0.92463  0.91674  0.90867  0.90066  0.8929   0.88764  0.87475  0.87199\\n  0.84397  0.80935  0.78152]   \n",
       "172                                                                                                                                                  [ 0.92455  0.92155  0.91234  0.91133  0.89713  0.88954]   \n",
       "174                                                                                                                                                  [ 0.92452  0.92311  0.90788  0.9056   0.90406  0.88428]   \n",
       "175                                                                                                                                                  [ 0.92452  0.92443  0.92046  0.91899  0.90295  0.87507]   \n",
       "178                                                                                                                                                                    [ 0.9245   0.91966  0.9088   0.83854]   \n",
       "181                                                                        [ 0.92444  0.92135  0.92093  0.91959  0.91737  0.91137  0.91086  0.90921\\n  0.90709  0.9043   0.89852  0.89715  0.89174  0.888  ]   \n",
       "184                                                                                                                                [ 0.92438  0.92156  0.90571  0.90201  0.90047  0.89548  0.873    0.85988]   \n",
       "185                                                                                                                                [ 0.92437  0.88526  0.87905  0.85138  0.82548  0.81235  0.80032  0.78066]   \n",
       "194                                                                                                                                                  [ 0.92429  0.92246  0.9205   0.83702  0.79711  0.78311]   \n",
       "196                                           [ 0.92426  0.92257  0.92094  0.9154   0.90994  0.8872   0.87923  0.87594\\n  0.87493  0.87135  0.86859  0.8556   0.83417  0.83124  0.78063  0.77644\\n  0.77627]   \n",
       "198                                                                                                                                                                    [ 0.92422  0.86368  0.79887  0.77678]   \n",
       "203                                                                                                                                                                                               [ 0.92415]   \n",
       "222                                                                                                                                                  [ 0.92398  0.92101  0.91972  0.91147  0.90631  0.81568]   \n",
       "224                                                                                                                     [ 0.92394  0.91438  0.91392  0.87044  0.85407  0.84155  0.83452  0.81468\\n  0.80726]   \n",
       "230                                                                                                                                [ 0.92389  0.92067  0.90588  0.88721  0.88677  0.8831   0.83625  0.82572]   \n",
       "236                                                                                                   [ 0.92386  0.92244  0.9223   0.91006  0.9099   0.90513  0.89631  0.89189\\n  0.88594  0.88499  0.87377]   \n",
       "241                                                                                                            [ 0.92379  0.92378  0.92337  0.9203   0.91549  0.89358  0.87889  0.86588\\n  0.85731  0.81425]   \n",
       "245                                                                                                                                                                                      [ 0.92376  0.82859]   \n",
       "248                                                                                                                                                           [ 0.92374  0.9215   0.89826  0.88917  0.88163]   \n",
       "\n",
       "     scores_real  \n",
       "10      0.666667  \n",
       "23      1.000000  \n",
       "28      0.615385  \n",
       "36      1.000000  \n",
       "47      0.285714  \n",
       "51      0.818182  \n",
       "69      1.000000  \n",
       "71      1.000000  \n",
       "75      0.625000  \n",
       "80      0.666667  \n",
       "85      1.000000  \n",
       "88      0.750000  \n",
       "90      0.833333  \n",
       "94      0.666667  \n",
       "96      1.000000  \n",
       "103     1.000000  \n",
       "105     1.000000  \n",
       "106     1.000000  \n",
       "122     0.571429  \n",
       "123     0.416667  \n",
       "125     0.888889  \n",
       "132     1.000000  \n",
       "133     0.551724  \n",
       "140     0.666667  \n",
       "145     1.000000  \n",
       "146     0.687500  \n",
       "149     0.642857  \n",
       "150     0.800000  \n",
       "152     0.500000  \n",
       "154     0.400000  \n",
       "156     1.000000  \n",
       "163     0.727273  \n",
       "172     1.000000  \n",
       "174     0.500000  \n",
       "175     1.000000  \n",
       "178     0.750000  \n",
       "181     0.642857  \n",
       "184     0.750000  \n",
       "185     0.375000  \n",
       "194     0.833333  \n",
       "196     0.588235  \n",
       "198     0.500000  \n",
       "203     1.000000  \n",
       "222     0.500000  \n",
       "224     0.777778  \n",
       "230     0.750000  \n",
       "236     0.909091  \n",
       "241     0.600000  \n",
       "245     0.500000  \n",
       "248     0.800000  "
      ]
     },
     "execution_count": 79,
     "metadata": {},
     "output_type": "execute_result"
    }
   ],
   "source": [
    "df_real_not_none_greate[~not_none_real_bold_index].iloc[0: 50]"
   ]
  },
  {
   "cell_type": "markdown",
   "metadata": {},
   "source": [
    "# 验证 None 作用"
   ]
  },
  {
   "cell_type": "code",
   "execution_count": 58,
   "metadata": {
    "collapsed": false
   },
   "outputs": [],
   "source": [
    "df_analysis_copy = df_analysis.copy()"
   ]
  },
  {
   "cell_type": "code",
   "execution_count": 65,
   "metadata": {
    "collapsed": false
   },
   "outputs": [],
   "source": [
    "df_analysis_copy.ix[df_comp_real_none.index, 'scores'] = 1"
   ]
  },
  {
   "cell_type": "code",
   "execution_count": 66,
   "metadata": {
    "collapsed": false
   },
   "outputs": [
    {
     "data": {
      "text/plain": [
       "0.4290489921055521"
      ]
     },
     "execution_count": 66,
     "metadata": {},
     "output_type": "execute_result"
    }
   ],
   "source": [
    "df_analysis_copy.scores.mean()"
   ]
  },
  {
   "cell_type": "code",
   "execution_count": 92,
   "metadata": {
    "collapsed": true
   },
   "outputs": [],
   "source": [
    "df_train = pd.read_csv('../reorder_size_input/train_all_reorder.csv')"
   ]
  },
  {
   "cell_type": "code",
   "execution_count": 93,
   "metadata": {
    "collapsed": false
   },
   "outputs": [
    {
     "data": {
      "text/plain": [
       "0.06515040212175273"
      ]
     },
     "execution_count": 93,
     "metadata": {},
     "output_type": "execute_result"
    }
   ],
   "source": [
    "df_train[df_train.reorder_size == 0].shape[0] / float(df_train.shape[0])"
   ]
  },
  {
   "cell_type": "code",
   "execution_count": 94,
   "metadata": {
    "collapsed": true
   },
   "outputs": [],
   "source": [
    "df_validate = pd.read_csv('../reorder_size_input/validate_all_reorder.csv')"
   ]
  },
  {
   "cell_type": "code",
   "execution_count": 95,
   "metadata": {
    "collapsed": false
   },
   "outputs": [
    {
     "data": {
      "text/plain": [
       "0.0671845395983327"
      ]
     },
     "execution_count": 95,
     "metadata": {},
     "output_type": "execute_result"
    }
   ],
   "source": [
    "df_validate[df_validate.reorder_size == 0].shape[0] / float(df_validate.shape[0])"
   ]
  },
  {
   "cell_type": "code",
   "execution_count": 96,
   "metadata": {
    "collapsed": false
   },
   "outputs": [
    {
     "data": {
      "text/plain": [
       "0.06555952716658156"
      ]
     },
     "execution_count": 96,
     "metadata": {},
     "output_type": "execute_result"
    }
   ],
   "source": [
    "(df_validate[df_validate.reorder_size == 0].shape[0] + df_train[df_train.reorder_size == 0].shape[0]) / float(df_train.shape[0]+df_validate.shape[0])"
   ]
  },
  {
   "cell_type": "code",
   "execution_count": 13,
   "metadata": {
    "collapsed": true
   },
   "outputs": [],
   "source": [
    "df_wd_none = predict.read_max_f1_analysis('../prediction/analysis_08-08-22-21-50_validate_diff_stack.csv')"
   ]
  },
  {
   "cell_type": "code",
   "execution_count": 12,
   "metadata": {
    "collapsed": true
   },
   "outputs": [],
   "source": [
    "df_w_none = predict.read_max_f1_analysis('../prediction/analysis_08-08-22-23-14_validate_diff_stack.csv')"
   ]
  },
  {
   "cell_type": "code",
   "execution_count": 14,
   "metadata": {
    "collapsed": true
   },
   "outputs": [],
   "source": [
    "df_comp_none = df_wd_none.merge(df_w_none, how='left', on=[UID], suffixes=['_wdNone', '_wNone'])"
   ]
  },
  {
   "cell_type": "code",
   "execution_count": 15,
   "metadata": {
    "collapsed": true
   },
   "outputs": [],
   "source": [
    "none_index = df_comp_none.apply(lambda row: True if row['true_products_wdNone'][0] is None else False, axis=1)"
   ]
  },
  {
   "cell_type": "code",
   "execution_count": 16,
   "metadata": {
    "collapsed": true
   },
   "outputs": [],
   "source": [
    "df_none = df_comp_none[none_index]"
   ]
  },
  {
   "cell_type": "code",
   "execution_count": 27,
   "metadata": {
    "collapsed": false
   },
   "outputs": [
    {
     "name": "stdout",
     "output_type": "stream",
     "text": [
      "(855, 9)\n",
      "421.603246753\n"
     ]
    }
   ],
   "source": [
    "a = df_none[df_none.scores_wdNone < df_none.scores_wNone]\n",
    "print a.shape\n",
    "print (a.scores_wNone - a.scores_wdNone).sum()"
   ]
  },
  {
   "cell_type": "code",
   "execution_count": 29,
   "metadata": {
    "collapsed": false
   },
   "outputs": [
    {
     "name": "stdout",
     "output_type": "stream",
     "text": [
      "(2629, 9)\n",
      "285.518498457\n"
     ]
    }
   ],
   "source": [
    "b = df_comp_none[df_comp_none.scores_wNone < df_comp_none.scores_wdNone]\n",
    "print b.shape\n",
    "print (b.scores_wdNone - b.scores_wNone).sum()"
   ]
  }
 ],
 "metadata": {
  "kernelspec": {
   "display_name": "Python 2",
   "language": "python",
   "name": "python2"
  },
  "language_info": {
   "codemirror_mode": {
    "name": "ipython",
    "version": 2
   },
   "file_extension": ".py",
   "mimetype": "text/x-python",
   "name": "python",
   "nbconvert_exporter": "python",
   "pygments_lexer": "ipython2",
   "version": "2.7.13"
  }
 },
 "nbformat": 4,
 "nbformat_minor": 2
}
