{
 "cells": [
  {
   "cell_type": "code",
   "execution_count": 2,
   "metadata": {
    "collapsed": true
   },
   "outputs": [],
   "source": [
    "# pandas\n",
    "import pandas as pd\n",
    "from pandas import Series,DataFrame\n",
    "\n",
    "# numpy, matplotlib, seaborn\n",
    "import numpy as np\n",
    "import matplotlib.pyplot as plt\n",
    "import seaborn as sns\n",
    "sns.set_style('whitegrid')\n",
    "%matplotlib inline"
   ]
  },
  {
   "cell_type": "code",
   "execution_count": 3,
   "metadata": {
    "collapsed": true
   },
   "outputs": [],
   "source": [
    "import gc\n",
    "from const import *"
   ]
  },
  {
   "cell_type": "code",
   "execution_count": 57,
   "metadata": {
    "collapsed": false
   },
   "outputs": [],
   "source": [
    "df_orders = pd.read_csv('../input/orders.csv')\n",
    "# df_orders.set_index(OID, inplace=True, drop=False)"
   ]
  },
  {
   "cell_type": "code",
   "execution_count": 9,
   "metadata": {
    "collapsed": true
   },
   "outputs": [],
   "source": [
    "df_orders_prior = df_orders[df_orders.eval_set=='prior']"
   ]
  },
  {
   "cell_type": "code",
   "execution_count": 5,
   "metadata": {
    "collapsed": true
   },
   "outputs": [],
   "source": [
    "df_order_products_prior = pd.read_csv('../input/order_products__prior.csv')"
   ]
  },
  {
   "cell_type": "code",
   "execution_count": 10,
   "metadata": {
    "collapsed": true
   },
   "outputs": [],
   "source": [
    "df_order_products_prior[UID] = df_order_products_prior.order_id.map(df_orders_prior.user_id)"
   ]
  },
  {
   "cell_type": "code",
   "execution_count": 13,
   "metadata": {
    "collapsed": false
   },
   "outputs": [],
   "source": [
    "df_products = pd.read_csv('../input/products.csv')"
   ]
  },
  {
   "cell_type": "code",
   "execution_count": 14,
   "metadata": {
    "collapsed": false
   },
   "outputs": [
    {
     "name": "stdout",
     "output_type": "stream",
     "text": [
      "<class 'pandas.core.frame.DataFrame'>\n",
      "RangeIndex: 49688 entries, 0 to 49687\n",
      "Data columns (total 4 columns):\n",
      "product_id       49688 non-null int64\n",
      "product_name     49688 non-null object\n",
      "aisle_id         49688 non-null int64\n",
      "department_id    49688 non-null int64\n",
      "dtypes: int64(3), object(1)\n",
      "memory usage: 1.5+ MB\n"
     ]
    }
   ],
   "source": [
    "df_products.info()"
   ]
  },
  {
   "cell_type": "code",
   "execution_count": 16,
   "metadata": {
    "collapsed": false
   },
   "outputs": [],
   "source": [
    "df_order_products_prior = df_order_products_prior.merge(df_products, how='left', on=[PID])"
   ]
  },
  {
   "cell_type": "code",
   "execution_count": 17,
   "metadata": {
    "collapsed": false
   },
   "outputs": [
    {
     "data": {
      "text/html": [
       "<div>\n",
       "<table border=\"1\" class=\"dataframe\">\n",
       "  <thead>\n",
       "    <tr style=\"text-align: right;\">\n",
       "      <th></th>\n",
       "      <th>order_id</th>\n",
       "      <th>product_id</th>\n",
       "      <th>add_to_cart_order</th>\n",
       "      <th>reordered</th>\n",
       "      <th>user_id</th>\n",
       "      <th>product_name</th>\n",
       "      <th>aisle_id</th>\n",
       "      <th>department_id</th>\n",
       "    </tr>\n",
       "  </thead>\n",
       "  <tbody>\n",
       "    <tr>\n",
       "      <th>0</th>\n",
       "      <td>2</td>\n",
       "      <td>33120</td>\n",
       "      <td>1</td>\n",
       "      <td>1</td>\n",
       "      <td>202279</td>\n",
       "      <td>Organic Egg Whites</td>\n",
       "      <td>86</td>\n",
       "      <td>16</td>\n",
       "    </tr>\n",
       "    <tr>\n",
       "      <th>1</th>\n",
       "      <td>2</td>\n",
       "      <td>28985</td>\n",
       "      <td>2</td>\n",
       "      <td>1</td>\n",
       "      <td>202279</td>\n",
       "      <td>Michigan Organic Kale</td>\n",
       "      <td>83</td>\n",
       "      <td>4</td>\n",
       "    </tr>\n",
       "    <tr>\n",
       "      <th>2</th>\n",
       "      <td>2</td>\n",
       "      <td>9327</td>\n",
       "      <td>3</td>\n",
       "      <td>0</td>\n",
       "      <td>202279</td>\n",
       "      <td>Garlic Powder</td>\n",
       "      <td>104</td>\n",
       "      <td>13</td>\n",
       "    </tr>\n",
       "    <tr>\n",
       "      <th>3</th>\n",
       "      <td>2</td>\n",
       "      <td>45918</td>\n",
       "      <td>4</td>\n",
       "      <td>1</td>\n",
       "      <td>202279</td>\n",
       "      <td>Coconut Butter</td>\n",
       "      <td>19</td>\n",
       "      <td>13</td>\n",
       "    </tr>\n",
       "    <tr>\n",
       "      <th>4</th>\n",
       "      <td>2</td>\n",
       "      <td>30035</td>\n",
       "      <td>5</td>\n",
       "      <td>0</td>\n",
       "      <td>202279</td>\n",
       "      <td>Natural Sweetener</td>\n",
       "      <td>17</td>\n",
       "      <td>13</td>\n",
       "    </tr>\n",
       "  </tbody>\n",
       "</table>\n",
       "</div>"
      ],
      "text/plain": [
       "   order_id  product_id  add_to_cart_order  reordered  user_id  \\\n",
       "0         2       33120                  1          1   202279   \n",
       "1         2       28985                  2          1   202279   \n",
       "2         2        9327                  3          0   202279   \n",
       "3         2       45918                  4          1   202279   \n",
       "4         2       30035                  5          0   202279   \n",
       "\n",
       "            product_name  aisle_id  department_id  \n",
       "0     Organic Egg Whites        86             16  \n",
       "1  Michigan Organic Kale        83              4  \n",
       "2          Garlic Powder       104             13  \n",
       "3         Coconut Butter        19             13  \n",
       "4      Natural Sweetener        17             13  "
      ]
     },
     "execution_count": 17,
     "metadata": {},
     "output_type": "execute_result"
    }
   ],
   "source": [
    "df_order_products_prior.head()"
   ]
  },
  {
   "cell_type": "code",
   "execution_count": 20,
   "metadata": {
    "collapsed": false
   },
   "outputs": [],
   "source": [
    "df_order_products_prior.to_csv('../input/order_products__prior_extend.csv', index=False)"
   ]
  },
  {
   "cell_type": "code",
   "execution_count": 24,
   "metadata": {
    "collapsed": true
   },
   "outputs": [],
   "source": [
    "del df_order_products_prior"
   ]
  },
  {
   "cell_type": "code",
   "execution_count": 26,
   "metadata": {
    "collapsed": false
   },
   "outputs": [
    {
     "data": {
      "text/plain": [
       "522"
      ]
     },
     "execution_count": 26,
     "metadata": {},
     "output_type": "execute_result"
    }
   ],
   "source": [
    "gc.collect()"
   ]
  },
  {
   "cell_type": "code",
   "execution_count": 4,
   "metadata": {
    "collapsed": true
   },
   "outputs": [],
   "source": [
    "df_order_products_prior_extend = pd.read_csv('../input/order_products__prior_extend.csv')"
   ]
  },
  {
   "cell_type": "code",
   "execution_count": 6,
   "metadata": {
    "collapsed": false
   },
   "outputs": [],
   "source": [
    "df_order_products_prior_extend.drop(UID, axis=1, inplace=True)"
   ]
  },
  {
   "cell_type": "code",
   "execution_count": 7,
   "metadata": {
    "collapsed": false
   },
   "outputs": [
    {
     "name": "stdout",
     "output_type": "stream",
     "text": [
      "<class 'pandas.core.frame.DataFrame'>\n",
      "RangeIndex: 32434489 entries, 0 to 32434488\n",
      "Data columns (total 7 columns):\n",
      "order_id             int64\n",
      "product_id           int64\n",
      "add_to_cart_order    int64\n",
      "reordered            int64\n",
      "product_name         object\n",
      "aisle_id             int64\n",
      "department_id        int64\n",
      "dtypes: int64(6), object(1)\n",
      "memory usage: 1.7+ GB\n"
     ]
    }
   ],
   "source": [
    "df_order_products_prior_extend.info()"
   ]
  },
  {
   "cell_type": "code",
   "execution_count": 11,
   "metadata": {
    "collapsed": true
   },
   "outputs": [],
   "source": [
    "df_order_products_prior_extend_1 = df_order_products_prior_extend.drop('product_name', axis=1)"
   ]
  },
  {
   "cell_type": "code",
   "execution_count": 13,
   "metadata": {
    "collapsed": false
   },
   "outputs": [],
   "source": [
    "df_order_products_prior_extend = df_order_products_prior_extend_1"
   ]
  },
  {
   "cell_type": "code",
   "execution_count": 14,
   "metadata": {
    "collapsed": false
   },
   "outputs": [],
   "source": [
    "df_orders_prior = df_orders_prior.drop('eval_set', axis=1)"
   ]
  },
  {
   "cell_type": "code",
   "execution_count": 15,
   "metadata": {
    "collapsed": false
   },
   "outputs": [
    {
     "name": "stdout",
     "output_type": "stream",
     "text": [
      "<class 'pandas.core.frame.DataFrame'>\n",
      "Int64Index: 3214874 entries, 0 to 3421081\n",
      "Data columns (total 6 columns):\n",
      "order_id                  int64\n",
      "user_id                   int64\n",
      "order_number              int64\n",
      "order_dow                 int64\n",
      "order_hour_of_day         int64\n",
      "days_since_prior_order    float64\n",
      "dtypes: float64(1), int64(5)\n",
      "memory usage: 171.7 MB\n"
     ]
    }
   ],
   "source": [
    "df_orders_prior.info()"
   ]
  },
  {
   "cell_type": "code",
   "execution_count": 16,
   "metadata": {
    "collapsed": true
   },
   "outputs": [],
   "source": [
    "df_order_products_prior_extend = df_order_products_prior_extend.merge(df_orders_prior, how='left', on=[OID])"
   ]
  },
  {
   "cell_type": "code",
   "execution_count": 17,
   "metadata": {
    "collapsed": false
   },
   "outputs": [
    {
     "name": "stdout",
     "output_type": "stream",
     "text": [
      "<class 'pandas.core.frame.DataFrame'>\n",
      "Int64Index: 32434489 entries, 0 to 32434488\n",
      "Data columns (total 11 columns):\n",
      "order_id                  int64\n",
      "product_id                int64\n",
      "add_to_cart_order         int64\n",
      "reordered                 int64\n",
      "aisle_id                  int64\n",
      "department_id             int64\n",
      "user_id                   int64\n",
      "order_number              int64\n",
      "order_dow                 int64\n",
      "order_hour_of_day         int64\n",
      "days_since_prior_order    float64\n",
      "dtypes: float64(1), int64(10)\n",
      "memory usage: 2.9 GB\n"
     ]
    }
   ],
   "source": [
    "df_order_products_prior_extend.info()"
   ]
  },
  {
   "cell_type": "code",
   "execution_count": 18,
   "metadata": {
    "collapsed": true
   },
   "outputs": [],
   "source": [
    "df_order_products_prior_extend.to_csv('../input/order_products__prior_extend.csv', index=False)"
   ]
  },
  {
   "cell_type": "code",
   "execution_count": 19,
   "metadata": {
    "collapsed": false
   },
   "outputs": [
    {
     "name": "stdout",
     "output_type": "stream",
     "text": [
      "<class 'pandas.core.frame.DataFrame'>\n",
      "Int64Index: 32434489 entries, 0 to 32434488\n",
      "Data columns (total 11 columns):\n",
      "order_id                  int64\n",
      "product_id                int64\n",
      "add_to_cart_order         int64\n",
      "reordered                 int64\n",
      "aisle_id                  int64\n",
      "department_id             int64\n",
      "user_id                   int64\n",
      "order_number              int64\n",
      "order_dow                 int64\n",
      "order_hour_of_day         int64\n",
      "days_since_prior_order    float64\n",
      "dtypes: float64(1), int64(10)\n",
      "memory usage: 2.9 GB\n"
     ]
    }
   ],
   "source": [
    "df_order_products_prior_extend.info()"
   ]
  },
  {
   "cell_type": "markdown",
   "metadata": {},
   "source": [
    "# ground truth"
   ]
  },
  {
   "cell_type": "code",
   "execution_count": 39,
   "metadata": {
    "collapsed": false
   },
   "outputs": [],
   "source": [
    "SAMPLE_TRAIN_MAX_USER_ID= 20000\n",
    "SAMPLE_VALIDATE_MAX_USER_ID = 30000"
   ]
  },
  {
   "cell_type": "code",
   "execution_count": 58,
   "metadata": {
    "collapsed": true
   },
   "outputs": [],
   "source": [
    "df_orders_train = df_orders[df_orders.eval_set=='train']"
   ]
  },
  {
   "cell_type": "code",
   "execution_count": 59,
   "metadata": {
    "collapsed": false
   },
   "outputs": [
    {
     "data": {
      "text/plain": [
       "206209"
      ]
     },
     "execution_count": 59,
     "metadata": {},
     "output_type": "execute_result"
    }
   ],
   "source": [
    "df_orders.user_id.nunique()"
   ]
  },
  {
   "cell_type": "code",
   "execution_count": 61,
   "metadata": {
    "collapsed": false
   },
   "outputs": [
    {
     "data": {
      "text/plain": [
       "131209"
      ]
     },
     "execution_count": 61,
     "metadata": {},
     "output_type": "execute_result"
    }
   ],
   "source": [
    "df_orders_train.user_id.nunique()"
   ]
  },
  {
   "cell_type": "code",
   "execution_count": 62,
   "metadata": {
    "collapsed": false
   },
   "outputs": [
    {
     "data": {
      "text/plain": [
       "count    131209.000000\n",
       "mean     103166.825317\n",
       "std       59565.307804\n",
       "min           1.000000\n",
       "25%       51587.000000\n",
       "50%      103150.000000\n",
       "75%      154868.000000\n",
       "max      206209.000000\n",
       "Name: user_id, dtype: float64"
      ]
     },
     "execution_count": 62,
     "metadata": {},
     "output_type": "execute_result"
    }
   ],
   "source": [
    "df_orders_train.user_id.describe()"
   ]
  },
  {
   "cell_type": "code",
   "execution_count": 23,
   "metadata": {
    "collapsed": false
   },
   "outputs": [
    {
     "name": "stdout",
     "output_type": "stream",
     "text": [
      "<class 'pandas.core.frame.DataFrame'>\n",
      "Int64Index: 131209 entries, 1187899 to 272231\n",
      "Data columns (total 7 columns):\n",
      "order_id                  131209 non-null int64\n",
      "user_id                   131209 non-null int64\n",
      "eval_set                  131209 non-null object\n",
      "order_number              131209 non-null int64\n",
      "order_dow                 131209 non-null int64\n",
      "order_hour_of_day         131209 non-null int64\n",
      "days_since_prior_order    131209 non-null float64\n",
      "dtypes: float64(1), int64(5), object(1)\n",
      "memory usage: 8.0+ MB\n"
     ]
    }
   ],
   "source": [
    "df_orders_train.info()"
   ]
  },
  {
   "cell_type": "code",
   "execution_count": 28,
   "metadata": {
    "collapsed": true
   },
   "outputs": [],
   "source": [
    "df_orders_train_sample = df_orders_train[df_orders_train.user_id <= SAMPLE_TRAIN_MAX_USER_ID]"
   ]
  },
  {
   "cell_type": "code",
   "execution_count": 63,
   "metadata": {
    "collapsed": true
   },
   "outputs": [],
   "source": [
    "df_order_products_train = pd.read_csv('../input/order_products__train.csv')"
   ]
  },
  {
   "cell_type": "code",
   "execution_count": 64,
   "metadata": {
    "collapsed": false
   },
   "outputs": [
    {
     "name": "stdout",
     "output_type": "stream",
     "text": [
      "<class 'pandas.core.frame.DataFrame'>\n",
      "RangeIndex: 1384617 entries, 0 to 1384616\n",
      "Data columns (total 4 columns):\n",
      "order_id             1384617 non-null int64\n",
      "product_id           1384617 non-null int64\n",
      "add_to_cart_order    1384617 non-null int64\n",
      "reordered            1384617 non-null int64\n",
      "dtypes: int64(4)\n",
      "memory usage: 42.3 MB\n"
     ]
    }
   ],
   "source": [
    "df_order_products_train.info()"
   ]
  },
  {
   "cell_type": "code",
   "execution_count": 65,
   "metadata": {
    "collapsed": false
   },
   "outputs": [],
   "source": [
    "df_ground_train = df_orders_train.merge(df_order_products_train, how='left', on=[OID])[[UID, PID]]"
   ]
  },
  {
   "cell_type": "code",
   "execution_count": 33,
   "metadata": {
    "collapsed": false
   },
   "outputs": [
    {
     "data": {
      "text/plain": [
       "(134105, 2)"
      ]
     },
     "execution_count": 33,
     "metadata": {},
     "output_type": "execute_result"
    }
   ],
   "source": [
    "df_ground_train.shape"
   ]
  },
  {
   "cell_type": "code",
   "execution_count": 79,
   "metadata": {
    "collapsed": false
   },
   "outputs": [
    {
     "data": {
      "text/plain": [
       "0.79914228988955072"
      ]
     },
     "execution_count": 79,
     "metadata": {},
     "output_type": "execute_result"
    }
   ],
   "source": [
    "(df_ground_train.user_id <= 165000).sum() / float(df_ground_train.shape[0])"
   ]
  },
  {
   "cell_type": "code",
   "execution_count": 70,
   "metadata": {
    "collapsed": false
   },
   "outputs": [
    {
     "data": {
      "text/plain": [
       "2769234.0"
      ]
     },
     "execution_count": 70,
     "metadata": {},
     "output_type": "execute_result"
    }
   ],
   "source": [
    "float(df_ground_train.size)"
   ]
  },
  {
   "cell_type": "code",
   "execution_count": 78,
   "metadata": {
    "collapsed": false
   },
   "outputs": [],
   "source": [
    "df_ground = df_ground_train"
   ]
  },
  {
   "cell_type": "code",
   "execution_count": 80,
   "metadata": {
    "collapsed": false
   },
   "outputs": [],
   "source": [
    "df_ground_train = df_ground[df_ground.user_id <=165000]\n",
    "df_ground_validate = df_ground[df_ground.user_id > 165000]"
   ]
  },
  {
   "cell_type": "code",
   "execution_count": 82,
   "metadata": {
    "collapsed": false
   },
   "outputs": [
    {
     "data": {
      "text/plain": [
       "0.2008577101104493"
      ]
     },
     "execution_count": 82,
     "metadata": {},
     "output_type": "execute_result"
    }
   ],
   "source": [
    "df_ground_validate.shape[0] / float(df_ground.shape[0])"
   ]
  },
  {
   "cell_type": "code",
   "execution_count": 83,
   "metadata": {
    "collapsed": false
   },
   "outputs": [
    {
     "data": {
      "text/plain": [
       "(1106506, 2)"
      ]
     },
     "execution_count": 83,
     "metadata": {},
     "output_type": "execute_result"
    }
   ],
   "source": [
    "df_ground_train.shape"
   ]
  },
  {
   "cell_type": "code",
   "execution_count": 84,
   "metadata": {
    "collapsed": false
   },
   "outputs": [],
   "source": [
    "df_ground_train.to_csv('../input/ground_truth_train.csv', index=False)"
   ]
  },
  {
   "cell_type": "code",
   "execution_count": 85,
   "metadata": {
    "collapsed": true
   },
   "outputs": [],
   "source": [
    "df_ground_validate.to_csv('../input/ground_truth_validate.csv', index=False)"
   ]
  },
  {
   "cell_type": "code",
   "execution_count": 42,
   "metadata": {
    "collapsed": false
   },
   "outputs": [],
   "source": [
    "df_orders_validate_sample = df_orders_train[(df_orders_train.user_id > SAMPLE_TRAIN_MAX_USER_ID)\n",
    "    & (df_orders_train.user_id <= SAMPLE_VALIDATE_MAX_USER_ID)]"
   ]
  },
  {
   "cell_type": "code",
   "execution_count": 46,
   "metadata": {
    "collapsed": true
   },
   "outputs": [],
   "source": [
    "df_ground_validate = df_orders_validate_sample.merge(df_order_products_train, how='left', on=[OID])[[UID, PID]]"
   ]
  },
  {
   "cell_type": "code",
   "execution_count": 50,
   "metadata": {
    "collapsed": false
   },
   "outputs": [],
   "source": [
    "df_ground_validate.to_csv('../input/ground_truth_validate_sample.csv', index=False)"
   ]
  },
  {
   "cell_type": "code",
   "execution_count": null,
   "metadata": {
    "collapsed": true
   },
   "outputs": [],
   "source": []
  },
  {
   "cell_type": "markdown",
   "metadata": {},
   "source": [
    "# feature"
   ]
  },
  {
   "cell_type": "code",
   "execution_count": 30,
   "metadata": {
    "collapsed": true
   },
   "outputs": [],
   "source": [
    "import generate_feature"
   ]
  },
  {
   "cell_type": "code",
   "execution_count": 86,
   "metadata": {
    "collapsed": false
   },
   "outputs": [
    {
     "data": {
      "text/plain": [
       "<module 'generate_feature' from 'generate_feature.pyc'>"
      ]
     },
     "execution_count": 86,
     "metadata": {},
     "output_type": "execute_result"
    }
   ],
   "source": [
    "reload(generate_feature)"
   ]
  },
  {
   "cell_type": "code",
   "execution_count": 34,
   "metadata": {
    "collapsed": false,
    "scrolled": true
   },
   "outputs": [
    {
     "name": "stdout",
     "output_type": "stream",
     "text": [
      "sample data_set_type :DataSetType.Train\n",
      "####################\n",
      "sample cost 19.88 s\n",
      "####################\n"
     ]
    }
   ],
   "source": [
    "df_train_sample = generate_feature.sample(DataSetType.Train)"
   ]
  },
  {
   "cell_type": "code",
   "execution_count": 37,
   "metadata": {
    "collapsed": false
   },
   "outputs": [
    {
     "name": "stdout",
     "output_type": "stream",
     "text": [
      "gen_user_interaction_feature, key: product_id\n",
      "####################\n",
      "gen_user_interaction_feature cost 0.21 s\n",
      "####################\n",
      "gen_user_interaction_feature, key: aisle_id\n",
      "####################\n",
      "gen_user_interaction_feature cost 0.08 s\n",
      "####################\n",
      "gen_user_interaction_feature, key: department_id\n",
      "####################\n",
      "gen_user_interaction_feature cost 0.04 s\n",
      "####################\n",
      "gen_entity_feature, key: user_id\n",
      "####################\n",
      "gen_entity_feature cost 0.02 s\n",
      "####################\n",
      "gen_entity_feature, key: product_id\n",
      "####################\n",
      "gen_entity_feature cost 0.80 s\n",
      "####################\n",
      "gen_entity_feature, key: aisle_id\n",
      "####################\n",
      "gen_entity_feature cost 0.03 s\n",
      "####################\n",
      "gen_entity_feature, key: department_id\n",
      "####################\n",
      "gen_entity_feature cost 0.01 s\n",
      "####################\n"
     ]
    }
   ],
   "source": [
    "df_train_sample = generate_feature.generate_feature(df_train_sample)"
   ]
  },
  {
   "cell_type": "code",
   "execution_count": 83,
   "metadata": {
    "collapsed": false
   },
   "outputs": [
    {
     "data": {
      "text/plain": [
       "Index([u'user_product_days_since_prior_order_max',\n",
       "       u'user_product_days_since_prior_order_min',\n",
       "       u'user_product_days_since_prior_order_mean',\n",
       "       u'user_aisle_days_since_prior_order_mean',\n",
       "       u'user_aisle_days_since_prior_order_max',\n",
       "       u'user_aisle_days_since_prior_order_min',\n",
       "       u'user_department_days_since_prior_order_min',\n",
       "       u'user_department_days_since_prior_order_mean',\n",
       "       u'user_department_days_since_prior_order_max',\n",
       "       u'product_days_since_prior_order_mean', u'product_active_days'],\n",
       "      dtype='object')"
      ]
     },
     "execution_count": 83,
     "metadata": {},
     "output_type": "execute_result"
    }
   ],
   "source": [
    "df_train_sample.columns[df_train_sample.isnull().any()]"
   ]
  },
  {
   "cell_type": "code",
   "execution_count": 39,
   "metadata": {
    "collapsed": false
   },
   "outputs": [
    {
     "data": {
      "text/plain": [
       "Index([u'user_product_days_since_prior_order_max',\n",
       "       u'user_product_days_since_prior_order_min',\n",
       "       u'user_product_days_since_prior_order_mean',\n",
       "       u'user_aisle_days_since_prior_order_mean',\n",
       "       u'user_aisle_days_since_prior_order_max',\n",
       "       u'user_aisle_days_since_prior_order_min',\n",
       "       u'user_department_days_since_prior_order_min',\n",
       "       u'user_department_days_since_prior_order_mean',\n",
       "       u'user_department_days_since_prior_order_max',\n",
       "       u'product_days_since_prior_order_mean', u'product_active_days'],\n",
       "      dtype='object')"
      ]
     },
     "execution_count": 39,
     "metadata": {},
     "output_type": "execute_result"
    }
   ],
   "source": [
    "df_train_sample.columns[df_train_sample.isnull().any()]"
   ]
  },
  {
   "cell_type": "code",
   "execution_count": 59,
   "metadata": {
    "collapsed": true
   },
   "outputs": [],
   "source": [
    "df_prior_order_products = generate_feature.load_prior_order_products()"
   ]
  },
  {
   "cell_type": "code",
   "execution_count": 78,
   "metadata": {
    "collapsed": false
   },
   "outputs": [
    {
     "data": {
      "text/html": [
       "<div>\n",
       "<table border=\"1\" class=\"dataframe\">\n",
       "  <thead>\n",
       "    <tr style=\"text-align: right;\">\n",
       "      <th></th>\n",
       "      <th>order_id</th>\n",
       "      <th>product_id</th>\n",
       "      <th>add_to_cart_order</th>\n",
       "      <th>reordered</th>\n",
       "      <th>aisle_id</th>\n",
       "      <th>department_id</th>\n",
       "      <th>user_id</th>\n",
       "      <th>order_number</th>\n",
       "      <th>order_dow</th>\n",
       "      <th>order_hour_of_day</th>\n",
       "      <th>days_since_prior_order</th>\n",
       "    </tr>\n",
       "  </thead>\n",
       "  <tbody>\n",
       "    <tr>\n",
       "      <th>2262530</th>\n",
       "      <td>238653</td>\n",
       "      <td>14313</td>\n",
       "      <td>9</td>\n",
       "      <td>0</td>\n",
       "      <td>132</td>\n",
       "      <td>11</td>\n",
       "      <td>193</td>\n",
       "      <td>1</td>\n",
       "      <td>2</td>\n",
       "      <td>9</td>\n",
       "      <td>NaN</td>\n",
       "    </tr>\n",
       "  </tbody>\n",
       "</table>\n",
       "</div>"
      ],
      "text/plain": [
       "         order_id  product_id  add_to_cart_order  reordered  aisle_id  \\\n",
       "2262530    238653       14313                  9          0       132   \n",
       "\n",
       "         department_id  user_id  order_number  order_dow  order_hour_of_day  \\\n",
       "2262530             11      193             1          2                  9   \n",
       "\n",
       "         days_since_prior_order  \n",
       "2262530                     NaN  "
      ]
     },
     "execution_count": 78,
     "metadata": {},
     "output_type": "execute_result"
    }
   ],
   "source": [
    "df_prior_order_products[(df_prior_order_products.user_id==193) & (df_prior_order_products.product_id==14313)]"
   ]
  },
  {
   "cell_type": "code",
   "execution_count": 40,
   "metadata": {
    "collapsed": false
   },
   "outputs": [
    {
     "name": "stdout",
     "output_type": "stream",
     "text": [
      "####################\n",
      "gen_ratio_feature cost 0.02 s\n",
      "####################\n"
     ]
    }
   ],
   "source": [
    "df_train_sample = generate_feature.gen_ratio_feature(df_train_sample)"
   ]
  },
  {
   "cell_type": "code",
   "execution_count": 41,
   "metadata": {
    "collapsed": false
   },
   "outputs": [
    {
     "data": {
      "text/plain": [
       "Index([u'user_product_days_since_prior_order_max',\n",
       "       u'user_product_days_since_prior_order_min',\n",
       "       u'user_product_days_since_prior_order_mean',\n",
       "       u'user_aisle_days_since_prior_order_mean',\n",
       "       u'user_aisle_days_since_prior_order_max',\n",
       "       u'user_aisle_days_since_prior_order_min',\n",
       "       u'user_department_days_since_prior_order_min',\n",
       "       u'user_department_days_since_prior_order_mean',\n",
       "       u'user_department_days_since_prior_order_max',\n",
       "       u'product_days_since_prior_order_mean', u'product_active_days',\n",
       "       u'user_product/user_aisle_reorder_times',\n",
       "       u'user_product/user_aisle_reorder_ratio',\n",
       "       u'user_product/user_department_reorder_times',\n",
       "       u'user_product/user_department_reorder_ratio',\n",
       "       u'product/aisle_reorder_times', u'product/aisle_reorder_ratio',\n",
       "       u'user_product_days_since_prior_order/user_product_days_since_prior_order_max',\n",
       "       u'user_product_days_since_prior_order/user_product_days_since_prior_order_min',\n",
       "       u'user_product_days_since_prior_order/user_product_days_since_prior_order_mean'],\n",
       "      dtype='object')"
      ]
     },
     "execution_count": 41,
     "metadata": {},
     "output_type": "execute_result"
    }
   ],
   "source": [
    "df_train_sample.columns[df_train_sample.isnull().any()]"
   ]
  },
  {
   "cell_type": "code",
   "execution_count": 98,
   "metadata": {
    "collapsed": false
   },
   "outputs": [],
   "source": [
    "df = df_train_sample[(df_train_sample.user_id==173) & (df_train_sample.product_id==25557)]"
   ]
  },
  {
   "cell_type": "code",
   "execution_count": 99,
   "metadata": {
    "collapsed": false,
    "scrolled": true
   },
   "outputs": [
    {
     "data": {
      "text/html": [
       "<div>\n",
       "<table border=\"1\" class=\"dataframe\">\n",
       "  <thead>\n",
       "    <tr style=\"text-align: right;\">\n",
       "      <th></th>\n",
       "      <th>user_product_reorder_times</th>\n",
       "      <th>user_aisle_reorder_times</th>\n",
       "    </tr>\n",
       "  </thead>\n",
       "  <tbody>\n",
       "    <tr>\n",
       "      <th>27</th>\n",
       "      <td>0</td>\n",
       "      <td>0</td>\n",
       "    </tr>\n",
       "  </tbody>\n",
       "</table>\n",
       "</div>"
      ],
      "text/plain": [
       "    user_product_reorder_times  user_aisle_reorder_times\n",
       "27                           0                         0"
      ]
     },
     "execution_count": 99,
     "metadata": {},
     "output_type": "execute_result"
    }
   ],
   "source": [
    "df[['user_product_reorder_times', 'user_aisle_reorder_times']]"
   ]
  },
  {
   "cell_type": "code",
   "execution_count": 45,
   "metadata": {
    "collapsed": false
   },
   "outputs": [
    {
     "name": "stdout",
     "output_type": "stream",
     "text": [
      "gen_user_interaction_rank user_product user_aisle ['user_id', 'aisle_id']\n",
      "####################\n",
      "gen_user_interaction_rank cost 11.90 s\n",
      "####################\n",
      "gen_user_interaction_rank user_product user_department ['user_id', 'department_id']\n",
      "####################\n",
      "gen_user_interaction_rank cost 4.83 s\n",
      "####################\n",
      "gen_entity_rank product aisle ['aisle_id']\n",
      "####################\n",
      "gen_entity_rank cost 0.30 s\n",
      "####################\n",
      "gen_entity_rank product department ['department_id']\n",
      "####################\n",
      "gen_entity_rank cost 0.11 s\n",
      "####################\n",
      "####################\n",
      "gen_rank_by_rule cost 1.84 s\n",
      "####################\n"
     ]
    }
   ],
   "source": [
    "df_train_sample = generate_feature.gen_rank_feature(df_train_sample)"
   ]
  },
  {
   "cell_type": "code",
   "execution_count": 46,
   "metadata": {
    "collapsed": false
   },
   "outputs": [
    {
     "data": {
      "text/plain": [
       "Index([u'user_product_days_since_prior_order_max',\n",
       "       u'user_product_days_since_prior_order_min',\n",
       "       u'user_product_days_since_prior_order_mean',\n",
       "       u'user_aisle_days_since_prior_order_mean',\n",
       "       u'user_aisle_days_since_prior_order_max',\n",
       "       u'user_aisle_days_since_prior_order_min',\n",
       "       u'user_department_days_since_prior_order_min',\n",
       "       u'user_department_days_since_prior_order_mean',\n",
       "       u'user_department_days_since_prior_order_max',\n",
       "       u'product_days_since_prior_order_mean', u'product_active_days',\n",
       "       u'user_product/user_aisle_reorder_times',\n",
       "       u'user_product/user_aisle_reorder_ratio',\n",
       "       u'user_product/user_department_reorder_times',\n",
       "       u'user_product/user_department_reorder_ratio',\n",
       "       u'product/aisle_reorder_times', u'product/aisle_reorder_ratio',\n",
       "       u'user_product_days_since_prior_order/user_product_days_since_prior_order_max',\n",
       "       u'user_product_days_since_prior_order/user_product_days_since_prior_order_min',\n",
       "       u'user_product_days_since_prior_order/user_product_days_since_prior_order_mean',\n",
       "       u'user_product/user_aisle_reorder_times_dense_rank',\n",
       "       u'user_product/user_aisle_reorder_times_pct_rank',\n",
       "       u'user_product/user_aisle_reorder_times_rank',\n",
       "       u'user_product/user_aisle_reorder_ratio_dense_rank',\n",
       "       u'user_product/user_aisle_reorder_ratio_pct_rank',\n",
       "       u'user_product/user_aisle_reorder_ratio_rank',\n",
       "       u'user_product/user_department_reorder_times_dense_rank',\n",
       "       u'user_product/user_department_reorder_times_pct_rank',\n",
       "       u'user_product/user_department_reorder_times_rank',\n",
       "       u'user_product/user_department_reorder_ratio_dense_rank',\n",
       "       u'user_product/user_department_reorder_ratio_pct_rank',\n",
       "       u'user_product/user_department_reorder_ratio_rank',\n",
       "       u'product/aisle_reorder_times_dense_rank',\n",
       "       u'product/aisle_reorder_times_pct_rank',\n",
       "       u'product/aisle_reorder_times_rank',\n",
       "       u'product/aisle_reorder_ratio_dense_rank',\n",
       "       u'product/aisle_reorder_ratio_pct_rank',\n",
       "       u'product/aisle_reorder_ratio_rank',\n",
       "       u'user_product_days_since_prior_order/user_product_days_since_prior_order_max_dense_rank',\n",
       "       u'user_product_days_since_prior_order/user_product_days_since_prior_order_max_pct_rank',\n",
       "       u'user_product_days_since_prior_order/user_product_days_since_prior_order_max_rank',\n",
       "       u'user_product_days_since_prior_order/user_product_days_since_prior_order_min_dense_rank',\n",
       "       u'user_product_days_since_prior_order/user_product_days_since_prior_order_min_pct_rank',\n",
       "       u'user_product_days_since_prior_order/user_product_days_since_prior_order_min_rank',\n",
       "       u'user_product_days_since_prior_order/user_product_days_since_prior_order_mean_dense_rank',\n",
       "       u'user_product_days_since_prior_order/user_product_days_since_prior_order_mean_pct_rank',\n",
       "       u'user_product_days_since_prior_order/user_product_days_since_prior_order_mean_rank'],\n",
       "      dtype='object')"
      ]
     },
     "execution_count": 46,
     "metadata": {},
     "output_type": "execute_result"
    }
   ],
   "source": [
    "df_train_sample.columns[df_train_sample.isnull().any()]"
   ]
  },
  {
   "cell_type": "code",
   "execution_count": 47,
   "metadata": {
    "collapsed": false
   },
   "outputs": [
    {
     "name": "stdout",
     "output_type": "stream",
     "text": [
      "<class 'pandas.core.frame.DataFrame'>\n",
      "Int64Index: 7667 entries, 0 to 7666\n",
      "Data columns (total 1 columns):\n",
      "user_product_days_since_prior_order/user_product_days_since_prior_order_max_dense_rank    7166 non-null float64\n",
      "dtypes: float64(1)\n",
      "memory usage: 119.8 KB\n"
     ]
    }
   ],
   "source": [
    "df_train_sample[['user_product_days_since_prior_order/user_product_days_since_prior_order_max_dense_rank']].info()"
   ]
  },
  {
   "cell_type": "code",
   "execution_count": 50,
   "metadata": {
    "collapsed": true
   },
   "outputs": [],
   "source": [
    "df_train_sample = generate_feature.gen_diff_by_rule(df_train_sample)"
   ]
  },
  {
   "cell_type": "code",
   "execution_count": 52,
   "metadata": {
    "collapsed": false
   },
   "outputs": [
    {
     "data": {
      "text/plain": [
       "280"
      ]
     },
     "execution_count": 52,
     "metadata": {},
     "output_type": "execute_result"
    }
   ],
   "source": [
    "df_train_sample.columns.size"
   ]
  },
  {
   "cell_type": "code",
   "execution_count": 53,
   "metadata": {
    "collapsed": false
   },
   "outputs": [
    {
     "name": "stdout",
     "output_type": "stream",
     "text": [
      "<class 'pandas.core.frame.DataFrame'>\n",
      "Int64Index: 7667 entries, 0 to 7666\n",
      "Columns: 280 entries, user_id to order_number-user_department_order_number_max\n",
      "dtypes: float64(232), int64(48)\n",
      "memory usage: 16.4 MB\n"
     ]
    }
   ],
   "source": [
    "df_train_sample.info()"
   ]
  },
  {
   "cell_type": "code",
   "execution_count": 55,
   "metadata": {
    "collapsed": false
   },
   "outputs": [
    {
     "name": "stdout",
     "output_type": "stream",
     "text": [
      "sample data_set_type :DataSetType.Train\n",
      "####################\n",
      "sample cost 17.58 s\n",
      "####################\n",
      "gen_user_interaction_feature, key: product_id\n",
      "####################\n",
      "gen_user_interaction_feature cost 0.17 s\n",
      "####################\n",
      "gen_user_interaction_feature, key: aisle_id\n",
      "####################\n",
      "gen_user_interaction_feature cost 0.09 s\n",
      "####################\n",
      "gen_user_interaction_feature, key: department_id\n",
      "####################\n",
      "gen_user_interaction_feature cost 0.04 s\n",
      "####################\n",
      "gen_entity_feature, key: user_id\n",
      "####################\n",
      "gen_entity_feature cost 0.02 s\n",
      "####################\n",
      "gen_entity_feature, key: product_id\n",
      "####################\n",
      "gen_entity_feature cost 0.76 s\n",
      "####################\n",
      "gen_entity_feature, key: aisle_id\n",
      "####################\n",
      "gen_entity_feature cost 0.03 s\n",
      "####################\n",
      "gen_entity_feature, key: department_id\n",
      "####################\n",
      "gen_entity_feature cost 0.01 s\n",
      "####################\n",
      "basic feature 92\n",
      "####################\n",
      "gen_ratio_feature cost 0.01 s\n",
      "####################\n",
      "ration feature 47\n",
      "gen_user_interaction_rank user_product user_aisle ['user_id', 'aisle_id']\n",
      "####################\n",
      "gen_user_interaction_rank cost 11.85 s\n",
      "####################\n",
      "gen_user_interaction_rank user_product user_department ['user_id', 'department_id']\n",
      "####################\n",
      "gen_user_interaction_rank cost 4.85 s\n",
      "####################\n",
      "gen_entity_rank product aisle ['aisle_id']\n",
      "####################\n",
      "gen_entity_rank cost 0.30 s\n",
      "####################\n",
      "gen_entity_rank product department ['department_id']\n",
      "####################\n",
      "gen_entity_rank cost 0.08 s\n",
      "####################\n",
      "####################\n",
      "gen_rank_by_rule cost 1.87 s\n",
      "####################\n",
      "rank feature 138\n",
      "total feature 280\n"
     ]
    }
   ],
   "source": [
    "df = generate_feature.sample(DataSetType.Train)\n",
    "df_tmp_sample = generate_feature.generate_feature(df)"
   ]
  },
  {
   "cell_type": "code",
   "execution_count": 49,
   "metadata": {
    "collapsed": false
   },
   "outputs": [
    {
     "data": {
      "text/html": [
       "<div>\n",
       "<table border=\"1\" class=\"dataframe\">\n",
       "  <thead>\n",
       "    <tr style=\"text-align: right;\">\n",
       "      <th></th>\n",
       "      <th>b</th>\n",
       "    </tr>\n",
       "  </thead>\n",
       "  <tbody>\n",
       "    <tr>\n",
       "      <th>0</th>\n",
       "      <td>1.0</td>\n",
       "    </tr>\n",
       "    <tr>\n",
       "      <th>1</th>\n",
       "      <td>1.0</td>\n",
       "    </tr>\n",
       "    <tr>\n",
       "      <th>2</th>\n",
       "      <td>1.0</td>\n",
       "    </tr>\n",
       "    <tr>\n",
       "      <th>3</th>\n",
       "      <td>NaN</td>\n",
       "    </tr>\n",
       "  </tbody>\n",
       "</table>\n",
       "</div>"
      ],
      "text/plain": [
       "     b\n",
       "0  1.0\n",
       "1  1.0\n",
       "2  1.0\n",
       "3  NaN"
      ]
     },
     "execution_count": 49,
     "metadata": {},
     "output_type": "execute_result"
    }
   ],
   "source": [
    "df[['a', 'b']].groupby(['a']).rank(method='dense', ascending=False)"
   ]
  },
  {
   "cell_type": "code",
   "execution_count": 29,
   "metadata": {
    "collapsed": false
   },
   "outputs": [
    {
     "data": {
      "text/html": [
       "<div>\n",
       "<table border=\"1\" class=\"dataframe\">\n",
       "  <thead>\n",
       "    <tr style=\"text-align: right;\">\n",
       "      <th></th>\n",
       "      <th>b</th>\n",
       "    </tr>\n",
       "  </thead>\n",
       "  <tbody>\n",
       "    <tr>\n",
       "      <th>0</th>\n",
       "      <td>1.0</td>\n",
       "    </tr>\n",
       "    <tr>\n",
       "      <th>1</th>\n",
       "      <td>1.0</td>\n",
       "    </tr>\n",
       "    <tr>\n",
       "      <th>2</th>\n",
       "      <td>1.0</td>\n",
       "    </tr>\n",
       "    <tr>\n",
       "      <th>3</th>\n",
       "      <td>2.0</td>\n",
       "    </tr>\n",
       "  </tbody>\n",
       "</table>\n",
       "</div>"
      ],
      "text/plain": [
       "     b\n",
       "0  1.0\n",
       "1  1.0\n",
       "2  1.0\n",
       "3  2.0"
      ]
     },
     "execution_count": 29,
     "metadata": {},
     "output_type": "execute_result"
    }
   ],
   "source": [
    "df[['a', 'b']].groupby(['a']).rank(method='dense')"
   ]
  },
  {
   "cell_type": "code",
   "execution_count": 26,
   "metadata": {
    "collapsed": false
   },
   "outputs": [
    {
     "data": {
      "text/html": [
       "<div>\n",
       "<table border=\"1\" class=\"dataframe\">\n",
       "  <thead>\n",
       "    <tr style=\"text-align: right;\">\n",
       "      <th></th>\n",
       "      <th>b</th>\n",
       "    </tr>\n",
       "  </thead>\n",
       "  <tbody>\n",
       "    <tr>\n",
       "      <th>0</th>\n",
       "      <td>0.75</td>\n",
       "    </tr>\n",
       "    <tr>\n",
       "      <th>1</th>\n",
       "      <td>0.75</td>\n",
       "    </tr>\n",
       "    <tr>\n",
       "      <th>2</th>\n",
       "      <td>1.00</td>\n",
       "    </tr>\n",
       "    <tr>\n",
       "      <th>3</th>\n",
       "      <td>0.50</td>\n",
       "    </tr>\n",
       "  </tbody>\n",
       "</table>\n",
       "</div>"
      ],
      "text/plain": [
       "      b\n",
       "0  0.75\n",
       "1  0.75\n",
       "2  1.00\n",
       "3  0.50"
      ]
     },
     "execution_count": 26,
     "metadata": {},
     "output_type": "execute_result"
    }
   ],
   "source": [
    "df[['a', 'b']].groupby(['a']).rank(pct=True, ascending=False)"
   ]
  },
  {
   "cell_type": "code",
   "execution_count": 66,
   "metadata": {
    "collapsed": false
   },
   "outputs": [
    {
     "data": {
      "text/plain": [
       "0    False\n",
       "1     True\n",
       "dtype: bool"
      ]
     },
     "execution_count": 66,
     "metadata": {},
     "output_type": "execute_result"
    }
   ],
   "source": [
    "df.isnull().any(axis=1)"
   ]
  },
  {
   "cell_type": "code",
   "execution_count": 2,
   "metadata": {
    "collapsed": false
   },
   "outputs": [
    {
     "data": {
      "text/plain": [
       "92"
      ]
     },
     "execution_count": 2,
     "metadata": {},
     "output_type": "execute_result"
    }
   ],
   "source": [
    "df_train = pd.read_csv('../input/train.csv')\n",
    "df_train.columns.size"
   ]
  },
  {
   "cell_type": "code",
   "execution_count": 4,
   "metadata": {
    "collapsed": false
   },
   "outputs": [
    {
     "name": "stdout",
     "output_type": "stream",
     "text": [
      "92\n"
     ]
    }
   ],
   "source": [
    "df_validate = pd.read_csv('../input/validate.csv')\n",
    "print df_validate.columns.size"
   ]
  },
  {
   "cell_type": "code",
   "execution_count": 7,
   "metadata": {
    "collapsed": false
   },
   "outputs": [
    {
     "data": {
      "text/plain": [
       "165917"
      ]
     },
     "execution_count": 7,
     "metadata": {},
     "output_type": "execute_result"
    }
   ],
   "source": [
    "(df_validate.label == 1).sum()"
   ]
  }
 ],
 "metadata": {
  "kernelspec": {
   "display_name": "Python 2",
   "language": "python",
   "name": "python2"
  },
  "language_info": {
   "codemirror_mode": {
    "name": "ipython",
    "version": 2
   },
   "file_extension": ".py",
   "mimetype": "text/x-python",
   "name": "python",
   "nbconvert_exporter": "python",
   "pygments_lexer": "ipython2",
   "version": "2.7.13"
  }
 },
 "nbformat": 4,
 "nbformat_minor": 2
}
