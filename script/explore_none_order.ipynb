{
 "cells": [
  {
   "cell_type": "code",
   "execution_count": 1,
   "metadata": {
    "collapsed": true
   },
   "outputs": [],
   "source": [
    "# pandas\n",
    "import pandas as pd\n",
    "from pandas import Series,DataFrame\n",
    "\n",
    "# numpy, matplotlib, seaborn\n",
    "import numpy as np\n",
    "import matplotlib.pyplot as plt\n",
    "import seaborn as sns\n",
    "sns.set_style('whitegrid')\n",
    "%matplotlib inline\n",
    "\n",
    "pd.set_option('max_colwidth', 200)\n",
    "pd.options.display.max_rows = 200\n",
    "pd.options.display.max_columns = 200"
   ]
  },
  {
   "cell_type": "code",
   "execution_count": 2,
   "metadata": {
    "collapsed": false
   },
   "outputs": [
    {
     "name": "stderr",
     "output_type": "stream",
     "text": [
      "/home/damonhao/anaconda2/lib/python2.7/site-packages/sklearn/cross_validation.py:44: DeprecationWarning: This module was deprecated in version 0.18 in favor of the model_selection module into which all the refactored classes and functions are moved. Also note that the interface of the new CV iterators are different from that of this module. This module will be removed in 0.20.\n",
      "  \"This module will be removed in 0.20.\", DeprecationWarning)\n"
     ]
    }
   ],
   "source": [
    "from const import *\n",
    "import train_reorder_size_model, train_none_order_model\n",
    "import utils, predict"
   ]
  },
  {
   "cell_type": "code",
   "execution_count": 18,
   "metadata": {
    "collapsed": false
   },
   "outputs": [
    {
     "data": {
      "text/plain": [
       "<module 'train_none_order_model' from 'train_none_order_model.py'>"
      ]
     },
     "execution_count": 18,
     "metadata": {},
     "output_type": "execute_result"
    }
   ],
   "source": [
    "reload(train_none_order_model)"
   ]
  },
  {
   "cell_type": "code",
   "execution_count": 30,
   "metadata": {
    "collapsed": false
   },
   "outputs": [],
   "source": [
    "df_train = pd.read_csv('../reorder_size_input/train.csv')"
   ]
  },
  {
   "cell_type": "code",
   "execution_count": 31,
   "metadata": {
    "collapsed": true
   },
   "outputs": [],
   "source": [
    "df_validate = pd.read_csv('../reorder_size_input/validate.csv')"
   ]
  },
  {
   "cell_type": "code",
   "execution_count": 32,
   "metadata": {
    "collapsed": false
   },
   "outputs": [],
   "source": [
    "df_all_train = utils.concat([df_train, df_validate])"
   ]
  },
  {
   "cell_type": "code",
   "execution_count": null,
   "metadata": {
    "collapsed": true
   },
   "outputs": [],
   "source": []
  },
  {
   "cell_type": "code",
   "execution_count": 33,
   "metadata": {
    "collapsed": false
   },
   "outputs": [],
   "source": [
    "df_all_train_not_none = df_all_train[df_all_train.reorder_size != 0]"
   ]
  },
  {
   "cell_type": "code",
   "execution_count": 30,
   "metadata": {
    "collapsed": false
   },
   "outputs": [
    {
     "data": {
      "text/plain": [
       "0.29214482044255224"
      ]
     },
     "execution_count": 30,
     "metadata": {},
     "output_type": "execute_result"
    }
   ],
   "source": [
    "df_all_train_not_none[df_all_train_not_none.days_since_prior_order == 30].shape[0] / float(df_all_train_not_none.shape[0])"
   ]
  },
  {
   "cell_type": "code",
   "execution_count": 32,
   "metadata": {
    "collapsed": false
   },
   "outputs": [],
   "source": [
    "df_all_train_none = df_all_train[df_all_train.reorder_size == 0]"
   ]
  },
  {
   "cell_type": "code",
   "execution_count": 34,
   "metadata": {
    "collapsed": false
   },
   "outputs": [
    {
     "data": {
      "text/plain": [
       "0.28063241106719367"
      ]
     },
     "execution_count": 34,
     "metadata": {},
     "output_type": "execute_result"
    }
   ],
   "source": [
    "df_all_train_none[df_all_train_none.last_size == 0].shape[0] / float(df_all_train_none.shape[0])"
   ]
  },
  {
   "cell_type": "code",
   "execution_count": 35,
   "metadata": {
    "collapsed": false
   },
   "outputs": [
    {
     "data": {
      "text/plain": [
       "0.05655468284845074"
      ]
     },
     "execution_count": 35,
     "metadata": {},
     "output_type": "execute_result"
    }
   ],
   "source": [
    "df_all_train_not_none[df_all_train_not_none.last_size == 0].shape[0] / float(df_all_train_not_none.shape[0])"
   ]
  },
  {
   "cell_type": "code",
   "execution_count": 13,
   "metadata": {
    "collapsed": true
   },
   "outputs": [],
   "source": [
    "df_prior = pd.read_csv('../reorder_size_input/prior_orders_extend.csv')"
   ]
  },
  {
   "cell_type": "code",
   "execution_count": 66,
   "metadata": {
    "collapsed": false
   },
   "outputs": [
    {
     "data": {
      "text/html": [
       "<div>\n",
       "<table border=\"1\" class=\"dataframe\">\n",
       "  <thead>\n",
       "    <tr style=\"text-align: right;\">\n",
       "      <th></th>\n",
       "      <th>order_id</th>\n",
       "      <th>user_id</th>\n",
       "      <th>order_number</th>\n",
       "      <th>order_dow</th>\n",
       "      <th>order_hour_of_day</th>\n",
       "      <th>days_since_prior_order</th>\n",
       "      <th>reorder_size</th>\n",
       "    </tr>\n",
       "  </thead>\n",
       "  <tbody>\n",
       "    <tr>\n",
       "      <th>8215</th>\n",
       "      <td>2940154</td>\n",
       "      <td>540</td>\n",
       "      <td>5</td>\n",
       "      <td>4</td>\n",
       "      <td>11</td>\n",
       "      <td>3.0</td>\n",
       "      <td>1</td>\n",
       "    </tr>\n",
       "    <tr>\n",
       "      <th>8214</th>\n",
       "      <td>1755983</td>\n",
       "      <td>540</td>\n",
       "      <td>4</td>\n",
       "      <td>1</td>\n",
       "      <td>3</td>\n",
       "      <td>14.0</td>\n",
       "      <td>0</td>\n",
       "    </tr>\n",
       "    <tr>\n",
       "      <th>8213</th>\n",
       "      <td>3171527</td>\n",
       "      <td>540</td>\n",
       "      <td>3</td>\n",
       "      <td>1</td>\n",
       "      <td>15</td>\n",
       "      <td>4.0</td>\n",
       "      <td>1</td>\n",
       "    </tr>\n",
       "    <tr>\n",
       "      <th>8212</th>\n",
       "      <td>2240087</td>\n",
       "      <td>540</td>\n",
       "      <td>2</td>\n",
       "      <td>4</td>\n",
       "      <td>12</td>\n",
       "      <td>19.0</td>\n",
       "      <td>0</td>\n",
       "    </tr>\n",
       "    <tr>\n",
       "      <th>8211</th>\n",
       "      <td>2308775</td>\n",
       "      <td>540</td>\n",
       "      <td>1</td>\n",
       "      <td>6</td>\n",
       "      <td>16</td>\n",
       "      <td>NaN</td>\n",
       "      <td>0</td>\n",
       "    </tr>\n",
       "  </tbody>\n",
       "</table>\n",
       "</div>"
      ],
      "text/plain": [
       "      order_id  user_id  order_number  order_dow  order_hour_of_day  \\\n",
       "8215   2940154      540             5          4                 11   \n",
       "8214   1755983      540             4          1                  3   \n",
       "8213   3171527      540             3          1                 15   \n",
       "8212   2240087      540             2          4                 12   \n",
       "8211   2308775      540             1          6                 16   \n",
       "\n",
       "      days_since_prior_order  reorder_size  \n",
       "8215                     3.0             1  \n",
       "8214                    14.0             0  \n",
       "8213                     4.0             1  \n",
       "8212                    19.0             0  \n",
       "8211                     NaN             0  "
      ]
     },
     "execution_count": 66,
     "metadata": {},
     "output_type": "execute_result"
    }
   ],
   "source": [
    "df_prior[df_prior.user_id ==540].sort_values('order_number', ascending=False)"
   ]
  },
  {
   "cell_type": "code",
   "execution_count": 38,
   "metadata": {
    "collapsed": true
   },
   "outputs": [],
   "source": [
    "df_train_none_prior = df_prior[df_prior.user_id.isin(df_all_train_none.user_id)]"
   ]
  },
  {
   "cell_type": "code",
   "execution_count": 3,
   "metadata": {
    "collapsed": true
   },
   "outputs": [],
   "source": [
    "df_prior_orders_extend = pd.read_csv(NONE_ORDER_INPUT_DIR+'prior_orders_extend.csv', index_col=0)"
   ]
  },
  {
   "cell_type": "code",
   "execution_count": 6,
   "metadata": {
    "collapsed": false
   },
   "outputs": [
    {
     "data": {
      "text/html": [
       "<div>\n",
       "<table border=\"1\" class=\"dataframe\">\n",
       "  <thead>\n",
       "    <tr style=\"text-align: right;\">\n",
       "      <th></th>\n",
       "      <th>order_id</th>\n",
       "      <th>user_id</th>\n",
       "      <th>order_number</th>\n",
       "      <th>order_dow</th>\n",
       "      <th>order_hour_of_day</th>\n",
       "      <th>days_since_prior_order</th>\n",
       "      <th>reorder_size</th>\n",
       "      <th>order_size</th>\n",
       "      <th>order_product_count</th>\n",
       "      <th>reorder_ratio</th>\n",
       "    </tr>\n",
       "  </thead>\n",
       "  <tbody>\n",
       "    <tr>\n",
       "      <th>0</th>\n",
       "      <td>2539329</td>\n",
       "      <td>1</td>\n",
       "      <td>1</td>\n",
       "      <td>2</td>\n",
       "      <td>8</td>\n",
       "      <td>NaN</td>\n",
       "      <td>0</td>\n",
       "      <td>5</td>\n",
       "      <td>5</td>\n",
       "      <td>0.000</td>\n",
       "    </tr>\n",
       "    <tr>\n",
       "      <th>1</th>\n",
       "      <td>2398795</td>\n",
       "      <td>1</td>\n",
       "      <td>2</td>\n",
       "      <td>3</td>\n",
       "      <td>7</td>\n",
       "      <td>15.0</td>\n",
       "      <td>3</td>\n",
       "      <td>6</td>\n",
       "      <td>6</td>\n",
       "      <td>0.500</td>\n",
       "    </tr>\n",
       "    <tr>\n",
       "      <th>2</th>\n",
       "      <td>473747</td>\n",
       "      <td>1</td>\n",
       "      <td>3</td>\n",
       "      <td>3</td>\n",
       "      <td>12</td>\n",
       "      <td>21.0</td>\n",
       "      <td>3</td>\n",
       "      <td>5</td>\n",
       "      <td>5</td>\n",
       "      <td>0.600</td>\n",
       "    </tr>\n",
       "    <tr>\n",
       "      <th>3</th>\n",
       "      <td>2254736</td>\n",
       "      <td>1</td>\n",
       "      <td>4</td>\n",
       "      <td>4</td>\n",
       "      <td>7</td>\n",
       "      <td>29.0</td>\n",
       "      <td>5</td>\n",
       "      <td>5</td>\n",
       "      <td>5</td>\n",
       "      <td>1.000</td>\n",
       "    </tr>\n",
       "    <tr>\n",
       "      <th>4</th>\n",
       "      <td>431534</td>\n",
       "      <td>1</td>\n",
       "      <td>5</td>\n",
       "      <td>4</td>\n",
       "      <td>15</td>\n",
       "      <td>28.0</td>\n",
       "      <td>5</td>\n",
       "      <td>8</td>\n",
       "      <td>8</td>\n",
       "      <td>0.625</td>\n",
       "    </tr>\n",
       "  </tbody>\n",
       "</table>\n",
       "</div>"
      ],
      "text/plain": [
       "   order_id  user_id  order_number  order_dow  order_hour_of_day  \\\n",
       "0   2539329        1             1          2                  8   \n",
       "1   2398795        1             2          3                  7   \n",
       "2    473747        1             3          3                 12   \n",
       "3   2254736        1             4          4                  7   \n",
       "4    431534        1             5          4                 15   \n",
       "\n",
       "   days_since_prior_order  reorder_size  order_size  order_product_count  \\\n",
       "0                     NaN             0           5                    5   \n",
       "1                    15.0             3           6                    6   \n",
       "2                    21.0             3           5                    5   \n",
       "3                    29.0             5           5                    5   \n",
       "4                    28.0             5           8                    8   \n",
       "\n",
       "   reorder_ratio  \n",
       "0          0.000  \n",
       "1          0.500  \n",
       "2          0.600  \n",
       "3          1.000  \n",
       "4          0.625  "
      ]
     },
     "execution_count": 6,
     "metadata": {},
     "output_type": "execute_result"
    }
   ],
   "source": [
    "df_prior_orders_extend.head()"
   ]
  },
  {
   "cell_type": "code",
   "execution_count": 8,
   "metadata": {
    "collapsed": false
   },
   "outputs": [],
   "source": [
    "df_prior_orders_extend = df_prior_orders_extend.drop(['order_product_count'], axis=1)"
   ]
  },
  {
   "cell_type": "code",
   "execution_count": 9,
   "metadata": {
    "collapsed": false
   },
   "outputs": [
    {
     "data": {
      "text/html": [
       "<div>\n",
       "<table border=\"1\" class=\"dataframe\">\n",
       "  <thead>\n",
       "    <tr style=\"text-align: right;\">\n",
       "      <th></th>\n",
       "      <th>order_id</th>\n",
       "      <th>user_id</th>\n",
       "      <th>order_number</th>\n",
       "      <th>order_dow</th>\n",
       "      <th>order_hour_of_day</th>\n",
       "      <th>days_since_prior_order</th>\n",
       "      <th>reorder_size</th>\n",
       "      <th>order_size</th>\n",
       "      <th>reorder_ratio</th>\n",
       "    </tr>\n",
       "  </thead>\n",
       "  <tbody>\n",
       "    <tr>\n",
       "      <th>0</th>\n",
       "      <td>2539329</td>\n",
       "      <td>1</td>\n",
       "      <td>1</td>\n",
       "      <td>2</td>\n",
       "      <td>8</td>\n",
       "      <td>NaN</td>\n",
       "      <td>0</td>\n",
       "      <td>5</td>\n",
       "      <td>0.000</td>\n",
       "    </tr>\n",
       "    <tr>\n",
       "      <th>1</th>\n",
       "      <td>2398795</td>\n",
       "      <td>1</td>\n",
       "      <td>2</td>\n",
       "      <td>3</td>\n",
       "      <td>7</td>\n",
       "      <td>15.0</td>\n",
       "      <td>3</td>\n",
       "      <td>6</td>\n",
       "      <td>0.500</td>\n",
       "    </tr>\n",
       "    <tr>\n",
       "      <th>2</th>\n",
       "      <td>473747</td>\n",
       "      <td>1</td>\n",
       "      <td>3</td>\n",
       "      <td>3</td>\n",
       "      <td>12</td>\n",
       "      <td>21.0</td>\n",
       "      <td>3</td>\n",
       "      <td>5</td>\n",
       "      <td>0.600</td>\n",
       "    </tr>\n",
       "    <tr>\n",
       "      <th>3</th>\n",
       "      <td>2254736</td>\n",
       "      <td>1</td>\n",
       "      <td>4</td>\n",
       "      <td>4</td>\n",
       "      <td>7</td>\n",
       "      <td>29.0</td>\n",
       "      <td>5</td>\n",
       "      <td>5</td>\n",
       "      <td>1.000</td>\n",
       "    </tr>\n",
       "    <tr>\n",
       "      <th>4</th>\n",
       "      <td>431534</td>\n",
       "      <td>1</td>\n",
       "      <td>5</td>\n",
       "      <td>4</td>\n",
       "      <td>15</td>\n",
       "      <td>28.0</td>\n",
       "      <td>5</td>\n",
       "      <td>8</td>\n",
       "      <td>0.625</td>\n",
       "    </tr>\n",
       "  </tbody>\n",
       "</table>\n",
       "</div>"
      ],
      "text/plain": [
       "   order_id  user_id  order_number  order_dow  order_hour_of_day  \\\n",
       "0   2539329        1             1          2                  8   \n",
       "1   2398795        1             2          3                  7   \n",
       "2    473747        1             3          3                 12   \n",
       "3   2254736        1             4          4                  7   \n",
       "4    431534        1             5          4                 15   \n",
       "\n",
       "   days_since_prior_order  reorder_size  order_size  reorder_ratio  \n",
       "0                     NaN             0           5          0.000  \n",
       "1                    15.0             3           6          0.500  \n",
       "2                    21.0             3           5          0.600  \n",
       "3                    29.0             5           5          1.000  \n",
       "4                    28.0             5           8          0.625  "
      ]
     },
     "execution_count": 9,
     "metadata": {},
     "output_type": "execute_result"
    }
   ],
   "source": [
    "df_prior_orders_extend.head()"
   ]
  },
  {
   "cell_type": "code",
   "execution_count": 10,
   "metadata": {
    "collapsed": true
   },
   "outputs": [],
   "source": [
    "df_prior_orders_extend.to_csv(NONE_ORDER_INPUT_DIR+'prior_orders_extend.csv', index=False)"
   ]
  },
  {
   "cell_type": "code",
   "execution_count": null,
   "metadata": {
    "collapsed": true
   },
   "outputs": [],
   "source": []
  },
  {
   "cell_type": "markdown",
   "metadata": {},
   "source": [
    "## 历史订单少的，none order 的可能性高。"
   ]
  },
  {
   "cell_type": "code",
   "execution_count": 39,
   "metadata": {
    "collapsed": true
   },
   "outputs": [],
   "source": [
    "df_train_none_prior_order_count = df_train_none_prior.groupby(UID).size()"
   ]
  },
  {
   "cell_type": "code",
   "execution_count": 44,
   "metadata": {
    "collapsed": false
   },
   "outputs": [
    {
     "data": {
      "text/plain": [
       "count    8602.000000\n",
       "mean        8.317368\n",
       "std         9.334697\n",
       "min         3.000000\n",
       "25%         3.000000\n",
       "50%         5.000000\n",
       "75%         9.000000\n",
       "max        99.000000\n",
       "dtype: float64"
      ]
     },
     "execution_count": 44,
     "metadata": {},
     "output_type": "execute_result"
    }
   ],
   "source": [
    "df_train_none_prior_order_count.describe()"
   ]
  },
  {
   "cell_type": "code",
   "execution_count": 75,
   "metadata": {
    "collapsed": false
   },
   "outputs": [
    {
     "data": {
      "text/html": [
       "<div>\n",
       "<table border=\"1\" class=\"dataframe\">\n",
       "  <thead>\n",
       "    <tr style=\"text-align: right;\">\n",
       "      <th></th>\n",
       "      <th>user_id</th>\n",
       "      <th>products</th>\n",
       "    </tr>\n",
       "  </thead>\n",
       "  <tbody>\n",
       "    <tr>\n",
       "      <th>0</th>\n",
       "      <td>10</td>\n",
       "      <td>5</td>\n",
       "    </tr>\n",
       "    <tr>\n",
       "      <th>1</th>\n",
       "      <td>44</td>\n",
       "      <td>3</td>\n",
       "    </tr>\n",
       "    <tr>\n",
       "      <th>2</th>\n",
       "      <td>47</td>\n",
       "      <td>5</td>\n",
       "    </tr>\n",
       "    <tr>\n",
       "      <th>3</th>\n",
       "      <td>93</td>\n",
       "      <td>14</td>\n",
       "    </tr>\n",
       "    <tr>\n",
       "      <th>4</th>\n",
       "      <td>112</td>\n",
       "      <td>26</td>\n",
       "    </tr>\n",
       "  </tbody>\n",
       "</table>\n",
       "</div>"
      ],
      "text/plain": [
       "   user_id  products\n",
       "0       10         5\n",
       "1       44         3\n",
       "2       47         5\n",
       "3       93        14\n",
       "4      112        26"
      ]
     },
     "execution_count": 75,
     "metadata": {},
     "output_type": "execute_result"
    }
   ],
   "source": [
    "df_train_none_prior_order_count.reset_index().rename(columns={0: 'products'}).head()"
   ]
  },
  {
   "cell_type": "code",
   "execution_count": 45,
   "metadata": {
    "collapsed": true
   },
   "outputs": [],
   "source": [
    "df_train_not_none_prior = df_prior[df_prior.user_id.isin(df_all_train_not_none.user_id)]"
   ]
  },
  {
   "cell_type": "code",
   "execution_count": 46,
   "metadata": {
    "collapsed": true
   },
   "outputs": [],
   "source": [
    "df_train_not_none_prior_order_count = df_train_not_none_prior.groupby(UID).size()"
   ]
  },
  {
   "cell_type": "code",
   "execution_count": 47,
   "metadata": {
    "collapsed": false
   },
   "outputs": [
    {
     "data": {
      "text/plain": [
       "count    122607.000000\n",
       "mean         16.115157\n",
       "std          16.940131\n",
       "min           3.000000\n",
       "25%           5.000000\n",
       "50%          10.000000\n",
       "75%          20.000000\n",
       "max          99.000000\n",
       "dtype: float64"
      ]
     },
     "execution_count": 47,
     "metadata": {},
     "output_type": "execute_result"
    }
   ],
   "source": [
    "df_train_not_none_prior_order_count.describe()"
   ]
  },
  {
   "cell_type": "markdown",
   "metadata": {},
   "source": [
    "## none order 的 prior 的 reorder size 的分布"
   ]
  },
  {
   "cell_type": "code",
   "execution_count": 60,
   "metadata": {
    "collapsed": false
   },
   "outputs": [
    {
     "data": {
      "text/plain": [
       "count    71546.000000\n",
       "mean         2.339698\n",
       "std          3.339566\n",
       "min          0.000000\n",
       "25%          0.000000\n",
       "50%          1.000000\n",
       "75%          3.000000\n",
       "max         50.000000\n",
       "Name: reorder_size, dtype: float64"
      ]
     },
     "execution_count": 60,
     "metadata": {},
     "output_type": "execute_result"
    }
   ],
   "source": [
    "df_train_none_prior.reorder_size.describe()"
   ]
  },
  {
   "cell_type": "code",
   "execution_count": 64,
   "metadata": {
    "collapsed": false
   },
   "outputs": [
    {
     "data": {
      "text/plain": [
       "(71546, 7)"
      ]
     },
     "execution_count": 64,
     "metadata": {},
     "output_type": "execute_result"
    }
   ],
   "source": [
    "df_train_none_prior.shape"
   ]
  },
  {
   "cell_type": "code",
   "execution_count": 65,
   "metadata": {
    "collapsed": false,
    "scrolled": true
   },
   "outputs": [
    {
     "data": {
      "text/plain": [
       "count    1.975831e+06\n",
       "mean     6.073361e+00\n",
       "std      5.856280e+00\n",
       "min      0.000000e+00\n",
       "25%      2.000000e+00\n",
       "50%      5.000000e+00\n",
       "75%      9.000000e+00\n",
       "max      1.300000e+02\n",
       "Name: reorder_size, dtype: float64"
      ]
     },
     "execution_count": 65,
     "metadata": {},
     "output_type": "execute_result"
    }
   ],
   "source": [
    "df_train_not_none_prior.reorder_size.describe()"
   ]
  },
  {
   "cell_type": "code",
   "execution_count": 24,
   "metadata": {
    "collapsed": true
   },
   "outputs": [],
   "source": [
    "df_corr = pd.read_csv('../none_order_input/corr.csv', index_col=0)"
   ]
  },
  {
   "cell_type": "code",
   "execution_count": 29,
   "metadata": {
    "collapsed": false
   },
   "outputs": [
    {
     "data": {
      "text/plain": [
       "order_id                                    0.004702\n",
       "user_id                                    -0.004943\n",
       "order_number                                0.319815\n",
       "order_dow                                  -0.023550\n",
       "order_hour_of_day                          -0.006103\n",
       "days_since_prior_order                     -0.175093\n",
       "label                                      -0.195746\n",
       "last_size                                   0.876642\n",
       "last_order_none                            -0.249283\n",
       "last_3_none_order_count                    -0.433485\n",
       "last_3_none_order_ratio                    -0.433485\n",
       "last_3_order_dow_mean                      -0.044804\n",
       "last_3_order_dow_std                       -0.015473\n",
       "last_3_order_hour_of_day_mean              -0.017741\n",
       "last_3_order_hour_of_day_std                0.006430\n",
       "last_3_order_days_since_prior_order_mean   -0.209795\n",
       "last_3_order_days_since_prior_order_std    -0.124447\n",
       "last_3_order_days_since_prior_order_max    -0.214010\n",
       "last_3_order_days_since_prior_order_min    -0.140803\n",
       "last_3_reorder_size_mean                    1.000000\n",
       "last_3_reorder_size_std                     0.607278\n",
       "last_3_reorder_size_max                     0.957540\n",
       "last_3_reorder_size_min                     0.909286\n",
       "none_order_count                           -0.262294\n",
       "none_order_ratio                           -0.517610\n",
       "prior_order_dow_mean                       -0.053303\n",
       "prior_order_dow_std                         0.053281\n",
       "prior_order_hour_of_day_mean               -0.014525\n",
       "prior_order_hour_of_day_std                 0.051724\n",
       "prior_order_days_since_prior_order_mean    -0.241139\n",
       "prior_order_days_since_prior_order_std     -0.107257\n",
       "prior_order_days_since_prior_order_max     -0.043886\n",
       "prior_order_days_since_prior_order_min     -0.218541\n",
       "reorder_size_mean                           0.922303\n",
       "reorder_size_std                            0.850828\n",
       "reorder_size_max                            0.880918\n",
       "reorder_size_min                                 NaN\n",
       "days_since_prior_order_30                  -0.171388\n",
       "Name: last_3_reorder_size_mean, dtype: float64"
      ]
     },
     "execution_count": 29,
     "metadata": {},
     "output_type": "execute_result"
    }
   ],
   "source": [
    "df_corr.last_3_reorder_size_mean"
   ]
  },
  {
   "cell_type": "code",
   "execution_count": 26,
   "metadata": {
    "collapsed": false
   },
   "outputs": [
    {
     "data": {
      "text/plain": [
       "<matplotlib.axes._subplots.AxesSubplot at 0x7f9d8ddd75d0>"
      ]
     },
     "execution_count": 26,
     "metadata": {},
     "output_type": "execute_result"
    },
    {
     "data": {
      "image/png": "[encoded data removed]",
      "text/plain": [
       "<matplotlib.figure.Figure at 0x7f9d8feb07d0>"
      ]
     },
     "metadata": {},
     "output_type": "display_data"
    }
   ],
   "source": [
    "sns.heatmap(df_corr)"
   ]
  },
  {
   "cell_type": "markdown",
   "metadata": {},
   "source": [
    "## 模型特征"
   ]
  },
  {
   "cell_type": "code",
   "execution_count": null,
   "metadata": {
    "collapsed": true
   },
   "outputs": [],
   "source": [
    "xgb_model = train_none_order_model.run_train(NONE_ORDER_INPUT_DIR+'train.csv', NONE_ORDER_INPUT_DIR + 'validate.csv')"
   ]
  },
  {
   "cell_type": "code",
   "execution_count": 20,
   "metadata": {
    "collapsed": true
   },
   "outputs": [],
   "source": [
    "df_f_gain = utils.get_feature_score(xgb_model._Booster.get_score(importance_type='gain'))"
   ]
  },
  {
   "cell_type": "code",
   "execution_count": 21,
   "metadata": {
    "collapsed": false,
    "scrolled": true
   },
   "outputs": [
    {
     "data": {
      "text/html": [
       "<div>\n",
       "<table border=\"1\" class=\"dataframe\">\n",
       "  <thead>\n",
       "    <tr style=\"text-align: right;\">\n",
       "      <th></th>\n",
       "      <th>features</th>\n",
       "      <th>scores</th>\n",
       "    </tr>\n",
       "  </thead>\n",
       "  <tbody>\n",
       "    <tr>\n",
       "      <th>0</th>\n",
       "      <td>reorder_size_mean</td>\n",
       "      <td>215.430447</td>\n",
       "    </tr>\n",
       "    <tr>\n",
       "      <th>1</th>\n",
       "      <td>reorder_size_max</td>\n",
       "      <td>141.082389</td>\n",
       "    </tr>\n",
       "    <tr>\n",
       "      <th>2</th>\n",
       "      <td>last_3_reorder_size_max</td>\n",
       "      <td>101.874139</td>\n",
       "    </tr>\n",
       "    <tr>\n",
       "      <th>3</th>\n",
       "      <td>last_3_reorder_size_min</td>\n",
       "      <td>54.040934</td>\n",
       "    </tr>\n",
       "    <tr>\n",
       "      <th>4</th>\n",
       "      <td>none_order_ratio</td>\n",
       "      <td>30.967638</td>\n",
       "    </tr>\n",
       "    <tr>\n",
       "      <th>5</th>\n",
       "      <td>last_order_none</td>\n",
       "      <td>24.777993</td>\n",
       "    </tr>\n",
       "    <tr>\n",
       "      <th>6</th>\n",
       "      <td>last_size</td>\n",
       "      <td>21.711409</td>\n",
       "    </tr>\n",
       "    <tr>\n",
       "      <th>7</th>\n",
       "      <td>days_since_prior_order_30</td>\n",
       "      <td>20.576883</td>\n",
       "    </tr>\n",
       "    <tr>\n",
       "      <th>8</th>\n",
       "      <td>last_3_none_order_count</td>\n",
       "      <td>20.359425</td>\n",
       "    </tr>\n",
       "    <tr>\n",
       "      <th>9</th>\n",
       "      <td>days_since_prior_order</td>\n",
       "      <td>14.447138</td>\n",
       "    </tr>\n",
       "    <tr>\n",
       "      <th>10</th>\n",
       "      <td>prior_order_days_since_prior_order_mean</td>\n",
       "      <td>13.444341</td>\n",
       "    </tr>\n",
       "    <tr>\n",
       "      <th>11</th>\n",
       "      <td>prior_order_days_since_prior_order_min</td>\n",
       "      <td>10.714099</td>\n",
       "    </tr>\n",
       "    <tr>\n",
       "      <th>12</th>\n",
       "      <td>none_order_count</td>\n",
       "      <td>10.460374</td>\n",
       "    </tr>\n",
       "    <tr>\n",
       "      <th>13</th>\n",
       "      <td>prior_order_days_since_prior_order_max</td>\n",
       "      <td>10.253507</td>\n",
       "    </tr>\n",
       "    <tr>\n",
       "      <th>14</th>\n",
       "      <td>order_dow</td>\n",
       "      <td>9.869677</td>\n",
       "    </tr>\n",
       "    <tr>\n",
       "      <th>15</th>\n",
       "      <td>last_3_order_days_since_prior_order_mean</td>\n",
       "      <td>9.446920</td>\n",
       "    </tr>\n",
       "    <tr>\n",
       "      <th>16</th>\n",
       "      <td>last_3_order_days_since_prior_order_max</td>\n",
       "      <td>9.261250</td>\n",
       "    </tr>\n",
       "    <tr>\n",
       "      <th>17</th>\n",
       "      <td>reorder_size_std</td>\n",
       "      <td>8.974342</td>\n",
       "    </tr>\n",
       "    <tr>\n",
       "      <th>18</th>\n",
       "      <td>last_3_order_days_since_prior_order_std</td>\n",
       "      <td>8.508429</td>\n",
       "    </tr>\n",
       "    <tr>\n",
       "      <th>19</th>\n",
       "      <td>order_number</td>\n",
       "      <td>8.080480</td>\n",
       "    </tr>\n",
       "    <tr>\n",
       "      <th>20</th>\n",
       "      <td>prior_order_dow_std</td>\n",
       "      <td>7.931144</td>\n",
       "    </tr>\n",
       "    <tr>\n",
       "      <th>21</th>\n",
       "      <td>last_3_order_days_since_prior_order_min</td>\n",
       "      <td>7.858220</td>\n",
       "    </tr>\n",
       "    <tr>\n",
       "      <th>22</th>\n",
       "      <td>prior_order_hour_of_day_std</td>\n",
       "      <td>7.087404</td>\n",
       "    </tr>\n",
       "    <tr>\n",
       "      <th>23</th>\n",
       "      <td>prior_order_days_since_prior_order_std</td>\n",
       "      <td>6.902341</td>\n",
       "    </tr>\n",
       "    <tr>\n",
       "      <th>24</th>\n",
       "      <td>prior_order_hour_of_day_mean</td>\n",
       "      <td>6.854340</td>\n",
       "    </tr>\n",
       "    <tr>\n",
       "      <th>25</th>\n",
       "      <td>last_3_reorder_size_std</td>\n",
       "      <td>6.852958</td>\n",
       "    </tr>\n",
       "    <tr>\n",
       "      <th>26</th>\n",
       "      <td>prior_order_dow_mean</td>\n",
       "      <td>6.440123</td>\n",
       "    </tr>\n",
       "    <tr>\n",
       "      <th>27</th>\n",
       "      <td>last_3_order_hour_of_day_mean</td>\n",
       "      <td>6.262925</td>\n",
       "    </tr>\n",
       "    <tr>\n",
       "      <th>28</th>\n",
       "      <td>last_3_order_dow_mean</td>\n",
       "      <td>6.129957</td>\n",
       "    </tr>\n",
       "    <tr>\n",
       "      <th>29</th>\n",
       "      <td>last_3_order_hour_of_day_std</td>\n",
       "      <td>6.031354</td>\n",
       "    </tr>\n",
       "    <tr>\n",
       "      <th>30</th>\n",
       "      <td>last_3_order_dow_std</td>\n",
       "      <td>5.895984</td>\n",
       "    </tr>\n",
       "    <tr>\n",
       "      <th>31</th>\n",
       "      <td>order_hour_of_day</td>\n",
       "      <td>5.861552</td>\n",
       "    </tr>\n",
       "  </tbody>\n",
       "</table>\n",
       "</div>"
      ],
      "text/plain": [
       "                                    features      scores\n",
       "0                          reorder_size_mean  215.430447\n",
       "1                           reorder_size_max  141.082389\n",
       "2                    last_3_reorder_size_max  101.874139\n",
       "3                    last_3_reorder_size_min   54.040934\n",
       "4                           none_order_ratio   30.967638\n",
       "5                            last_order_none   24.777993\n",
       "6                                  last_size   21.711409\n",
       "7                  days_since_prior_order_30   20.576883\n",
       "8                    last_3_none_order_count   20.359425\n",
       "9                     days_since_prior_order   14.447138\n",
       "10   prior_order_days_since_prior_order_mean   13.444341\n",
       "11    prior_order_days_since_prior_order_min   10.714099\n",
       "12                          none_order_count   10.460374\n",
       "13    prior_order_days_since_prior_order_max   10.253507\n",
       "14                                 order_dow    9.869677\n",
       "15  last_3_order_days_since_prior_order_mean    9.446920\n",
       "16   last_3_order_days_since_prior_order_max    9.261250\n",
       "17                          reorder_size_std    8.974342\n",
       "18   last_3_order_days_since_prior_order_std    8.508429\n",
       "19                              order_number    8.080480\n",
       "20                       prior_order_dow_std    7.931144\n",
       "21   last_3_order_days_since_prior_order_min    7.858220\n",
       "22               prior_order_hour_of_day_std    7.087404\n",
       "23    prior_order_days_since_prior_order_std    6.902341\n",
       "24              prior_order_hour_of_day_mean    6.854340\n",
       "25                   last_3_reorder_size_std    6.852958\n",
       "26                      prior_order_dow_mean    6.440123\n",
       "27             last_3_order_hour_of_day_mean    6.262925\n",
       "28                     last_3_order_dow_mean    6.129957\n",
       "29              last_3_order_hour_of_day_std    6.031354\n",
       "30                      last_3_order_dow_std    5.895984\n",
       "31                         order_hour_of_day    5.861552"
      ]
     },
     "execution_count": 21,
     "metadata": {},
     "output_type": "execute_result"
    }
   ],
   "source": [
    "df_f_gain"
   ]
  },
  {
   "cell_type": "code",
   "execution_count": null,
   "metadata": {
    "collapsed": true
   },
   "outputs": [],
   "source": []
  },
  {
   "cell_type": "code",
   "execution_count": 15,
   "metadata": {
    "collapsed": true
   },
   "outputs": [],
   "source": [
    "xgb_model_imbalance = utils.load_model('XGBClassifier_colsample_bytree:0.9_learning_rate:0.03_max_depth:4_n_estimators:351_subsample:0.8_08-06-13-21-10.pkl')"
   ]
  },
  {
   "cell_type": "code",
   "execution_count": 16,
   "metadata": {
    "collapsed": true
   },
   "outputs": [],
   "source": [
    "df_f_gain_imba = utils.get_feature_score(xgb_model_2._Booster.get_score(importance_type='gain'))"
   ]
  },
  {
   "cell_type": "code",
   "execution_count": 17,
   "metadata": {
    "collapsed": false,
    "scrolled": true
   },
   "outputs": [
    {
     "data": {
      "text/html": [
       "<div>\n",
       "<table border=\"1\" class=\"dataframe\">\n",
       "  <thead>\n",
       "    <tr style=\"text-align: right;\">\n",
       "      <th></th>\n",
       "      <th>features</th>\n",
       "      <th>scores</th>\n",
       "    </tr>\n",
       "  </thead>\n",
       "  <tbody>\n",
       "    <tr>\n",
       "      <th>0</th>\n",
       "      <td>reorder_size_mean</td>\n",
       "      <td>174.414057</td>\n",
       "    </tr>\n",
       "    <tr>\n",
       "      <th>1</th>\n",
       "      <td>last_3_reorder_size_max</td>\n",
       "      <td>50.420780</td>\n",
       "    </tr>\n",
       "    <tr>\n",
       "      <th>2</th>\n",
       "      <td>last_3_reorder_size_min</td>\n",
       "      <td>50.011998</td>\n",
       "    </tr>\n",
       "    <tr>\n",
       "      <th>3</th>\n",
       "      <td>none_order_ratio</td>\n",
       "      <td>29.600190</td>\n",
       "    </tr>\n",
       "    <tr>\n",
       "      <th>4</th>\n",
       "      <td>last_order_none</td>\n",
       "      <td>20.681271</td>\n",
       "    </tr>\n",
       "    <tr>\n",
       "      <th>5</th>\n",
       "      <td>last_size</td>\n",
       "      <td>19.595445</td>\n",
       "    </tr>\n",
       "    <tr>\n",
       "      <th>6</th>\n",
       "      <td>last_3_none_order_count</td>\n",
       "      <td>16.098053</td>\n",
       "    </tr>\n",
       "    <tr>\n",
       "      <th>7</th>\n",
       "      <td>prior_order_days_since_prior_order_mean</td>\n",
       "      <td>13.323452</td>\n",
       "    </tr>\n",
       "    <tr>\n",
       "      <th>8</th>\n",
       "      <td>prior_order_days_since_prior_order_min</td>\n",
       "      <td>13.018807</td>\n",
       "    </tr>\n",
       "    <tr>\n",
       "      <th>9</th>\n",
       "      <td>reorder_size_max</td>\n",
       "      <td>12.903322</td>\n",
       "    </tr>\n",
       "    <tr>\n",
       "      <th>10</th>\n",
       "      <td>days_since_prior_order</td>\n",
       "      <td>12.547156</td>\n",
       "    </tr>\n",
       "    <tr>\n",
       "      <th>11</th>\n",
       "      <td>days_since_prior_order_30</td>\n",
       "      <td>12.468837</td>\n",
       "    </tr>\n",
       "    <tr>\n",
       "      <th>12</th>\n",
       "      <td>prior_order_days_since_prior_order_max</td>\n",
       "      <td>11.109595</td>\n",
       "    </tr>\n",
       "    <tr>\n",
       "      <th>13</th>\n",
       "      <td>last_3_order_days_since_prior_order_min</td>\n",
       "      <td>11.060885</td>\n",
       "    </tr>\n",
       "    <tr>\n",
       "      <th>14</th>\n",
       "      <td>none_order_count</td>\n",
       "      <td>10.747992</td>\n",
       "    </tr>\n",
       "    <tr>\n",
       "      <th>15</th>\n",
       "      <td>reorder_size_std</td>\n",
       "      <td>10.514283</td>\n",
       "    </tr>\n",
       "    <tr>\n",
       "      <th>16</th>\n",
       "      <td>order_dow</td>\n",
       "      <td>10.300890</td>\n",
       "    </tr>\n",
       "    <tr>\n",
       "      <th>17</th>\n",
       "      <td>last_3_order_days_since_prior_order_mean</td>\n",
       "      <td>10.252159</td>\n",
       "    </tr>\n",
       "    <tr>\n",
       "      <th>18</th>\n",
       "      <td>last_3_order_days_since_prior_order_max</td>\n",
       "      <td>9.188936</td>\n",
       "    </tr>\n",
       "    <tr>\n",
       "      <th>19</th>\n",
       "      <td>last_3_order_days_since_prior_order_std</td>\n",
       "      <td>8.776007</td>\n",
       "    </tr>\n",
       "    <tr>\n",
       "      <th>20</th>\n",
       "      <td>prior_order_dow_std</td>\n",
       "      <td>8.587794</td>\n",
       "    </tr>\n",
       "    <tr>\n",
       "      <th>21</th>\n",
       "      <td>order_number</td>\n",
       "      <td>8.468796</td>\n",
       "    </tr>\n",
       "    <tr>\n",
       "      <th>22</th>\n",
       "      <td>prior_order_days_since_prior_order_std</td>\n",
       "      <td>8.291651</td>\n",
       "    </tr>\n",
       "    <tr>\n",
       "      <th>23</th>\n",
       "      <td>prior_order_hour_of_day_std</td>\n",
       "      <td>8.062382</td>\n",
       "    </tr>\n",
       "    <tr>\n",
       "      <th>24</th>\n",
       "      <td>last_3_reorder_size_std</td>\n",
       "      <td>7.749745</td>\n",
       "    </tr>\n",
       "    <tr>\n",
       "      <th>25</th>\n",
       "      <td>last_3_order_dow_mean</td>\n",
       "      <td>7.358247</td>\n",
       "    </tr>\n",
       "    <tr>\n",
       "      <th>26</th>\n",
       "      <td>last_3_order_hour_of_day_std</td>\n",
       "      <td>7.109942</td>\n",
       "    </tr>\n",
       "    <tr>\n",
       "      <th>27</th>\n",
       "      <td>order_hour_of_day</td>\n",
       "      <td>6.960099</td>\n",
       "    </tr>\n",
       "    <tr>\n",
       "      <th>28</th>\n",
       "      <td>prior_order_dow_mean</td>\n",
       "      <td>6.935059</td>\n",
       "    </tr>\n",
       "    <tr>\n",
       "      <th>29</th>\n",
       "      <td>last_3_order_hour_of_day_mean</td>\n",
       "      <td>6.822008</td>\n",
       "    </tr>\n",
       "    <tr>\n",
       "      <th>30</th>\n",
       "      <td>prior_order_hour_of_day_mean</td>\n",
       "      <td>6.651766</td>\n",
       "    </tr>\n",
       "    <tr>\n",
       "      <th>31</th>\n",
       "      <td>last_3_order_dow_std</td>\n",
       "      <td>6.080684</td>\n",
       "    </tr>\n",
       "  </tbody>\n",
       "</table>\n",
       "</div>"
      ],
      "text/plain": [
       "                                    features      scores\n",
       "0                          reorder_size_mean  174.414057\n",
       "1                    last_3_reorder_size_max   50.420780\n",
       "2                    last_3_reorder_size_min   50.011998\n",
       "3                           none_order_ratio   29.600190\n",
       "4                            last_order_none   20.681271\n",
       "5                                  last_size   19.595445\n",
       "6                    last_3_none_order_count   16.098053\n",
       "7    prior_order_days_since_prior_order_mean   13.323452\n",
       "8     prior_order_days_since_prior_order_min   13.018807\n",
       "9                           reorder_size_max   12.903322\n",
       "10                    days_since_prior_order   12.547156\n",
       "11                 days_since_prior_order_30   12.468837\n",
       "12    prior_order_days_since_prior_order_max   11.109595\n",
       "13   last_3_order_days_since_prior_order_min   11.060885\n",
       "14                          none_order_count   10.747992\n",
       "15                          reorder_size_std   10.514283\n",
       "16                                 order_dow   10.300890\n",
       "17  last_3_order_days_since_prior_order_mean   10.252159\n",
       "18   last_3_order_days_since_prior_order_max    9.188936\n",
       "19   last_3_order_days_since_prior_order_std    8.776007\n",
       "20                       prior_order_dow_std    8.587794\n",
       "21                              order_number    8.468796\n",
       "22    prior_order_days_since_prior_order_std    8.291651\n",
       "23               prior_order_hour_of_day_std    8.062382\n",
       "24                   last_3_reorder_size_std    7.749745\n",
       "25                     last_3_order_dow_mean    7.358247\n",
       "26              last_3_order_hour_of_day_std    7.109942\n",
       "27                         order_hour_of_day    6.960099\n",
       "28                      prior_order_dow_mean    6.935059\n",
       "29             last_3_order_hour_of_day_mean    6.822008\n",
       "30              prior_order_hour_of_day_mean    6.651766\n",
       "31                      last_3_order_dow_std    6.080684"
      ]
     },
     "execution_count": 17,
     "metadata": {},
     "output_type": "execute_result"
    }
   ],
   "source": [
    "df_f_gain_imba"
   ]
  },
  {
   "cell_type": "code",
   "execution_count": 30,
   "metadata": {
    "collapsed": true
   },
   "outputs": [],
   "source": [
    "df_f_weight = utils.get_feature_score(xgb_model._Booster.get_score(importance_type='weight'))"
   ]
  },
  {
   "cell_type": "code",
   "execution_count": 36,
   "metadata": {
    "collapsed": true
   },
   "outputs": [],
   "source": [
    "df_f_cover = utils.get_feature_score(xgb_model._Booster.get_score(importance_type='cover'))"
   ]
  },
  {
   "cell_type": "code",
   "execution_count": 10,
   "metadata": {
    "collapsed": false
   },
   "outputs": [],
   "source": [
    "df_validate = pd.read_csv('../none_order_input/validate.csv')"
   ]
  },
  {
   "cell_type": "code",
   "execution_count": 84,
   "metadata": {
    "collapsed": true
   },
   "outputs": [],
   "source": [
    "df_validate.to_csv('../none_order_input/validate.csv', index=False)"
   ]
  },
  {
   "cell_type": "code",
   "execution_count": 6,
   "metadata": {
    "collapsed": true
   },
   "outputs": [],
   "source": [
    "df_validate['label'] = df_validate['reorder_size'].map(lambda x: 1 if x == 0 else 0)"
   ]
  },
  {
   "cell_type": "code",
   "execution_count": 25,
   "metadata": {
    "collapsed": false
   },
   "outputs": [
    {
     "data": {
      "text/plain": [
       "0"
      ]
     },
     "execution_count": 25,
     "metadata": {},
     "output_type": "execute_result"
    }
   ],
   "source": [
    "(df_validate.reorder_size_min > 0).sum()"
   ]
  },
  {
   "cell_type": "code",
   "execution_count": 24,
   "metadata": {
    "collapsed": false
   },
   "outputs": [
    {
     "data": {
      "text/plain": [
       "(26390, 38)"
      ]
     },
     "execution_count": 24,
     "metadata": {},
     "output_type": "execute_result"
    }
   ],
   "source": [
    "df_validate.shape"
   ]
  },
  {
   "cell_type": "code",
   "execution_count": 12,
   "metadata": {
    "collapsed": true
   },
   "outputs": [],
   "source": [
    "df_validate_none = df_validate[df_validate.label == 1]"
   ]
  },
  {
   "cell_type": "code",
   "execution_count": 32,
   "metadata": {
    "collapsed": true
   },
   "outputs": [],
   "source": [
    "df_predict_proba = pd.read_csv('../prediction/validate_none_order_proba.csv')"
   ]
  },
  {
   "cell_type": "code",
   "execution_count": 35,
   "metadata": {
    "collapsed": false
   },
   "outputs": [
    {
     "data": {
      "text/plain": [
       "1773"
      ]
     },
     "execution_count": 35,
     "metadata": {},
     "output_type": "execute_result"
    }
   ],
   "source": [
    "df_predict_proba.label.sum()"
   ]
  },
  {
   "cell_type": "code",
   "execution_count": 38,
   "metadata": {
    "collapsed": false
   },
   "outputs": [
    {
     "data": {
      "text/plain": [
       "0.0671845395983327"
      ]
     },
     "execution_count": 38,
     "metadata": {},
     "output_type": "execute_result"
    }
   ],
   "source": [
    "df_predict_proba.label.sum() / float(df_validate.shape[0])"
   ]
  },
  {
   "cell_type": "code",
   "execution_count": 41,
   "metadata": {
    "collapsed": true
   },
   "outputs": [],
   "source": [
    "name = 'XGBClassifier_colsample_bytree:0.9_learning_rate:0.024_max_depth:4_n_estimators:345_scale_pos_weight:14_subsample:0.8_08-06-15-43-38.pkl'\n",
    "xgb_model_scale = utils.load_model(name)"
   ]
  },
  {
   "cell_type": "code",
   "execution_count": 44,
   "metadata": {
    "collapsed": true
   },
   "outputs": [],
   "source": [
    "df_f_gain1 = utils.get_feature_score(xgb_model_scale._Booster.get_score(importance_type='gain'))"
   ]
  },
  {
   "cell_type": "code",
   "execution_count": 46,
   "metadata": {
    "collapsed": true
   },
   "outputs": [],
   "source": [
    "df_analysis = predict.read_max_f1_analysis('../prediction/analysis_08-04-20-56-54_validate_diff_stack.csv')"
   ]
  },
  {
   "cell_type": "code",
   "execution_count": 47,
   "metadata": {
    "collapsed": true
   },
   "outputs": [],
   "source": [
    "none_index = df_analysis.apply(lambda row: True if row['true_products'][0] is None else False, axis=1)\n",
    "df_analysis_none =df_analysis[none_index]"
   ]
  },
  {
   "cell_type": "code",
   "execution_count": 48,
   "metadata": {
    "collapsed": false,
    "scrolled": true
   },
   "outputs": [
    {
     "data": {
      "text/html": [
       "<div>\n",
       "<table border=\"1\" class=\"dataframe\">\n",
       "  <thead>\n",
       "    <tr style=\"text-align: right;\">\n",
       "      <th></th>\n",
       "      <th>user_id</th>\n",
       "      <th>true_products</th>\n",
       "      <th>products</th>\n",
       "      <th>best_k_proba</th>\n",
       "      <th>scores</th>\n",
       "    </tr>\n",
       "  </thead>\n",
       "  <tbody>\n",
       "    <tr>\n",
       "      <th>349</th>\n",
       "      <td>184141</td>\n",
       "      <td>[None]</td>\n",
       "      <td>[46842, 2374, 20682, 20156, 11422, 29095, 41164]</td>\n",
       "      <td>[ 0.92306  0.92181  0.90807  0.89322  0.86663  0.86586  0.81029]</td>\n",
       "      <td>0.0</td>\n",
       "    </tr>\n",
       "    <tr>\n",
       "      <th>460</th>\n",
       "      <td>178114</td>\n",
       "      <td>[None]</td>\n",
       "      <td>[19660, 37710]</td>\n",
       "      <td>[ 0.92231  0.66953]</td>\n",
       "      <td>0.0</td>\n",
       "    </tr>\n",
       "    <tr>\n",
       "      <th>869</th>\n",
       "      <td>179619</td>\n",
       "      <td>[None]</td>\n",
       "      <td>[21386]</td>\n",
       "      <td>[ 0.92013]</td>\n",
       "      <td>0.0</td>\n",
       "    </tr>\n",
       "    <tr>\n",
       "      <th>1042</th>\n",
       "      <td>170686</td>\n",
       "      <td>[None]</td>\n",
       "      <td>[13176, 37710, 13259, 39275, 32403]</td>\n",
       "      <td>[ 0.91933  0.91802  0.89533  0.89492  0.80209]</td>\n",
       "      <td>0.0</td>\n",
       "    </tr>\n",
       "    <tr>\n",
       "      <th>1091</th>\n",
       "      <td>184273</td>\n",
       "      <td>[None]</td>\n",
       "      <td>[14947, 40013, 8424, 27705, 23821]</td>\n",
       "      <td>[ 0.91906  0.89742  0.85488  0.85124  0.84982]</td>\n",
       "      <td>0.0</td>\n",
       "    </tr>\n",
       "  </tbody>\n",
       "</table>\n",
       "</div>"
      ],
      "text/plain": [
       "      user_id true_products                                          products  \\\n",
       "349    184141        [None]  [46842, 2374, 20682, 20156, 11422, 29095, 41164]   \n",
       "460    178114        [None]                                    [19660, 37710]   \n",
       "869    179619        [None]                                           [21386]   \n",
       "1042   170686        [None]               [13176, 37710, 13259, 39275, 32403]   \n",
       "1091   184273        [None]                [14947, 40013, 8424, 27705, 23821]   \n",
       "\n",
       "                                                          best_k_proba  scores  \n",
       "349   [ 0.92306  0.92181  0.90807  0.89322  0.86663  0.86586  0.81029]     0.0  \n",
       "460                                                [ 0.92231  0.66953]     0.0  \n",
       "869                                                         [ 0.92013]     0.0  \n",
       "1042                    [ 0.91933  0.91802  0.89533  0.89492  0.80209]     0.0  \n",
       "1091                    [ 0.91906  0.89742  0.85488  0.85124  0.84982]     0.0  "
      ]
     },
     "execution_count": 48,
     "metadata": {},
     "output_type": "execute_result"
    }
   ],
   "source": [
    "df_analysis_none[df_analysis_none.scores == 0].head()"
   ]
  },
  {
   "cell_type": "code",
   "execution_count": 58,
   "metadata": {
    "collapsed": true
   },
   "outputs": [],
   "source": [
    "df_target = df_predict_proba[df_predict_proba.user_id.isin(df_analysis_none[df_analysis_none.scores == 0].user_id)]  "
   ]
  },
  {
   "cell_type": "code",
   "execution_count": 9,
   "metadata": {
    "collapsed": true
   },
   "outputs": [],
   "source": [
    "df_predict_1 = pd.read_csv('../prediction/validate_none_order_prob_ratio.csv')"
   ]
  },
  {
   "cell_type": "code",
   "execution_count": 10,
   "metadata": {
    "collapsed": false,
    "scrolled": true
   },
   "outputs": [
    {
     "data": {
      "text/html": [
       "<div>\n",
       "<table border=\"1\" class=\"dataframe\">\n",
       "  <thead>\n",
       "    <tr style=\"text-align: right;\">\n",
       "      <th></th>\n",
       "      <th>user_id</th>\n",
       "      <th>label</th>\n",
       "      <th>proba</th>\n",
       "    </tr>\n",
       "  </thead>\n",
       "  <tbody>\n",
       "    <tr>\n",
       "      <th>0</th>\n",
       "      <td>182928</td>\n",
       "      <td>1</td>\n",
       "      <td>0.861438</td>\n",
       "    </tr>\n",
       "    <tr>\n",
       "      <th>1</th>\n",
       "      <td>191168</td>\n",
       "      <td>1</td>\n",
       "      <td>0.860640</td>\n",
       "    </tr>\n",
       "    <tr>\n",
       "      <th>2</th>\n",
       "      <td>205809</td>\n",
       "      <td>0</td>\n",
       "      <td>0.859323</td>\n",
       "    </tr>\n",
       "    <tr>\n",
       "      <th>3</th>\n",
       "      <td>182866</td>\n",
       "      <td>0</td>\n",
       "      <td>0.857982</td>\n",
       "    </tr>\n",
       "    <tr>\n",
       "      <th>4</th>\n",
       "      <td>204186</td>\n",
       "      <td>0</td>\n",
       "      <td>0.853473</td>\n",
       "    </tr>\n",
       "    <tr>\n",
       "      <th>5</th>\n",
       "      <td>184407</td>\n",
       "      <td>0</td>\n",
       "      <td>0.851065</td>\n",
       "    </tr>\n",
       "    <tr>\n",
       "      <th>6</th>\n",
       "      <td>192176</td>\n",
       "      <td>0</td>\n",
       "      <td>0.849627</td>\n",
       "    </tr>\n",
       "    <tr>\n",
       "      <th>7</th>\n",
       "      <td>191016</td>\n",
       "      <td>0</td>\n",
       "      <td>0.846939</td>\n",
       "    </tr>\n",
       "    <tr>\n",
       "      <th>8</th>\n",
       "      <td>189364</td>\n",
       "      <td>1</td>\n",
       "      <td>0.846523</td>\n",
       "    </tr>\n",
       "    <tr>\n",
       "      <th>9</th>\n",
       "      <td>183360</td>\n",
       "      <td>0</td>\n",
       "      <td>0.841807</td>\n",
       "    </tr>\n",
       "    <tr>\n",
       "      <th>10</th>\n",
       "      <td>193768</td>\n",
       "      <td>1</td>\n",
       "      <td>0.839873</td>\n",
       "    </tr>\n",
       "    <tr>\n",
       "      <th>11</th>\n",
       "      <td>194984</td>\n",
       "      <td>1</td>\n",
       "      <td>0.834261</td>\n",
       "    </tr>\n",
       "    <tr>\n",
       "      <th>12</th>\n",
       "      <td>178071</td>\n",
       "      <td>1</td>\n",
       "      <td>0.831049</td>\n",
       "    </tr>\n",
       "    <tr>\n",
       "      <th>13</th>\n",
       "      <td>180165</td>\n",
       "      <td>1</td>\n",
       "      <td>0.830540</td>\n",
       "    </tr>\n",
       "    <tr>\n",
       "      <th>14</th>\n",
       "      <td>176348</td>\n",
       "      <td>0</td>\n",
       "      <td>0.828975</td>\n",
       "    </tr>\n",
       "    <tr>\n",
       "      <th>15</th>\n",
       "      <td>166474</td>\n",
       "      <td>1</td>\n",
       "      <td>0.828191</td>\n",
       "    </tr>\n",
       "    <tr>\n",
       "      <th>16</th>\n",
       "      <td>186300</td>\n",
       "      <td>0</td>\n",
       "      <td>0.827115</td>\n",
       "    </tr>\n",
       "    <tr>\n",
       "      <th>17</th>\n",
       "      <td>179345</td>\n",
       "      <td>0</td>\n",
       "      <td>0.826491</td>\n",
       "    </tr>\n",
       "    <tr>\n",
       "      <th>18</th>\n",
       "      <td>199109</td>\n",
       "      <td>0</td>\n",
       "      <td>0.825260</td>\n",
       "    </tr>\n",
       "    <tr>\n",
       "      <th>19</th>\n",
       "      <td>177632</td>\n",
       "      <td>1</td>\n",
       "      <td>0.825222</td>\n",
       "    </tr>\n",
       "    <tr>\n",
       "      <th>20</th>\n",
       "      <td>193775</td>\n",
       "      <td>0</td>\n",
       "      <td>0.825018</td>\n",
       "    </tr>\n",
       "    <tr>\n",
       "      <th>21</th>\n",
       "      <td>182676</td>\n",
       "      <td>0</td>\n",
       "      <td>0.824293</td>\n",
       "    </tr>\n",
       "    <tr>\n",
       "      <th>22</th>\n",
       "      <td>191954</td>\n",
       "      <td>1</td>\n",
       "      <td>0.823938</td>\n",
       "    </tr>\n",
       "    <tr>\n",
       "      <th>23</th>\n",
       "      <td>206121</td>\n",
       "      <td>1</td>\n",
       "      <td>0.823737</td>\n",
       "    </tr>\n",
       "    <tr>\n",
       "      <th>24</th>\n",
       "      <td>170413</td>\n",
       "      <td>0</td>\n",
       "      <td>0.823720</td>\n",
       "    </tr>\n",
       "    <tr>\n",
       "      <th>25</th>\n",
       "      <td>198402</td>\n",
       "      <td>0</td>\n",
       "      <td>0.823531</td>\n",
       "    </tr>\n",
       "    <tr>\n",
       "      <th>26</th>\n",
       "      <td>167407</td>\n",
       "      <td>0</td>\n",
       "      <td>0.822887</td>\n",
       "    </tr>\n",
       "    <tr>\n",
       "      <th>27</th>\n",
       "      <td>195052</td>\n",
       "      <td>0</td>\n",
       "      <td>0.820781</td>\n",
       "    </tr>\n",
       "    <tr>\n",
       "      <th>28</th>\n",
       "      <td>184303</td>\n",
       "      <td>0</td>\n",
       "      <td>0.820501</td>\n",
       "    </tr>\n",
       "    <tr>\n",
       "      <th>29</th>\n",
       "      <td>190830</td>\n",
       "      <td>0</td>\n",
       "      <td>0.819219</td>\n",
       "    </tr>\n",
       "  </tbody>\n",
       "</table>\n",
       "</div>"
      ],
      "text/plain": [
       "    user_id  label     proba\n",
       "0    182928      1  0.861438\n",
       "1    191168      1  0.860640\n",
       "2    205809      0  0.859323\n",
       "3    182866      0  0.857982\n",
       "4    204186      0  0.853473\n",
       "5    184407      0  0.851065\n",
       "6    192176      0  0.849627\n",
       "7    191016      0  0.846939\n",
       "8    189364      1  0.846523\n",
       "9    183360      0  0.841807\n",
       "10   193768      1  0.839873\n",
       "11   194984      1  0.834261\n",
       "12   178071      1  0.831049\n",
       "13   180165      1  0.830540\n",
       "14   176348      0  0.828975\n",
       "15   166474      1  0.828191\n",
       "16   186300      0  0.827115\n",
       "17   179345      0  0.826491\n",
       "18   199109      0  0.825260\n",
       "19   177632      1  0.825222\n",
       "20   193775      0  0.825018\n",
       "21   182676      0  0.824293\n",
       "22   191954      1  0.823938\n",
       "23   206121      1  0.823737\n",
       "24   170413      0  0.823720\n",
       "25   198402      0  0.823531\n",
       "26   167407      0  0.822887\n",
       "27   195052      0  0.820781\n",
       "28   184303      0  0.820501\n",
       "29   190830      0  0.819219"
      ]
     },
     "execution_count": 10,
     "metadata": {},
     "output_type": "execute_result"
    }
   ],
   "source": [
    "df_predict_1.head(30)"
   ]
  },
  {
   "cell_type": "code",
   "execution_count": 11,
   "metadata": {
    "collapsed": true
   },
   "outputs": [],
   "source": [
    "df_predict_2 = pd.read_csv('../prediction/validate_none_order_proba_bag.csv')"
   ]
  },
  {
   "cell_type": "code",
   "execution_count": 14,
   "metadata": {
    "collapsed": false
   },
   "outputs": [
    {
     "data": {
      "text/html": [
       "<div>\n",
       "<table border=\"1\" class=\"dataframe\">\n",
       "  <thead>\n",
       "    <tr style=\"text-align: right;\">\n",
       "      <th></th>\n",
       "      <th>user_id</th>\n",
       "      <th>label</th>\n",
       "      <th>proba</th>\n",
       "    </tr>\n",
       "  </thead>\n",
       "  <tbody>\n",
       "    <tr>\n",
       "      <th>26385</th>\n",
       "      <td>197693</td>\n",
       "      <td>0</td>\n",
       "      <td>0.012315</td>\n",
       "    </tr>\n",
       "    <tr>\n",
       "      <th>26386</th>\n",
       "      <td>188965</td>\n",
       "      <td>0</td>\n",
       "      <td>0.012255</td>\n",
       "    </tr>\n",
       "    <tr>\n",
       "      <th>26387</th>\n",
       "      <td>177610</td>\n",
       "      <td>0</td>\n",
       "      <td>0.012100</td>\n",
       "    </tr>\n",
       "    <tr>\n",
       "      <th>26388</th>\n",
       "      <td>195545</td>\n",
       "      <td>0</td>\n",
       "      <td>0.011090</td>\n",
       "    </tr>\n",
       "    <tr>\n",
       "      <th>26389</th>\n",
       "      <td>181139</td>\n",
       "      <td>0</td>\n",
       "      <td>0.009357</td>\n",
       "    </tr>\n",
       "  </tbody>\n",
       "</table>\n",
       "</div>"
      ],
      "text/plain": [
       "       user_id  label     proba\n",
       "26385   197693      0  0.012315\n",
       "26386   188965      0  0.012255\n",
       "26387   177610      0  0.012100\n",
       "26388   195545      0  0.011090\n",
       "26389   181139      0  0.009357"
      ]
     },
     "execution_count": 14,
     "metadata": {},
     "output_type": "execute_result"
    }
   ],
   "source": [
    "df_predict_2.tail()"
   ]
  }
 ],
 "metadata": {
  "kernelspec": {
   "display_name": "Python 2",
   "language": "python",
   "name": "python2"
  },
  "language_info": {
   "codemirror_mode": {
    "name": "ipython",
    "version": 2
   },
   "file_extension": ".py",
   "mimetype": "text/x-python",
   "name": "python",
   "nbconvert_exporter": "python",
   "pygments_lexer": "ipython2",
   "version": "2.7.13"
  }
 },
 "nbformat": 4,
 "nbformat_minor": 2
}
